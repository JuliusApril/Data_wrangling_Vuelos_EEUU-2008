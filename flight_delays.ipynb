{
 "cells": [
  {
   "cell_type": "markdown",
   "metadata": {},
   "source": [
    "# USA Airlines delay on 2008 "
   ]
  },
  {
   "cell_type": "markdown",
   "metadata": {},
   "source": [
    "# 1. Carga de datos."
   ]
  },
  {
   "cell_type": "markdown",
   "metadata": {},
   "source": [
    "Carga de librerías necesarias."
   ]
  },
  {
   "cell_type": "code",
   "execution_count": 1,
   "metadata": {},
   "outputs": [],
   "source": [
    "# Carga de librerías\n",
    "\n",
    "# Data wrangling\n",
    "import numpy as np\n",
    "import pandas as pd\n",
    "from pandas.api.types import CategoricalDtype\n",
    "\n",
    "# Graficos\n",
    "import matplotlib\n",
    "import matplotlib.pyplot as plt\n",
    "%matplotlib inline \n",
    "import seaborn as sns"
   ]
  },
  {
   "cell_type": "markdown",
   "metadata": {},
   "source": [
    "---\n",
    "\n",
    "He descargado los siguientes archivos:\n",
    "\n",
    "1. DelayedFlights.csv\n",
    "2. airports.csv\n",
    "3. carriers.csv\n",
    "4. plane-data.csv\n",
    "\n",
    "de la página: https://www.kaggle.com/giovamata/airlinedelaycauses\n",
    "\n",
    "--- \n",
    " \n",
    "El dataset principal, DelayedFlights.csv contiene información de vuelos en EEUU desde los años 1987 hasta 2008. En este caso, el archivo que vamos a cargar solo contiene los datos referidos a 2008.\n",
    "\n",
    "Las variables incluidas son las siguientes: \n",
    "\n",
    "|Number |\tName |\tDescription|\n",
    "---:|:---|:---\n",
    "1| \tYear |\t1987-2008 // *La versión que hemos descargado solo tiene los datos de 2008*\n",
    "2 |\tMonth |\t1-12\n",
    "3 |\tDayofMonth |\t1-31\n",
    "4 |DayOfWeek |\t1 (Monday) - 7 (Sunday)\n",
    "5 |\tDepTime |\tactual departure time (local, hhmm)\n",
    "6 |\tCRSDepTime |\tscheduled departure time (local, hhmm)\n",
    "7 |\tArrTime |\tactual arrival time (local, hhmm)\n",
    "8 |\tCRSArrTime |\tscheduled arrival time (local, hhmm)\n",
    "9 |\tUniqueCarrier| \tunique carrier code\n",
    "10| \tFlightNum |\tflight number\n",
    "11| \tTailNum |\tplane tail number\n",
    "12| \tActualElapsedTime |\tin minutes\n",
    "13| \tCRSElapsedTime |\tin minutes\n",
    "14| \tAirTime |\tin minutes\n",
    "15| \tArrDelay |\tarrival delay, in minutes\n",
    "16| \tDepDelay |\tdeparture delay, in minutes\n",
    "17| \tOrigin |\torigin IATA airport code\n",
    "18| \tDest |\tdestination IATA airport code\n",
    "19| \tDistance |\tin miles\n",
    "20| \tTaxiIn |\ttaxi in time, in minutes\n",
    "21| \tTaxiOut |\ttaxi out time in minutes\n",
    "22| \tCancelled |\twas the flight cancelled?\n",
    "23| \tCancellationCode |\treason for cancellation (A = carrier, B = weather, C = NAS, D = security)\n",
    "24| \tDiverted |\t1 = yes, 0 = no\n",
    "25| \tCarrierDelay |\tin minutes\n",
    "26| \tWeatherDelay |\tin minutes\n",
    "27| \tNASDelay |\tin minutes\n",
    "28| \tSecurityDelay |\tin minutes\n",
    "29| \tLateAircraftDelay |\tin minutes\n"
   ]
  },
  {
   "cell_type": "code",
   "execution_count": 2,
   "metadata": {},
   "outputs": [],
   "source": [
    "# Carga del archivo principal.\n",
    "vuelos_raw=pd.read_csv('DelayedFlights.csv',sep=',')"
   ]
  },
  {
   "cell_type": "code",
   "execution_count": 3,
   "metadata": {},
   "outputs": [
    {
     "data": {
      "text/plain": [
       "20"
      ]
     },
     "execution_count": 3,
     "metadata": {},
     "output_type": "execute_result"
    }
   ],
   "source": [
    "pd.options.display.max_columns"
   ]
  },
  {
   "cell_type": "code",
   "execution_count": 4,
   "metadata": {},
   "outputs": [],
   "source": [
    "# Como hay más de veinte variables voy a modificar el número de columnas que Pandas nos mostrará.\n",
    "pd.set_option('display.max_columns', None)"
   ]
  },
  {
   "cell_type": "markdown",
   "metadata": {},
   "source": [
    "# 2. Limpieza y preprocesado del dataset."
   ]
  },
  {
   "cell_type": "markdown",
   "metadata": {},
   "source": [
    "## 2.1. Exploración inicial."
   ]
  },
  {
   "cell_type": "code",
   "execution_count": 5,
   "metadata": {},
   "outputs": [
    {
     "name": "stdout",
     "output_type": "stream",
     "text": [
      "<class 'pandas.core.frame.DataFrame'>\n",
      "RangeIndex: 1936758 entries, 0 to 1936757\n",
      "Data columns (total 30 columns):\n",
      " #   Column             Dtype  \n",
      "---  ------             -----  \n",
      " 0   Unnamed: 0         int64  \n",
      " 1   Year               int64  \n",
      " 2   Month              int64  \n",
      " 3   DayofMonth         int64  \n",
      " 4   DayOfWeek          int64  \n",
      " 5   DepTime            float64\n",
      " 6   CRSDepTime         int64  \n",
      " 7   ArrTime            float64\n",
      " 8   CRSArrTime         int64  \n",
      " 9   UniqueCarrier      object \n",
      " 10  FlightNum          int64  \n",
      " 11  TailNum            object \n",
      " 12  ActualElapsedTime  float64\n",
      " 13  CRSElapsedTime     float64\n",
      " 14  AirTime            float64\n",
      " 15  ArrDelay           float64\n",
      " 16  DepDelay           float64\n",
      " 17  Origin             object \n",
      " 18  Dest               object \n",
      " 19  Distance           int64  \n",
      " 20  TaxiIn             float64\n",
      " 21  TaxiOut            float64\n",
      " 22  Cancelled          int64  \n",
      " 23  CancellationCode   object \n",
      " 24  Diverted           int64  \n",
      " 25  CarrierDelay       float64\n",
      " 26  WeatherDelay       float64\n",
      " 27  NASDelay           float64\n",
      " 28  SecurityDelay      float64\n",
      " 29  LateAircraftDelay  float64\n",
      "dtypes: float64(14), int64(11), object(5)\n",
      "memory usage: 443.3+ MB\n"
     ]
    }
   ],
   "source": [
    "# Variables disponibles.\n",
    "vuelos_raw.info()"
   ]
  },
  {
   "cell_type": "code",
   "execution_count": 6,
   "metadata": {},
   "outputs": [
    {
     "data": {
      "text/plain": [
       "Unnamed: 0                0\n",
       "Year                      0\n",
       "Month                     0\n",
       "DayofMonth                0\n",
       "DayOfWeek                 0\n",
       "DepTime                   0\n",
       "CRSDepTime                0\n",
       "ArrTime                7110\n",
       "CRSArrTime                0\n",
       "UniqueCarrier             0\n",
       "FlightNum                 0\n",
       "TailNum                   5\n",
       "ActualElapsedTime      8387\n",
       "CRSElapsedTime          198\n",
       "AirTime                8387\n",
       "ArrDelay               8387\n",
       "DepDelay                  0\n",
       "Origin                    0\n",
       "Dest                      0\n",
       "Distance                  0\n",
       "TaxiIn                 7110\n",
       "TaxiOut                 455\n",
       "Cancelled                 0\n",
       "CancellationCode          0\n",
       "Diverted                  0\n",
       "CarrierDelay         689270\n",
       "WeatherDelay         689270\n",
       "NASDelay             689270\n",
       "SecurityDelay        689270\n",
       "LateAircraftDelay    689270\n",
       "dtype: int64"
      ]
     },
     "execution_count": 6,
     "metadata": {},
     "output_type": "execute_result"
    }
   ],
   "source": [
    "# Missing Values para el dataset.\n",
    "vuelos_raw.isna().sum()"
   ]
  },
  {
   "cell_type": "markdown",
   "metadata": {},
   "source": [
    "En una primera exploración del conjunto de datos, vemos que hay 30 variables y más de 1.900.000 observaciones. Hay una primera variable 'Unnamed:0' que parece un índice y voy a eliminar por que no aporta valor a la tabla.\n",
    "\n",
    "Entre las primeras variables tenemos los datos de año, mes, dia y días de la semana. Quiero conservar estas columnas por que me servirán para hacer agrupaciones de cara a posteriores análisis. El tipo int64 está bien inferido.\n",
    "\n",
    "A continuación en el dataset hay cuatro variables correspondientes a las horas programadas de llegada y salida y las horas reales. Parece que pandas ha inferido el tipo como int64 o float64. Para posteriores análisis quiero conservar la variable hora programada de salida ('CRSDepTime'), pero para simplificar solo quiero extraer el valor de la hora del día. Hay diferentes formas de conseguir ese valor, en este caso voy a probar a dividir entre 100 y convertir a entero.  \n",
    "\n",
    "Antes de eliminar las columnas de horas, veo que el campo ArrTime tiene 7110 valores nulos. Podría tratarse de vuelos que no llegaron a su destino, para confirmarlo comprobaremos que se corresponden con la variable 'Cancelled' o 'Diverted'.\n",
    "Como no hay dato de hora de llegada tampoco hay dato para el tiempo que el vuelo estuvo en el suelo en el aeropuerto de destino ('Taxiin')\n",
    "\n",
    "Variables como 'UniqueCarrier' me dan información sobre la compañía aérea que puedo cruzar si utilizo la tabla carriers.csv, con la variable 'tailnum' podría buscar información sobre año de fabricación de los aviones y con las variables 'Dest' y 'Origin' o 'FlightNum' puedo inferir datos geográficos como Ciudad, Estado, etc. \n",
    "\n",
    "Hay 8387 registros para los que no tenemos información del tiempo de vuelo, ni del retraso en la llegada. Estos podrían ser vuelos que nunca despegaron. Además hay 198 vuelos donde no hay información del tiempo de vuelo estimado ('CRSElapsedTime') que vamos a analizar en detenimiento para entender que ocurrió y 5 vuelos que no tienen registrada la matrícula del avión.\n",
    "\n",
    "Por último, en el dataset tengo cinco variables que son las que imputan los minutos de retraso a una causa determinada, (a la compañía, al tiempo, a la NAS, a temas de seguridad o al vuelo previo). que tienen valores Nan. Como veremos más adelante, la imputación de una causa de retraso está sujeta a que el retraso sea mayor de un valor.\n",
    "\n",
    "\n",
    "\n"
   ]
  },
  {
   "cell_type": "code",
   "execution_count": 7,
   "metadata": {
    "scrolled": false
   },
   "outputs": [
    {
     "data": {
      "text/html": [
       "<div>\n",
       "<style scoped>\n",
       "    .dataframe tbody tr th:only-of-type {\n",
       "        vertical-align: middle;\n",
       "    }\n",
       "\n",
       "    .dataframe tbody tr th {\n",
       "        vertical-align: top;\n",
       "    }\n",
       "\n",
       "    .dataframe thead th {\n",
       "        text-align: right;\n",
       "    }\n",
       "</style>\n",
       "<table border=\"1\" class=\"dataframe\">\n",
       "  <thead>\n",
       "    <tr style=\"text-align: right;\">\n",
       "      <th></th>\n",
       "      <th>Unnamed: 0</th>\n",
       "      <th>Year</th>\n",
       "      <th>Month</th>\n",
       "      <th>DayofMonth</th>\n",
       "      <th>DayOfWeek</th>\n",
       "      <th>DepTime</th>\n",
       "      <th>CRSDepTime</th>\n",
       "      <th>ArrTime</th>\n",
       "      <th>CRSArrTime</th>\n",
       "      <th>UniqueCarrier</th>\n",
       "      <th>FlightNum</th>\n",
       "      <th>TailNum</th>\n",
       "      <th>ActualElapsedTime</th>\n",
       "      <th>CRSElapsedTime</th>\n",
       "      <th>AirTime</th>\n",
       "      <th>ArrDelay</th>\n",
       "      <th>DepDelay</th>\n",
       "      <th>Origin</th>\n",
       "      <th>Dest</th>\n",
       "      <th>Distance</th>\n",
       "      <th>TaxiIn</th>\n",
       "      <th>TaxiOut</th>\n",
       "      <th>Cancelled</th>\n",
       "      <th>CancellationCode</th>\n",
       "      <th>Diverted</th>\n",
       "      <th>CarrierDelay</th>\n",
       "      <th>WeatherDelay</th>\n",
       "      <th>NASDelay</th>\n",
       "      <th>SecurityDelay</th>\n",
       "      <th>LateAircraftDelay</th>\n",
       "    </tr>\n",
       "  </thead>\n",
       "  <tbody>\n",
       "    <tr>\n",
       "      <th>294860</th>\n",
       "      <td>938194</td>\n",
       "      <td>2008</td>\n",
       "      <td>2</td>\n",
       "      <td>27</td>\n",
       "      <td>3</td>\n",
       "      <td>1423.0</td>\n",
       "      <td>1416</td>\n",
       "      <td>1632.0</td>\n",
       "      <td>1623</td>\n",
       "      <td>F9</td>\n",
       "      <td>677</td>\n",
       "      <td>N941FR</td>\n",
       "      <td>249.0</td>\n",
       "      <td>247.0</td>\n",
       "      <td>229.0</td>\n",
       "      <td>9.0</td>\n",
       "      <td>7.0</td>\n",
       "      <td>MCO</td>\n",
       "      <td>DEN</td>\n",
       "      <td>1545</td>\n",
       "      <td>5.0</td>\n",
       "      <td>15.0</td>\n",
       "      <td>0</td>\n",
       "      <td>N</td>\n",
       "      <td>0</td>\n",
       "      <td>NaN</td>\n",
       "      <td>NaN</td>\n",
       "      <td>NaN</td>\n",
       "      <td>NaN</td>\n",
       "      <td>NaN</td>\n",
       "    </tr>\n",
       "    <tr>\n",
       "      <th>294861</th>\n",
       "      <td>938203</td>\n",
       "      <td>2008</td>\n",
       "      <td>2</td>\n",
       "      <td>27</td>\n",
       "      <td>3</td>\n",
       "      <td>2106.0</td>\n",
       "      <td>2100</td>\n",
       "      <td>2220.0</td>\n",
       "      <td>2220</td>\n",
       "      <td>F9</td>\n",
       "      <td>576</td>\n",
       "      <td>N944FR</td>\n",
       "      <td>74.0</td>\n",
       "      <td>80.0</td>\n",
       "      <td>50.0</td>\n",
       "      <td>0.0</td>\n",
       "      <td>6.0</td>\n",
       "      <td>SLC</td>\n",
       "      <td>DEN</td>\n",
       "      <td>391</td>\n",
       "      <td>15.0</td>\n",
       "      <td>9.0</td>\n",
       "      <td>0</td>\n",
       "      <td>N</td>\n",
       "      <td>0</td>\n",
       "      <td>NaN</td>\n",
       "      <td>NaN</td>\n",
       "      <td>NaN</td>\n",
       "      <td>NaN</td>\n",
       "      <td>NaN</td>\n",
       "    </tr>\n",
       "    <tr>\n",
       "      <th>294862</th>\n",
       "      <td>938224</td>\n",
       "      <td>2008</td>\n",
       "      <td>2</td>\n",
       "      <td>28</td>\n",
       "      <td>4</td>\n",
       "      <td>1854.0</td>\n",
       "      <td>1807</td>\n",
       "      <td>1946.0</td>\n",
       "      <td>1902</td>\n",
       "      <td>F9</td>\n",
       "      <td>773</td>\n",
       "      <td>N201FR</td>\n",
       "      <td>112.0</td>\n",
       "      <td>115.0</td>\n",
       "      <td>91.0</td>\n",
       "      <td>44.0</td>\n",
       "      <td>47.0</td>\n",
       "      <td>DEN</td>\n",
       "      <td>LAS</td>\n",
       "      <td>629</td>\n",
       "      <td>8.0</td>\n",
       "      <td>13.0</td>\n",
       "      <td>0</td>\n",
       "      <td>N</td>\n",
       "      <td>0</td>\n",
       "      <td>44.0</td>\n",
       "      <td>0.0</td>\n",
       "      <td>0.0</td>\n",
       "      <td>0.0</td>\n",
       "      <td>0.0</td>\n",
       "    </tr>\n",
       "    <tr>\n",
       "      <th>294863</th>\n",
       "      <td>938225</td>\n",
       "      <td>2008</td>\n",
       "      <td>2</td>\n",
       "      <td>28</td>\n",
       "      <td>4</td>\n",
       "      <td>1854.0</td>\n",
       "      <td>1807</td>\n",
       "      <td>1946.0</td>\n",
       "      <td>1902</td>\n",
       "      <td>F9</td>\n",
       "      <td>773</td>\n",
       "      <td>N201FR</td>\n",
       "      <td>112.0</td>\n",
       "      <td>115.0</td>\n",
       "      <td>91.0</td>\n",
       "      <td>44.0</td>\n",
       "      <td>47.0</td>\n",
       "      <td>DEN</td>\n",
       "      <td>LAS</td>\n",
       "      <td>629</td>\n",
       "      <td>8.0</td>\n",
       "      <td>13.0</td>\n",
       "      <td>0</td>\n",
       "      <td>N</td>\n",
       "      <td>0</td>\n",
       "      <td>44.0</td>\n",
       "      <td>0.0</td>\n",
       "      <td>0.0</td>\n",
       "      <td>0.0</td>\n",
       "      <td>0.0</td>\n",
       "    </tr>\n",
       "    <tr>\n",
       "      <th>294864</th>\n",
       "      <td>938226</td>\n",
       "      <td>2008</td>\n",
       "      <td>2</td>\n",
       "      <td>28</td>\n",
       "      <td>4</td>\n",
       "      <td>2027.0</td>\n",
       "      <td>1942</td>\n",
       "      <td>2314.0</td>\n",
       "      <td>2229</td>\n",
       "      <td>F9</td>\n",
       "      <td>780</td>\n",
       "      <td>N201FR</td>\n",
       "      <td>107.0</td>\n",
       "      <td>107.0</td>\n",
       "      <td>84.0</td>\n",
       "      <td>45.0</td>\n",
       "      <td>45.0</td>\n",
       "      <td>LAS</td>\n",
       "      <td>DEN</td>\n",
       "      <td>629</td>\n",
       "      <td>10.0</td>\n",
       "      <td>13.0</td>\n",
       "      <td>0</td>\n",
       "      <td>N</td>\n",
       "      <td>0</td>\n",
       "      <td>1.0</td>\n",
       "      <td>0.0</td>\n",
       "      <td>44.0</td>\n",
       "      <td>0.0</td>\n",
       "      <td>0.0</td>\n",
       "    </tr>\n",
       "    <tr>\n",
       "      <th>294865</th>\n",
       "      <td>938227</td>\n",
       "      <td>2008</td>\n",
       "      <td>2</td>\n",
       "      <td>28</td>\n",
       "      <td>4</td>\n",
       "      <td>2027.0</td>\n",
       "      <td>1942</td>\n",
       "      <td>2314.0</td>\n",
       "      <td>2229</td>\n",
       "      <td>F9</td>\n",
       "      <td>780</td>\n",
       "      <td>N201FR</td>\n",
       "      <td>107.0</td>\n",
       "      <td>107.0</td>\n",
       "      <td>84.0</td>\n",
       "      <td>45.0</td>\n",
       "      <td>45.0</td>\n",
       "      <td>LAS</td>\n",
       "      <td>DEN</td>\n",
       "      <td>629</td>\n",
       "      <td>10.0</td>\n",
       "      <td>13.0</td>\n",
       "      <td>0</td>\n",
       "      <td>N</td>\n",
       "      <td>0</td>\n",
       "      <td>1.0</td>\n",
       "      <td>0.0</td>\n",
       "      <td>44.0</td>\n",
       "      <td>0.0</td>\n",
       "      <td>0.0</td>\n",
       "    </tr>\n",
       "    <tr>\n",
       "      <th>294866</th>\n",
       "      <td>938228</td>\n",
       "      <td>2008</td>\n",
       "      <td>2</td>\n",
       "      <td>28</td>\n",
       "      <td>4</td>\n",
       "      <td>933.0</td>\n",
       "      <td>910</td>\n",
       "      <td>1053.0</td>\n",
       "      <td>1040</td>\n",
       "      <td>F9</td>\n",
       "      <td>225</td>\n",
       "      <td>N801FR</td>\n",
       "      <td>140.0</td>\n",
       "      <td>150.0</td>\n",
       "      <td>124.0</td>\n",
       "      <td>13.0</td>\n",
       "      <td>23.0</td>\n",
       "      <td>DEN</td>\n",
       "      <td>SMF</td>\n",
       "      <td>910</td>\n",
       "      <td>5.0</td>\n",
       "      <td>11.0</td>\n",
       "      <td>0</td>\n",
       "      <td>N</td>\n",
       "      <td>0</td>\n",
       "      <td>NaN</td>\n",
       "      <td>NaN</td>\n",
       "      <td>NaN</td>\n",
       "      <td>NaN</td>\n",
       "      <td>NaN</td>\n",
       "    </tr>\n",
       "    <tr>\n",
       "      <th>294867</th>\n",
       "      <td>938229</td>\n",
       "      <td>2008</td>\n",
       "      <td>2</td>\n",
       "      <td>28</td>\n",
       "      <td>4</td>\n",
       "      <td>1126.0</td>\n",
       "      <td>1120</td>\n",
       "      <td>1438.0</td>\n",
       "      <td>1435</td>\n",
       "      <td>F9</td>\n",
       "      <td>539</td>\n",
       "      <td>N801FR</td>\n",
       "      <td>132.0</td>\n",
       "      <td>135.0</td>\n",
       "      <td>115.0</td>\n",
       "      <td>3.0</td>\n",
       "      <td>6.0</td>\n",
       "      <td>SMF</td>\n",
       "      <td>DEN</td>\n",
       "      <td>910</td>\n",
       "      <td>6.0</td>\n",
       "      <td>11.0</td>\n",
       "      <td>0</td>\n",
       "      <td>N</td>\n",
       "      <td>0</td>\n",
       "      <td>NaN</td>\n",
       "      <td>NaN</td>\n",
       "      <td>NaN</td>\n",
       "      <td>NaN</td>\n",
       "      <td>NaN</td>\n",
       "    </tr>\n",
       "    <tr>\n",
       "      <th>294868</th>\n",
       "      <td>938233</td>\n",
       "      <td>2008</td>\n",
       "      <td>2</td>\n",
       "      <td>28</td>\n",
       "      <td>4</td>\n",
       "      <td>606.0</td>\n",
       "      <td>600</td>\n",
       "      <td>853.0</td>\n",
       "      <td>849</td>\n",
       "      <td>F9</td>\n",
       "      <td>774</td>\n",
       "      <td>N802FR</td>\n",
       "      <td>107.0</td>\n",
       "      <td>109.0</td>\n",
       "      <td>83.0</td>\n",
       "      <td>4.0</td>\n",
       "      <td>6.0</td>\n",
       "      <td>LAS</td>\n",
       "      <td>DEN</td>\n",
       "      <td>629</td>\n",
       "      <td>6.0</td>\n",
       "      <td>18.0</td>\n",
       "      <td>0</td>\n",
       "      <td>N</td>\n",
       "      <td>0</td>\n",
       "      <td>NaN</td>\n",
       "      <td>NaN</td>\n",
       "      <td>NaN</td>\n",
       "      <td>NaN</td>\n",
       "      <td>NaN</td>\n",
       "    </tr>\n",
       "    <tr>\n",
       "      <th>294869</th>\n",
       "      <td>938238</td>\n",
       "      <td>2008</td>\n",
       "      <td>2</td>\n",
       "      <td>28</td>\n",
       "      <td>4</td>\n",
       "      <td>2158.0</td>\n",
       "      <td>2140</td>\n",
       "      <td>2339.0</td>\n",
       "      <td>2329</td>\n",
       "      <td>F9</td>\n",
       "      <td>861</td>\n",
       "      <td>N802FR</td>\n",
       "      <td>101.0</td>\n",
       "      <td>109.0</td>\n",
       "      <td>84.0</td>\n",
       "      <td>10.0</td>\n",
       "      <td>18.0</td>\n",
       "      <td>DEN</td>\n",
       "      <td>PHX</td>\n",
       "      <td>602</td>\n",
       "      <td>6.0</td>\n",
       "      <td>11.0</td>\n",
       "      <td>0</td>\n",
       "      <td>N</td>\n",
       "      <td>0</td>\n",
       "      <td>NaN</td>\n",
       "      <td>NaN</td>\n",
       "      <td>NaN</td>\n",
       "      <td>NaN</td>\n",
       "      <td>NaN</td>\n",
       "    </tr>\n",
       "  </tbody>\n",
       "</table>\n",
       "</div>"
      ],
      "text/plain": [
       "        Unnamed: 0  Year  Month  DayofMonth  DayOfWeek  DepTime  CRSDepTime  \\\n",
       "294860      938194  2008      2          27          3   1423.0        1416   \n",
       "294861      938203  2008      2          27          3   2106.0        2100   \n",
       "294862      938224  2008      2          28          4   1854.0        1807   \n",
       "294863      938225  2008      2          28          4   1854.0        1807   \n",
       "294864      938226  2008      2          28          4   2027.0        1942   \n",
       "294865      938227  2008      2          28          4   2027.0        1942   \n",
       "294866      938228  2008      2          28          4    933.0         910   \n",
       "294867      938229  2008      2          28          4   1126.0        1120   \n",
       "294868      938233  2008      2          28          4    606.0         600   \n",
       "294869      938238  2008      2          28          4   2158.0        2140   \n",
       "\n",
       "        ArrTime  CRSArrTime UniqueCarrier  FlightNum TailNum  \\\n",
       "294860   1632.0        1623            F9        677  N941FR   \n",
       "294861   2220.0        2220            F9        576  N944FR   \n",
       "294862   1946.0        1902            F9        773  N201FR   \n",
       "294863   1946.0        1902            F9        773  N201FR   \n",
       "294864   2314.0        2229            F9        780  N201FR   \n",
       "294865   2314.0        2229            F9        780  N201FR   \n",
       "294866   1053.0        1040            F9        225  N801FR   \n",
       "294867   1438.0        1435            F9        539  N801FR   \n",
       "294868    853.0         849            F9        774  N802FR   \n",
       "294869   2339.0        2329            F9        861  N802FR   \n",
       "\n",
       "        ActualElapsedTime  CRSElapsedTime  AirTime  ArrDelay  DepDelay Origin  \\\n",
       "294860              249.0           247.0    229.0       9.0       7.0    MCO   \n",
       "294861               74.0            80.0     50.0       0.0       6.0    SLC   \n",
       "294862              112.0           115.0     91.0      44.0      47.0    DEN   \n",
       "294863              112.0           115.0     91.0      44.0      47.0    DEN   \n",
       "294864              107.0           107.0     84.0      45.0      45.0    LAS   \n",
       "294865              107.0           107.0     84.0      45.0      45.0    LAS   \n",
       "294866              140.0           150.0    124.0      13.0      23.0    DEN   \n",
       "294867              132.0           135.0    115.0       3.0       6.0    SMF   \n",
       "294868              107.0           109.0     83.0       4.0       6.0    LAS   \n",
       "294869              101.0           109.0     84.0      10.0      18.0    DEN   \n",
       "\n",
       "       Dest  Distance  TaxiIn  TaxiOut  Cancelled CancellationCode  Diverted  \\\n",
       "294860  DEN      1545     5.0     15.0          0                N         0   \n",
       "294861  DEN       391    15.0      9.0          0                N         0   \n",
       "294862  LAS       629     8.0     13.0          0                N         0   \n",
       "294863  LAS       629     8.0     13.0          0                N         0   \n",
       "294864  DEN       629    10.0     13.0          0                N         0   \n",
       "294865  DEN       629    10.0     13.0          0                N         0   \n",
       "294866  SMF       910     5.0     11.0          0                N         0   \n",
       "294867  DEN       910     6.0     11.0          0                N         0   \n",
       "294868  DEN       629     6.0     18.0          0                N         0   \n",
       "294869  PHX       602     6.0     11.0          0                N         0   \n",
       "\n",
       "        CarrierDelay  WeatherDelay  NASDelay  SecurityDelay  LateAircraftDelay  \n",
       "294860           NaN           NaN       NaN            NaN                NaN  \n",
       "294861           NaN           NaN       NaN            NaN                NaN  \n",
       "294862          44.0           0.0       0.0            0.0                0.0  \n",
       "294863          44.0           0.0       0.0            0.0                0.0  \n",
       "294864           1.0           0.0      44.0            0.0                0.0  \n",
       "294865           1.0           0.0      44.0            0.0                0.0  \n",
       "294866           NaN           NaN       NaN            NaN                NaN  \n",
       "294867           NaN           NaN       NaN            NaN                NaN  \n",
       "294868           NaN           NaN       NaN            NaN                NaN  \n",
       "294869           NaN           NaN       NaN            NaN                NaN  "
      ]
     },
     "execution_count": 7,
     "metadata": {},
     "output_type": "execute_result"
    }
   ],
   "source": [
    "# Slice del dataset para su análisis\n",
    "vuelos_raw.iloc[294860:294870]"
   ]
  },
  {
   "cell_type": "markdown",
   "metadata": {},
   "source": [
    "Voy a generar un campo fecha que más adelante será útil para hacer agregaciones por día del año."
   ]
  },
  {
   "cell_type": "code",
   "execution_count": 8,
   "metadata": {},
   "outputs": [],
   "source": [
    "#Creado un duplicado del archivo original que voy a modificar.\n",
    "vuelos=vuelos_raw.copy()\n",
    "\n",
    "#Generar un campo con la fecha:\n",
    "vuelos.rename(columns={'DayofMonth':'Day'},inplace=True)\n",
    "vuelos['Date']=pd.to_datetime(vuelos[['Year','Month','Day']])\n"
   ]
  },
  {
   "cell_type": "code",
   "execution_count": 9,
   "metadata": {},
   "outputs": [
    {
     "data": {
      "text/plain": [
       "366"
      ]
     },
     "execution_count": 9,
     "metadata": {},
     "output_type": "execute_result"
    }
   ],
   "source": [
    "# Número de días con vuelos registrados:\n",
    "vuelos['Date'].unique().shape[0]"
   ]
  },
  {
   "cell_type": "markdown",
   "metadata": {},
   "source": [
    "El dataset ha registrado vuelos 366 días, lo que significa que 2008 era bisiesto."
   ]
  },
  {
   "cell_type": "markdown",
   "metadata": {},
   "source": [
    "## 2.2. Registros duplicados."
   ]
  },
  {
   "cell_type": "code",
   "execution_count": 10,
   "metadata": {},
   "outputs": [
    {
     "data": {
      "text/html": [
       "<div>\n",
       "<style scoped>\n",
       "    .dataframe tbody tr th:only-of-type {\n",
       "        vertical-align: middle;\n",
       "    }\n",
       "\n",
       "    .dataframe tbody tr th {\n",
       "        vertical-align: top;\n",
       "    }\n",
       "\n",
       "    .dataframe thead th {\n",
       "        text-align: right;\n",
       "    }\n",
       "</style>\n",
       "<table border=\"1\" class=\"dataframe\">\n",
       "  <thead>\n",
       "    <tr style=\"text-align: right;\">\n",
       "      <th></th>\n",
       "      <th>Unnamed: 0</th>\n",
       "      <th>Year</th>\n",
       "      <th>Month</th>\n",
       "      <th>Day</th>\n",
       "      <th>DayOfWeek</th>\n",
       "      <th>DepTime</th>\n",
       "      <th>CRSDepTime</th>\n",
       "      <th>ArrTime</th>\n",
       "      <th>CRSArrTime</th>\n",
       "      <th>UniqueCarrier</th>\n",
       "      <th>FlightNum</th>\n",
       "      <th>TailNum</th>\n",
       "      <th>ActualElapsedTime</th>\n",
       "      <th>CRSElapsedTime</th>\n",
       "      <th>AirTime</th>\n",
       "      <th>ArrDelay</th>\n",
       "      <th>DepDelay</th>\n",
       "      <th>Origin</th>\n",
       "      <th>Dest</th>\n",
       "      <th>Distance</th>\n",
       "      <th>TaxiIn</th>\n",
       "      <th>TaxiOut</th>\n",
       "      <th>Cancelled</th>\n",
       "      <th>CancellationCode</th>\n",
       "      <th>Diverted</th>\n",
       "      <th>CarrierDelay</th>\n",
       "      <th>WeatherDelay</th>\n",
       "      <th>NASDelay</th>\n",
       "      <th>SecurityDelay</th>\n",
       "      <th>LateAircraftDelay</th>\n",
       "      <th>Date</th>\n",
       "    </tr>\n",
       "  </thead>\n",
       "  <tbody>\n",
       "  </tbody>\n",
       "</table>\n",
       "</div>"
      ],
      "text/plain": [
       "Empty DataFrame\n",
       "Columns: [Unnamed: 0, Year, Month, Day, DayOfWeek, DepTime, CRSDepTime, ArrTime, CRSArrTime, UniqueCarrier, FlightNum, TailNum, ActualElapsedTime, CRSElapsedTime, AirTime, ArrDelay, DepDelay, Origin, Dest, Distance, TaxiIn, TaxiOut, Cancelled, CancellationCode, Diverted, CarrierDelay, WeatherDelay, NASDelay, SecurityDelay, LateAircraftDelay, Date]\n",
       "Index: []"
      ]
     },
     "execution_count": 10,
     "metadata": {},
     "output_type": "execute_result"
    }
   ],
   "source": [
    "# Búsqueda de duplicados\n",
    "vuelos[vuelos.duplicated()]\n",
    "# Parece que no hay duplicados"
   ]
  },
  {
   "cell_type": "code",
   "execution_count": 11,
   "metadata": {},
   "outputs": [],
   "source": [
    "# Elimino el campo unnamed: 0\n",
    "vuelos.drop(labels='Unnamed: 0', axis=1,inplace=True)"
   ]
  },
  {
   "cell_type": "code",
   "execution_count": 12,
   "metadata": {},
   "outputs": [
    {
     "data": {
      "text/plain": [
       "Index(['Year', 'Month', 'Day', 'DayOfWeek', 'DepTime', 'CRSDepTime', 'ArrTime',\n",
       "       'CRSArrTime', 'UniqueCarrier', 'FlightNum', 'TailNum',\n",
       "       'ActualElapsedTime', 'CRSElapsedTime', 'AirTime', 'ArrDelay',\n",
       "       'DepDelay', 'Origin', 'Dest', 'Distance', 'TaxiIn', 'TaxiOut',\n",
       "       'Cancelled', 'CancellationCode', 'Diverted', 'CarrierDelay',\n",
       "       'WeatherDelay', 'NASDelay', 'SecurityDelay', 'LateAircraftDelay',\n",
       "       'Date'],\n",
       "      dtype='object')"
      ]
     },
     "execution_count": 12,
     "metadata": {},
     "output_type": "execute_result"
    }
   ],
   "source": [
    "vuelos.columns"
   ]
  },
  {
   "cell_type": "code",
   "execution_count": 13,
   "metadata": {},
   "outputs": [
    {
     "data": {
      "text/html": [
       "<div>\n",
       "<style scoped>\n",
       "    .dataframe tbody tr th:only-of-type {\n",
       "        vertical-align: middle;\n",
       "    }\n",
       "\n",
       "    .dataframe tbody tr th {\n",
       "        vertical-align: top;\n",
       "    }\n",
       "\n",
       "    .dataframe thead th {\n",
       "        text-align: right;\n",
       "    }\n",
       "</style>\n",
       "<table border=\"1\" class=\"dataframe\">\n",
       "  <thead>\n",
       "    <tr style=\"text-align: right;\">\n",
       "      <th></th>\n",
       "      <th>Year</th>\n",
       "      <th>Month</th>\n",
       "      <th>Day</th>\n",
       "      <th>DayOfWeek</th>\n",
       "      <th>DepTime</th>\n",
       "      <th>CRSDepTime</th>\n",
       "      <th>ArrTime</th>\n",
       "      <th>CRSArrTime</th>\n",
       "      <th>UniqueCarrier</th>\n",
       "      <th>FlightNum</th>\n",
       "      <th>TailNum</th>\n",
       "      <th>ActualElapsedTime</th>\n",
       "      <th>CRSElapsedTime</th>\n",
       "      <th>AirTime</th>\n",
       "      <th>ArrDelay</th>\n",
       "      <th>DepDelay</th>\n",
       "      <th>Origin</th>\n",
       "      <th>Dest</th>\n",
       "      <th>Distance</th>\n",
       "      <th>TaxiIn</th>\n",
       "      <th>TaxiOut</th>\n",
       "      <th>Cancelled</th>\n",
       "      <th>CancellationCode</th>\n",
       "      <th>Diverted</th>\n",
       "      <th>CarrierDelay</th>\n",
       "      <th>WeatherDelay</th>\n",
       "      <th>NASDelay</th>\n",
       "      <th>SecurityDelay</th>\n",
       "      <th>LateAircraftDelay</th>\n",
       "      <th>Date</th>\n",
       "    </tr>\n",
       "  </thead>\n",
       "  <tbody>\n",
       "    <tr>\n",
       "      <th>294863</th>\n",
       "      <td>2008</td>\n",
       "      <td>2</td>\n",
       "      <td>28</td>\n",
       "      <td>4</td>\n",
       "      <td>1854.0</td>\n",
       "      <td>1807</td>\n",
       "      <td>1946.0</td>\n",
       "      <td>1902</td>\n",
       "      <td>F9</td>\n",
       "      <td>773</td>\n",
       "      <td>N201FR</td>\n",
       "      <td>112.0</td>\n",
       "      <td>115.0</td>\n",
       "      <td>91.0</td>\n",
       "      <td>44.0</td>\n",
       "      <td>47.0</td>\n",
       "      <td>DEN</td>\n",
       "      <td>LAS</td>\n",
       "      <td>629</td>\n",
       "      <td>8.0</td>\n",
       "      <td>13.0</td>\n",
       "      <td>0</td>\n",
       "      <td>N</td>\n",
       "      <td>0</td>\n",
       "      <td>44.0</td>\n",
       "      <td>0.0</td>\n",
       "      <td>0.0</td>\n",
       "      <td>0.0</td>\n",
       "      <td>0.0</td>\n",
       "      <td>2008-02-28</td>\n",
       "    </tr>\n",
       "    <tr>\n",
       "      <th>294865</th>\n",
       "      <td>2008</td>\n",
       "      <td>2</td>\n",
       "      <td>28</td>\n",
       "      <td>4</td>\n",
       "      <td>2027.0</td>\n",
       "      <td>1942</td>\n",
       "      <td>2314.0</td>\n",
       "      <td>2229</td>\n",
       "      <td>F9</td>\n",
       "      <td>780</td>\n",
       "      <td>N201FR</td>\n",
       "      <td>107.0</td>\n",
       "      <td>107.0</td>\n",
       "      <td>84.0</td>\n",
       "      <td>45.0</td>\n",
       "      <td>45.0</td>\n",
       "      <td>LAS</td>\n",
       "      <td>DEN</td>\n",
       "      <td>629</td>\n",
       "      <td>10.0</td>\n",
       "      <td>13.0</td>\n",
       "      <td>0</td>\n",
       "      <td>N</td>\n",
       "      <td>0</td>\n",
       "      <td>1.0</td>\n",
       "      <td>0.0</td>\n",
       "      <td>44.0</td>\n",
       "      <td>0.0</td>\n",
       "      <td>0.0</td>\n",
       "      <td>2008-02-28</td>\n",
       "    </tr>\n",
       "  </tbody>\n",
       "</table>\n",
       "</div>"
      ],
      "text/plain": [
       "        Year  Month  Day  DayOfWeek  DepTime  CRSDepTime  ArrTime  CRSArrTime  \\\n",
       "294863  2008      2   28          4   1854.0        1807   1946.0        1902   \n",
       "294865  2008      2   28          4   2027.0        1942   2314.0        2229   \n",
       "\n",
       "       UniqueCarrier  FlightNum TailNum  ActualElapsedTime  CRSElapsedTime  \\\n",
       "294863            F9        773  N201FR              112.0           115.0   \n",
       "294865            F9        780  N201FR              107.0           107.0   \n",
       "\n",
       "        AirTime  ArrDelay  DepDelay Origin Dest  Distance  TaxiIn  TaxiOut  \\\n",
       "294863     91.0      44.0      47.0    DEN  LAS       629     8.0     13.0   \n",
       "294865     84.0      45.0      45.0    LAS  DEN       629    10.0     13.0   \n",
       "\n",
       "        Cancelled CancellationCode  Diverted  CarrierDelay  WeatherDelay  \\\n",
       "294863          0                N         0          44.0           0.0   \n",
       "294865          0                N         0           1.0           0.0   \n",
       "\n",
       "        NASDelay  SecurityDelay  LateAircraftDelay       Date  \n",
       "294863       0.0            0.0                0.0 2008-02-28  \n",
       "294865      44.0            0.0                0.0 2008-02-28  "
      ]
     },
     "execution_count": 13,
     "metadata": {},
     "output_type": "execute_result"
    }
   ],
   "source": [
    "vuelos[vuelos.duplicated()]"
   ]
  },
  {
   "cell_type": "markdown",
   "metadata": {},
   "source": [
    "A primera vista, parecía que no hay observaciones duplicadas. Sin embargo, cuando eliminamos la primera columna, nos encontramos con dos registros duplicados. Procedemos a eliminarlos."
   ]
  },
  {
   "cell_type": "code",
   "execution_count": 14,
   "metadata": {},
   "outputs": [
    {
     "data": {
      "text/plain": [
       "1936756"
      ]
     },
     "execution_count": 14,
     "metadata": {},
     "output_type": "execute_result"
    }
   ],
   "source": [
    "vuelos.drop_duplicates(inplace=True)\n",
    "vuelos.shape[0]"
   ]
  },
  {
   "cell_type": "markdown",
   "metadata": {},
   "source": [
    "## 2.3. Entendiendo los _missing values_ del dataset.\n",
    "### 2.3.1. Missing values asociados a vuelos cancelados o desviados."
   ]
  },
  {
   "cell_type": "markdown",
   "metadata": {},
   "source": [
    "Hay un grupo de celdas con valores nulos en las variables _'ArrTime', 'ActualElapsedTime', 'CRSElapsedTime', 'AirTime', ArrDelay', 'TaxiIn' y 'TaxiOut'_ que da la sensación de que corresponden a vuelos cancelados o desviados. Veamos la proporción de estos incidentes y si estos valores tienen sentido. "
   ]
  },
  {
   "cell_type": "code",
   "execution_count": 15,
   "metadata": {},
   "outputs": [
    {
     "data": {
      "text/plain": [
       "0    1929002\n",
       "1       7754\n",
       "Name: Diverted, dtype: int64"
      ]
     },
     "execution_count": 15,
     "metadata": {},
     "output_type": "execute_result"
    }
   ],
   "source": [
    "vuelos['Diverted'].value_counts()"
   ]
  },
  {
   "cell_type": "code",
   "execution_count": 16,
   "metadata": {},
   "outputs": [
    {
     "data": {
      "text/plain": [
       "0    1936123\n",
       "1        633\n",
       "Name: Cancelled, dtype: int64"
      ]
     },
     "execution_count": 16,
     "metadata": {},
     "output_type": "execute_result"
    }
   ],
   "source": [
    "vuelos['Cancelled'].value_counts()"
   ]
  },
  {
   "cell_type": "code",
   "execution_count": 17,
   "metadata": {},
   "outputs": [
    {
     "name": "stdout",
     "output_type": "stream",
     "text": [
      "El total de vuelos cancelados es:  633\n",
      "El total de vuelos desviados es:  7754\n",
      "La suma de los dos incidencias es:  8387\n"
     ]
    }
   ],
   "source": [
    "#Total de vuelos cancelados\n",
    "print('El total de vuelos cancelados es: ',vuelos[vuelos['Cancelled']==1].shape[0])\n",
    "#Total de vuelos desviados\n",
    "print('El total de vuelos desviados es: ',vuelos[vuelos['Diverted']==1].shape[0])\n",
    "\n",
    "print('La suma de los dos incidencias es: ',vuelos[vuelos['Cancelled']==1].shape[0]+vuelos[vuelos['Diverted']==1].shape[0])"
   ]
  },
  {
   "cell_type": "code",
   "execution_count": 18,
   "metadata": {},
   "outputs": [
    {
     "data": {
      "text/plain": [
       "B    307\n",
       "A    246\n",
       "C     80\n",
       "Name: CancellationCode, dtype: int64"
      ]
     },
     "execution_count": 18,
     "metadata": {},
     "output_type": "execute_result"
    }
   ],
   "source": [
    "# Vuelos cancelados según causa (A = carrier, B = weather, C = NAS, D = security)\n",
    "vuelos[(vuelos['Cancelled']==1)]['CancellationCode'].value_counts()"
   ]
  },
  {
   "cell_type": "markdown",
   "metadata": {},
   "source": [
    "Parece que este grupo de variables con valores nulos corresponden a vuelos cancelados o desviados. Más adelante hablaré sobre como los voy a gestionar."
   ]
  },
  {
   "cell_type": "markdown",
   "metadata": {},
   "source": [
    "### 2.3.2. Vuelos sin información sobre la matrícula del avión."
   ]
  },
  {
   "cell_type": "markdown",
   "metadata": {},
   "source": [
    "Voy examinar aquellos vuelos que no tienen recogida la matricula del avión."
   ]
  },
  {
   "cell_type": "code",
   "execution_count": 19,
   "metadata": {
    "scrolled": true
   },
   "outputs": [
    {
     "data": {
      "text/html": [
       "<div>\n",
       "<style scoped>\n",
       "    .dataframe tbody tr th:only-of-type {\n",
       "        vertical-align: middle;\n",
       "    }\n",
       "\n",
       "    .dataframe tbody tr th {\n",
       "        vertical-align: top;\n",
       "    }\n",
       "\n",
       "    .dataframe thead th {\n",
       "        text-align: right;\n",
       "    }\n",
       "</style>\n",
       "<table border=\"1\" class=\"dataframe\">\n",
       "  <thead>\n",
       "    <tr style=\"text-align: right;\">\n",
       "      <th></th>\n",
       "      <th>Year</th>\n",
       "      <th>Month</th>\n",
       "      <th>Day</th>\n",
       "      <th>DayOfWeek</th>\n",
       "      <th>DepTime</th>\n",
       "      <th>CRSDepTime</th>\n",
       "      <th>ArrTime</th>\n",
       "      <th>CRSArrTime</th>\n",
       "      <th>UniqueCarrier</th>\n",
       "      <th>FlightNum</th>\n",
       "      <th>TailNum</th>\n",
       "      <th>ActualElapsedTime</th>\n",
       "      <th>CRSElapsedTime</th>\n",
       "      <th>AirTime</th>\n",
       "      <th>ArrDelay</th>\n",
       "      <th>DepDelay</th>\n",
       "      <th>Origin</th>\n",
       "      <th>Dest</th>\n",
       "      <th>Distance</th>\n",
       "      <th>TaxiIn</th>\n",
       "      <th>TaxiOut</th>\n",
       "      <th>Cancelled</th>\n",
       "      <th>CancellationCode</th>\n",
       "      <th>Diverted</th>\n",
       "      <th>CarrierDelay</th>\n",
       "      <th>WeatherDelay</th>\n",
       "      <th>NASDelay</th>\n",
       "      <th>SecurityDelay</th>\n",
       "      <th>LateAircraftDelay</th>\n",
       "      <th>Date</th>\n",
       "    </tr>\n",
       "  </thead>\n",
       "  <tbody>\n",
       "    <tr>\n",
       "      <th>433449</th>\n",
       "      <td>2008</td>\n",
       "      <td>3</td>\n",
       "      <td>21</td>\n",
       "      <td>5</td>\n",
       "      <td>1333.0</td>\n",
       "      <td>1320</td>\n",
       "      <td>NaN</td>\n",
       "      <td>1428</td>\n",
       "      <td>OH</td>\n",
       "      <td>5338</td>\n",
       "      <td>NaN</td>\n",
       "      <td>NaN</td>\n",
       "      <td>68.0</td>\n",
       "      <td>NaN</td>\n",
       "      <td>NaN</td>\n",
       "      <td>13.0</td>\n",
       "      <td>CVG</td>\n",
       "      <td>GRR</td>\n",
       "      <td>268</td>\n",
       "      <td>NaN</td>\n",
       "      <td>16.0</td>\n",
       "      <td>0</td>\n",
       "      <td>N</td>\n",
       "      <td>1</td>\n",
       "      <td>NaN</td>\n",
       "      <td>NaN</td>\n",
       "      <td>NaN</td>\n",
       "      <td>NaN</td>\n",
       "      <td>NaN</td>\n",
       "      <td>2008-03-21</td>\n",
       "    </tr>\n",
       "    <tr>\n",
       "      <th>523748</th>\n",
       "      <td>2008</td>\n",
       "      <td>3</td>\n",
       "      <td>18</td>\n",
       "      <td>2</td>\n",
       "      <td>1716.0</td>\n",
       "      <td>1655</td>\n",
       "      <td>2036.0</td>\n",
       "      <td>1947</td>\n",
       "      <td>9E</td>\n",
       "      <td>3760</td>\n",
       "      <td>NaN</td>\n",
       "      <td>140.0</td>\n",
       "      <td>112.0</td>\n",
       "      <td>100.0</td>\n",
       "      <td>49.0</td>\n",
       "      <td>21.0</td>\n",
       "      <td>DSM</td>\n",
       "      <td>DTW</td>\n",
       "      <td>534</td>\n",
       "      <td>11.0</td>\n",
       "      <td>29.0</td>\n",
       "      <td>0</td>\n",
       "      <td>N</td>\n",
       "      <td>0</td>\n",
       "      <td>0.0</td>\n",
       "      <td>0.0</td>\n",
       "      <td>28.0</td>\n",
       "      <td>0.0</td>\n",
       "      <td>21.0</td>\n",
       "      <td>2008-03-18</td>\n",
       "    </tr>\n",
       "    <tr>\n",
       "      <th>773772</th>\n",
       "      <td>2008</td>\n",
       "      <td>5</td>\n",
       "      <td>8</td>\n",
       "      <td>4</td>\n",
       "      <td>1545.0</td>\n",
       "      <td>1530</td>\n",
       "      <td>1711.0</td>\n",
       "      <td>1707</td>\n",
       "      <td>OH</td>\n",
       "      <td>5043</td>\n",
       "      <td>NaN</td>\n",
       "      <td>86.0</td>\n",
       "      <td>97.0</td>\n",
       "      <td>66.0</td>\n",
       "      <td>4.0</td>\n",
       "      <td>15.0</td>\n",
       "      <td>CVG</td>\n",
       "      <td>CHS</td>\n",
       "      <td>497</td>\n",
       "      <td>5.0</td>\n",
       "      <td>15.0</td>\n",
       "      <td>0</td>\n",
       "      <td>N</td>\n",
       "      <td>0</td>\n",
       "      <td>NaN</td>\n",
       "      <td>NaN</td>\n",
       "      <td>NaN</td>\n",
       "      <td>NaN</td>\n",
       "      <td>NaN</td>\n",
       "      <td>2008-05-08</td>\n",
       "    </tr>\n",
       "    <tr>\n",
       "      <th>776480</th>\n",
       "      <td>2008</td>\n",
       "      <td>5</td>\n",
       "      <td>31</td>\n",
       "      <td>6</td>\n",
       "      <td>1720.0</td>\n",
       "      <td>1244</td>\n",
       "      <td>1920.0</td>\n",
       "      <td>1427</td>\n",
       "      <td>OH</td>\n",
       "      <td>5396</td>\n",
       "      <td>NaN</td>\n",
       "      <td>120.0</td>\n",
       "      <td>103.0</td>\n",
       "      <td>72.0</td>\n",
       "      <td>293.0</td>\n",
       "      <td>276.0</td>\n",
       "      <td>RDU</td>\n",
       "      <td>JFK</td>\n",
       "      <td>426</td>\n",
       "      <td>8.0</td>\n",
       "      <td>40.0</td>\n",
       "      <td>0</td>\n",
       "      <td>N</td>\n",
       "      <td>0</td>\n",
       "      <td>0.0</td>\n",
       "      <td>276.0</td>\n",
       "      <td>17.0</td>\n",
       "      <td>0.0</td>\n",
       "      <td>0.0</td>\n",
       "      <td>2008-05-31</td>\n",
       "    </tr>\n",
       "    <tr>\n",
       "      <th>1309410</th>\n",
       "      <td>2008</td>\n",
       "      <td>8</td>\n",
       "      <td>2</td>\n",
       "      <td>6</td>\n",
       "      <td>1840.0</td>\n",
       "      <td>1305</td>\n",
       "      <td>NaN</td>\n",
       "      <td>1438</td>\n",
       "      <td>OH</td>\n",
       "      <td>5731</td>\n",
       "      <td>NaN</td>\n",
       "      <td>NaN</td>\n",
       "      <td>93.0</td>\n",
       "      <td>NaN</td>\n",
       "      <td>NaN</td>\n",
       "      <td>335.0</td>\n",
       "      <td>RDU</td>\n",
       "      <td>ATL</td>\n",
       "      <td>356</td>\n",
       "      <td>NaN</td>\n",
       "      <td>6.0</td>\n",
       "      <td>0</td>\n",
       "      <td>N</td>\n",
       "      <td>1</td>\n",
       "      <td>NaN</td>\n",
       "      <td>NaN</td>\n",
       "      <td>NaN</td>\n",
       "      <td>NaN</td>\n",
       "      <td>NaN</td>\n",
       "      <td>2008-08-02</td>\n",
       "    </tr>\n",
       "  </tbody>\n",
       "</table>\n",
       "</div>"
      ],
      "text/plain": [
       "         Year  Month  Day  DayOfWeek  DepTime  CRSDepTime  ArrTime  \\\n",
       "433449   2008      3   21          5   1333.0        1320      NaN   \n",
       "523748   2008      3   18          2   1716.0        1655   2036.0   \n",
       "773772   2008      5    8          4   1545.0        1530   1711.0   \n",
       "776480   2008      5   31          6   1720.0        1244   1920.0   \n",
       "1309410  2008      8    2          6   1840.0        1305      NaN   \n",
       "\n",
       "         CRSArrTime UniqueCarrier  FlightNum TailNum  ActualElapsedTime  \\\n",
       "433449         1428            OH       5338     NaN                NaN   \n",
       "523748         1947            9E       3760     NaN              140.0   \n",
       "773772         1707            OH       5043     NaN               86.0   \n",
       "776480         1427            OH       5396     NaN              120.0   \n",
       "1309410        1438            OH       5731     NaN                NaN   \n",
       "\n",
       "         CRSElapsedTime  AirTime  ArrDelay  DepDelay Origin Dest  Distance  \\\n",
       "433449             68.0      NaN       NaN      13.0    CVG  GRR       268   \n",
       "523748            112.0    100.0      49.0      21.0    DSM  DTW       534   \n",
       "773772             97.0     66.0       4.0      15.0    CVG  CHS       497   \n",
       "776480            103.0     72.0     293.0     276.0    RDU  JFK       426   \n",
       "1309410            93.0      NaN       NaN     335.0    RDU  ATL       356   \n",
       "\n",
       "         TaxiIn  TaxiOut  Cancelled CancellationCode  Diverted  CarrierDelay  \\\n",
       "433449      NaN     16.0          0                N         1           NaN   \n",
       "523748     11.0     29.0          0                N         0           0.0   \n",
       "773772      5.0     15.0          0                N         0           NaN   \n",
       "776480      8.0     40.0          0                N         0           0.0   \n",
       "1309410     NaN      6.0          0                N         1           NaN   \n",
       "\n",
       "         WeatherDelay  NASDelay  SecurityDelay  LateAircraftDelay       Date  \n",
       "433449            NaN       NaN            NaN                NaN 2008-03-21  \n",
       "523748            0.0      28.0            0.0               21.0 2008-03-18  \n",
       "773772            NaN       NaN            NaN                NaN 2008-05-08  \n",
       "776480          276.0      17.0            0.0                0.0 2008-05-31  \n",
       "1309410           NaN       NaN            NaN                NaN 2008-08-02  "
      ]
     },
     "execution_count": 19,
     "metadata": {},
     "output_type": "execute_result"
    }
   ],
   "source": [
    "vuelos[vuelos['TailNum'].isna()]"
   ]
  },
  {
   "cell_type": "markdown",
   "metadata": {},
   "source": [
    "Quiero explorar las coincidencias con el número de vuelo y día para ver si el vuelo era compartido con otra compañía y por eso no se informó de la matrícula del avión."
   ]
  },
  {
   "cell_type": "code",
   "execution_count": 20,
   "metadata": {},
   "outputs": [
    {
     "data": {
      "text/html": [
       "<div>\n",
       "<style scoped>\n",
       "    .dataframe tbody tr th:only-of-type {\n",
       "        vertical-align: middle;\n",
       "    }\n",
       "\n",
       "    .dataframe tbody tr th {\n",
       "        vertical-align: top;\n",
       "    }\n",
       "\n",
       "    .dataframe thead th {\n",
       "        text-align: right;\n",
       "    }\n",
       "</style>\n",
       "<table border=\"1\" class=\"dataframe\">\n",
       "  <thead>\n",
       "    <tr style=\"text-align: right;\">\n",
       "      <th></th>\n",
       "      <th>Year</th>\n",
       "      <th>Month</th>\n",
       "      <th>Day</th>\n",
       "      <th>DayOfWeek</th>\n",
       "      <th>DepTime</th>\n",
       "      <th>CRSDepTime</th>\n",
       "      <th>ArrTime</th>\n",
       "      <th>CRSArrTime</th>\n",
       "      <th>UniqueCarrier</th>\n",
       "      <th>FlightNum</th>\n",
       "      <th>TailNum</th>\n",
       "      <th>ActualElapsedTime</th>\n",
       "      <th>CRSElapsedTime</th>\n",
       "      <th>AirTime</th>\n",
       "      <th>ArrDelay</th>\n",
       "      <th>DepDelay</th>\n",
       "      <th>Origin</th>\n",
       "      <th>Dest</th>\n",
       "      <th>Distance</th>\n",
       "      <th>TaxiIn</th>\n",
       "      <th>TaxiOut</th>\n",
       "      <th>Cancelled</th>\n",
       "      <th>CancellationCode</th>\n",
       "      <th>Diverted</th>\n",
       "      <th>CarrierDelay</th>\n",
       "      <th>WeatherDelay</th>\n",
       "      <th>NASDelay</th>\n",
       "      <th>SecurityDelay</th>\n",
       "      <th>LateAircraftDelay</th>\n",
       "      <th>Date</th>\n",
       "    </tr>\n",
       "  </thead>\n",
       "  <tbody>\n",
       "    <tr>\n",
       "      <th>433449</th>\n",
       "      <td>2008</td>\n",
       "      <td>3</td>\n",
       "      <td>21</td>\n",
       "      <td>5</td>\n",
       "      <td>1333.0</td>\n",
       "      <td>1320</td>\n",
       "      <td>NaN</td>\n",
       "      <td>1428</td>\n",
       "      <td>OH</td>\n",
       "      <td>5338</td>\n",
       "      <td>NaN</td>\n",
       "      <td>NaN</td>\n",
       "      <td>68.0</td>\n",
       "      <td>NaN</td>\n",
       "      <td>NaN</td>\n",
       "      <td>13.0</td>\n",
       "      <td>CVG</td>\n",
       "      <td>GRR</td>\n",
       "      <td>268</td>\n",
       "      <td>NaN</td>\n",
       "      <td>16.0</td>\n",
       "      <td>0</td>\n",
       "      <td>N</td>\n",
       "      <td>1</td>\n",
       "      <td>NaN</td>\n",
       "      <td>NaN</td>\n",
       "      <td>NaN</td>\n",
       "      <td>NaN</td>\n",
       "      <td>NaN</td>\n",
       "      <td>2008-03-21</td>\n",
       "    </tr>\n",
       "    <tr>\n",
       "      <th>523748</th>\n",
       "      <td>2008</td>\n",
       "      <td>3</td>\n",
       "      <td>18</td>\n",
       "      <td>2</td>\n",
       "      <td>1716.0</td>\n",
       "      <td>1655</td>\n",
       "      <td>2036.0</td>\n",
       "      <td>1947</td>\n",
       "      <td>9E</td>\n",
       "      <td>3760</td>\n",
       "      <td>NaN</td>\n",
       "      <td>140.0</td>\n",
       "      <td>112.0</td>\n",
       "      <td>100.0</td>\n",
       "      <td>49.0</td>\n",
       "      <td>21.0</td>\n",
       "      <td>DSM</td>\n",
       "      <td>DTW</td>\n",
       "      <td>534</td>\n",
       "      <td>11.0</td>\n",
       "      <td>29.0</td>\n",
       "      <td>0</td>\n",
       "      <td>N</td>\n",
       "      <td>0</td>\n",
       "      <td>0.0</td>\n",
       "      <td>0.0</td>\n",
       "      <td>28.0</td>\n",
       "      <td>0.0</td>\n",
       "      <td>21.0</td>\n",
       "      <td>2008-03-18</td>\n",
       "    </tr>\n",
       "    <tr>\n",
       "      <th>773772</th>\n",
       "      <td>2008</td>\n",
       "      <td>5</td>\n",
       "      <td>8</td>\n",
       "      <td>4</td>\n",
       "      <td>1545.0</td>\n",
       "      <td>1530</td>\n",
       "      <td>1711.0</td>\n",
       "      <td>1707</td>\n",
       "      <td>OH</td>\n",
       "      <td>5043</td>\n",
       "      <td>NaN</td>\n",
       "      <td>86.0</td>\n",
       "      <td>97.0</td>\n",
       "      <td>66.0</td>\n",
       "      <td>4.0</td>\n",
       "      <td>15.0</td>\n",
       "      <td>CVG</td>\n",
       "      <td>CHS</td>\n",
       "      <td>497</td>\n",
       "      <td>5.0</td>\n",
       "      <td>15.0</td>\n",
       "      <td>0</td>\n",
       "      <td>N</td>\n",
       "      <td>0</td>\n",
       "      <td>NaN</td>\n",
       "      <td>NaN</td>\n",
       "      <td>NaN</td>\n",
       "      <td>NaN</td>\n",
       "      <td>NaN</td>\n",
       "      <td>2008-05-08</td>\n",
       "    </tr>\n",
       "    <tr>\n",
       "      <th>773773</th>\n",
       "      <td>2008</td>\n",
       "      <td>5</td>\n",
       "      <td>8</td>\n",
       "      <td>4</td>\n",
       "      <td>1130.0</td>\n",
       "      <td>1101</td>\n",
       "      <td>1518.0</td>\n",
       "      <td>1438</td>\n",
       "      <td>OH</td>\n",
       "      <td>5043</td>\n",
       "      <td>N409CA</td>\n",
       "      <td>168.0</td>\n",
       "      <td>157.0</td>\n",
       "      <td>142.0</td>\n",
       "      <td>40.0</td>\n",
       "      <td>29.0</td>\n",
       "      <td>SAT</td>\n",
       "      <td>CVG</td>\n",
       "      <td>1024</td>\n",
       "      <td>3.0</td>\n",
       "      <td>23.0</td>\n",
       "      <td>0</td>\n",
       "      <td>N</td>\n",
       "      <td>0</td>\n",
       "      <td>0.0</td>\n",
       "      <td>29.0</td>\n",
       "      <td>11.0</td>\n",
       "      <td>0.0</td>\n",
       "      <td>0.0</td>\n",
       "      <td>2008-05-08</td>\n",
       "    </tr>\n",
       "    <tr>\n",
       "      <th>776480</th>\n",
       "      <td>2008</td>\n",
       "      <td>5</td>\n",
       "      <td>31</td>\n",
       "      <td>6</td>\n",
       "      <td>1720.0</td>\n",
       "      <td>1244</td>\n",
       "      <td>1920.0</td>\n",
       "      <td>1427</td>\n",
       "      <td>OH</td>\n",
       "      <td>5396</td>\n",
       "      <td>NaN</td>\n",
       "      <td>120.0</td>\n",
       "      <td>103.0</td>\n",
       "      <td>72.0</td>\n",
       "      <td>293.0</td>\n",
       "      <td>276.0</td>\n",
       "      <td>RDU</td>\n",
       "      <td>JFK</td>\n",
       "      <td>426</td>\n",
       "      <td>8.0</td>\n",
       "      <td>40.0</td>\n",
       "      <td>0</td>\n",
       "      <td>N</td>\n",
       "      <td>0</td>\n",
       "      <td>0.0</td>\n",
       "      <td>276.0</td>\n",
       "      <td>17.0</td>\n",
       "      <td>0.0</td>\n",
       "      <td>0.0</td>\n",
       "      <td>2008-05-31</td>\n",
       "    </tr>\n",
       "    <tr>\n",
       "      <th>1309410</th>\n",
       "      <td>2008</td>\n",
       "      <td>8</td>\n",
       "      <td>2</td>\n",
       "      <td>6</td>\n",
       "      <td>1840.0</td>\n",
       "      <td>1305</td>\n",
       "      <td>NaN</td>\n",
       "      <td>1438</td>\n",
       "      <td>OH</td>\n",
       "      <td>5731</td>\n",
       "      <td>NaN</td>\n",
       "      <td>NaN</td>\n",
       "      <td>93.0</td>\n",
       "      <td>NaN</td>\n",
       "      <td>NaN</td>\n",
       "      <td>335.0</td>\n",
       "      <td>RDU</td>\n",
       "      <td>ATL</td>\n",
       "      <td>356</td>\n",
       "      <td>NaN</td>\n",
       "      <td>6.0</td>\n",
       "      <td>0</td>\n",
       "      <td>N</td>\n",
       "      <td>1</td>\n",
       "      <td>NaN</td>\n",
       "      <td>NaN</td>\n",
       "      <td>NaN</td>\n",
       "      <td>NaN</td>\n",
       "      <td>NaN</td>\n",
       "      <td>2008-08-02</td>\n",
       "    </tr>\n",
       "    <tr>\n",
       "      <th>1314533</th>\n",
       "      <td>2008</td>\n",
       "      <td>8</td>\n",
       "      <td>2</td>\n",
       "      <td>6</td>\n",
       "      <td>1349.0</td>\n",
       "      <td>1337</td>\n",
       "      <td>1512.0</td>\n",
       "      <td>1451</td>\n",
       "      <td>OO</td>\n",
       "      <td>5731</td>\n",
       "      <td>N393SW</td>\n",
       "      <td>83.0</td>\n",
       "      <td>74.0</td>\n",
       "      <td>61.0</td>\n",
       "      <td>21.0</td>\n",
       "      <td>12.0</td>\n",
       "      <td>GEG</td>\n",
       "      <td>SEA</td>\n",
       "      <td>224</td>\n",
       "      <td>6.0</td>\n",
       "      <td>16.0</td>\n",
       "      <td>0</td>\n",
       "      <td>N</td>\n",
       "      <td>0</td>\n",
       "      <td>12.0</td>\n",
       "      <td>0.0</td>\n",
       "      <td>9.0</td>\n",
       "      <td>0.0</td>\n",
       "      <td>0.0</td>\n",
       "      <td>2008-08-02</td>\n",
       "    </tr>\n",
       "    <tr>\n",
       "      <th>1384628</th>\n",
       "      <td>2008</td>\n",
       "      <td>8</td>\n",
       "      <td>2</td>\n",
       "      <td>6</td>\n",
       "      <td>1626.0</td>\n",
       "      <td>1340</td>\n",
       "      <td>1902.0</td>\n",
       "      <td>1630</td>\n",
       "      <td>9E</td>\n",
       "      <td>5731</td>\n",
       "      <td>85879E</td>\n",
       "      <td>96.0</td>\n",
       "      <td>110.0</td>\n",
       "      <td>81.0</td>\n",
       "      <td>152.0</td>\n",
       "      <td>166.0</td>\n",
       "      <td>MEM</td>\n",
       "      <td>CHS</td>\n",
       "      <td>589</td>\n",
       "      <td>3.0</td>\n",
       "      <td>12.0</td>\n",
       "      <td>0</td>\n",
       "      <td>N</td>\n",
       "      <td>0</td>\n",
       "      <td>0.0</td>\n",
       "      <td>152.0</td>\n",
       "      <td>0.0</td>\n",
       "      <td>0.0</td>\n",
       "      <td>0.0</td>\n",
       "      <td>2008-08-02</td>\n",
       "    </tr>\n",
       "  </tbody>\n",
       "</table>\n",
       "</div>"
      ],
      "text/plain": [
       "         Year  Month  Day  DayOfWeek  DepTime  CRSDepTime  ArrTime  \\\n",
       "433449   2008      3   21          5   1333.0        1320      NaN   \n",
       "523748   2008      3   18          2   1716.0        1655   2036.0   \n",
       "773772   2008      5    8          4   1545.0        1530   1711.0   \n",
       "773773   2008      5    8          4   1130.0        1101   1518.0   \n",
       "776480   2008      5   31          6   1720.0        1244   1920.0   \n",
       "1309410  2008      8    2          6   1840.0        1305      NaN   \n",
       "1314533  2008      8    2          6   1349.0        1337   1512.0   \n",
       "1384628  2008      8    2          6   1626.0        1340   1902.0   \n",
       "\n",
       "         CRSArrTime UniqueCarrier  FlightNum TailNum  ActualElapsedTime  \\\n",
       "433449         1428            OH       5338     NaN                NaN   \n",
       "523748         1947            9E       3760     NaN              140.0   \n",
       "773772         1707            OH       5043     NaN               86.0   \n",
       "773773         1438            OH       5043  N409CA              168.0   \n",
       "776480         1427            OH       5396     NaN              120.0   \n",
       "1309410        1438            OH       5731     NaN                NaN   \n",
       "1314533        1451            OO       5731  N393SW               83.0   \n",
       "1384628        1630            9E       5731  85879E               96.0   \n",
       "\n",
       "         CRSElapsedTime  AirTime  ArrDelay  DepDelay Origin Dest  Distance  \\\n",
       "433449             68.0      NaN       NaN      13.0    CVG  GRR       268   \n",
       "523748            112.0    100.0      49.0      21.0    DSM  DTW       534   \n",
       "773772             97.0     66.0       4.0      15.0    CVG  CHS       497   \n",
       "773773            157.0    142.0      40.0      29.0    SAT  CVG      1024   \n",
       "776480            103.0     72.0     293.0     276.0    RDU  JFK       426   \n",
       "1309410            93.0      NaN       NaN     335.0    RDU  ATL       356   \n",
       "1314533            74.0     61.0      21.0      12.0    GEG  SEA       224   \n",
       "1384628           110.0     81.0     152.0     166.0    MEM  CHS       589   \n",
       "\n",
       "         TaxiIn  TaxiOut  Cancelled CancellationCode  Diverted  CarrierDelay  \\\n",
       "433449      NaN     16.0          0                N         1           NaN   \n",
       "523748     11.0     29.0          0                N         0           0.0   \n",
       "773772      5.0     15.0          0                N         0           NaN   \n",
       "773773      3.0     23.0          0                N         0           0.0   \n",
       "776480      8.0     40.0          0                N         0           0.0   \n",
       "1309410     NaN      6.0          0                N         1           NaN   \n",
       "1314533     6.0     16.0          0                N         0          12.0   \n",
       "1384628     3.0     12.0          0                N         0           0.0   \n",
       "\n",
       "         WeatherDelay  NASDelay  SecurityDelay  LateAircraftDelay       Date  \n",
       "433449            NaN       NaN            NaN                NaN 2008-03-21  \n",
       "523748            0.0      28.0            0.0               21.0 2008-03-18  \n",
       "773772            NaN       NaN            NaN                NaN 2008-05-08  \n",
       "773773           29.0      11.0            0.0                0.0 2008-05-08  \n",
       "776480          276.0      17.0            0.0                0.0 2008-05-31  \n",
       "1309410           NaN       NaN            NaN                NaN 2008-08-02  \n",
       "1314533           0.0       9.0            0.0                0.0 2008-08-02  \n",
       "1384628         152.0       0.0            0.0                0.0 2008-08-02  "
      ]
     },
     "execution_count": 20,
     "metadata": {},
     "output_type": "execute_result"
    }
   ],
   "source": [
    "# Explorar coincidencias con número de vuelo y día\n",
    "vuelos.query('(FlightNum ==5043 and Day==8 and Month==5) or (FlightNum ==5338 and Day==21 and Month==3) or (FlightNum ==3760 and Day==18 and Month==3) or (FlightNum ==5396 and Day==31 and Month==5) or (FlightNum ==5731 and Day==2 and Month==8)')"
   ]
  },
  {
   "cell_type": "markdown",
   "metadata": {},
   "source": [
    "Parece que no es el caso, además resulta que el número de vuelo no es un identificador único de la ruta."
   ]
  },
  {
   "cell_type": "markdown",
   "metadata": {},
   "source": [
    "\n",
    "Por lo tanto, voy a suponer que se debe a un error de transcripción, así que imputaré a estos 5 valores Nan con la cadena 'Unknown'."
   ]
  },
  {
   "cell_type": "code",
   "execution_count": 21,
   "metadata": {},
   "outputs": [],
   "source": [
    "# Utilizando la función fillna\n",
    "vuelos.fillna({'TailNum':'Unknown'},inplace=True)\n"
   ]
  },
  {
   "cell_type": "code",
   "execution_count": 22,
   "metadata": {},
   "outputs": [
    {
     "data": {
      "text/html": [
       "<div>\n",
       "<style scoped>\n",
       "    .dataframe tbody tr th:only-of-type {\n",
       "        vertical-align: middle;\n",
       "    }\n",
       "\n",
       "    .dataframe tbody tr th {\n",
       "        vertical-align: top;\n",
       "    }\n",
       "\n",
       "    .dataframe thead th {\n",
       "        text-align: right;\n",
       "    }\n",
       "</style>\n",
       "<table border=\"1\" class=\"dataframe\">\n",
       "  <thead>\n",
       "    <tr style=\"text-align: right;\">\n",
       "      <th></th>\n",
       "      <th>Year</th>\n",
       "      <th>Month</th>\n",
       "      <th>Day</th>\n",
       "      <th>DayOfWeek</th>\n",
       "      <th>DepTime</th>\n",
       "      <th>CRSDepTime</th>\n",
       "      <th>ArrTime</th>\n",
       "      <th>CRSArrTime</th>\n",
       "      <th>UniqueCarrier</th>\n",
       "      <th>FlightNum</th>\n",
       "      <th>TailNum</th>\n",
       "      <th>ActualElapsedTime</th>\n",
       "      <th>CRSElapsedTime</th>\n",
       "      <th>AirTime</th>\n",
       "      <th>ArrDelay</th>\n",
       "      <th>DepDelay</th>\n",
       "      <th>Origin</th>\n",
       "      <th>Dest</th>\n",
       "      <th>Distance</th>\n",
       "      <th>TaxiIn</th>\n",
       "      <th>TaxiOut</th>\n",
       "      <th>Cancelled</th>\n",
       "      <th>CancellationCode</th>\n",
       "      <th>Diverted</th>\n",
       "      <th>CarrierDelay</th>\n",
       "      <th>WeatherDelay</th>\n",
       "      <th>NASDelay</th>\n",
       "      <th>SecurityDelay</th>\n",
       "      <th>LateAircraftDelay</th>\n",
       "      <th>Date</th>\n",
       "    </tr>\n",
       "  </thead>\n",
       "  <tbody>\n",
       "    <tr>\n",
       "      <th>433449</th>\n",
       "      <td>2008</td>\n",
       "      <td>3</td>\n",
       "      <td>21</td>\n",
       "      <td>5</td>\n",
       "      <td>1333.0</td>\n",
       "      <td>1320</td>\n",
       "      <td>NaN</td>\n",
       "      <td>1428</td>\n",
       "      <td>OH</td>\n",
       "      <td>5338</td>\n",
       "      <td>Unknown</td>\n",
       "      <td>NaN</td>\n",
       "      <td>68.0</td>\n",
       "      <td>NaN</td>\n",
       "      <td>NaN</td>\n",
       "      <td>13.0</td>\n",
       "      <td>CVG</td>\n",
       "      <td>GRR</td>\n",
       "      <td>268</td>\n",
       "      <td>NaN</td>\n",
       "      <td>16.0</td>\n",
       "      <td>0</td>\n",
       "      <td>N</td>\n",
       "      <td>1</td>\n",
       "      <td>NaN</td>\n",
       "      <td>NaN</td>\n",
       "      <td>NaN</td>\n",
       "      <td>NaN</td>\n",
       "      <td>NaN</td>\n",
       "      <td>2008-03-21</td>\n",
       "    </tr>\n",
       "    <tr>\n",
       "      <th>523748</th>\n",
       "      <td>2008</td>\n",
       "      <td>3</td>\n",
       "      <td>18</td>\n",
       "      <td>2</td>\n",
       "      <td>1716.0</td>\n",
       "      <td>1655</td>\n",
       "      <td>2036.0</td>\n",
       "      <td>1947</td>\n",
       "      <td>9E</td>\n",
       "      <td>3760</td>\n",
       "      <td>Unknown</td>\n",
       "      <td>140.0</td>\n",
       "      <td>112.0</td>\n",
       "      <td>100.0</td>\n",
       "      <td>49.0</td>\n",
       "      <td>21.0</td>\n",
       "      <td>DSM</td>\n",
       "      <td>DTW</td>\n",
       "      <td>534</td>\n",
       "      <td>11.0</td>\n",
       "      <td>29.0</td>\n",
       "      <td>0</td>\n",
       "      <td>N</td>\n",
       "      <td>0</td>\n",
       "      <td>0.0</td>\n",
       "      <td>0.0</td>\n",
       "      <td>28.0</td>\n",
       "      <td>0.0</td>\n",
       "      <td>21.0</td>\n",
       "      <td>2008-03-18</td>\n",
       "    </tr>\n",
       "    <tr>\n",
       "      <th>773772</th>\n",
       "      <td>2008</td>\n",
       "      <td>5</td>\n",
       "      <td>8</td>\n",
       "      <td>4</td>\n",
       "      <td>1545.0</td>\n",
       "      <td>1530</td>\n",
       "      <td>1711.0</td>\n",
       "      <td>1707</td>\n",
       "      <td>OH</td>\n",
       "      <td>5043</td>\n",
       "      <td>Unknown</td>\n",
       "      <td>86.0</td>\n",
       "      <td>97.0</td>\n",
       "      <td>66.0</td>\n",
       "      <td>4.0</td>\n",
       "      <td>15.0</td>\n",
       "      <td>CVG</td>\n",
       "      <td>CHS</td>\n",
       "      <td>497</td>\n",
       "      <td>5.0</td>\n",
       "      <td>15.0</td>\n",
       "      <td>0</td>\n",
       "      <td>N</td>\n",
       "      <td>0</td>\n",
       "      <td>NaN</td>\n",
       "      <td>NaN</td>\n",
       "      <td>NaN</td>\n",
       "      <td>NaN</td>\n",
       "      <td>NaN</td>\n",
       "      <td>2008-05-08</td>\n",
       "    </tr>\n",
       "    <tr>\n",
       "      <th>776480</th>\n",
       "      <td>2008</td>\n",
       "      <td>5</td>\n",
       "      <td>31</td>\n",
       "      <td>6</td>\n",
       "      <td>1720.0</td>\n",
       "      <td>1244</td>\n",
       "      <td>1920.0</td>\n",
       "      <td>1427</td>\n",
       "      <td>OH</td>\n",
       "      <td>5396</td>\n",
       "      <td>Unknown</td>\n",
       "      <td>120.0</td>\n",
       "      <td>103.0</td>\n",
       "      <td>72.0</td>\n",
       "      <td>293.0</td>\n",
       "      <td>276.0</td>\n",
       "      <td>RDU</td>\n",
       "      <td>JFK</td>\n",
       "      <td>426</td>\n",
       "      <td>8.0</td>\n",
       "      <td>40.0</td>\n",
       "      <td>0</td>\n",
       "      <td>N</td>\n",
       "      <td>0</td>\n",
       "      <td>0.0</td>\n",
       "      <td>276.0</td>\n",
       "      <td>17.0</td>\n",
       "      <td>0.0</td>\n",
       "      <td>0.0</td>\n",
       "      <td>2008-05-31</td>\n",
       "    </tr>\n",
       "    <tr>\n",
       "      <th>1309410</th>\n",
       "      <td>2008</td>\n",
       "      <td>8</td>\n",
       "      <td>2</td>\n",
       "      <td>6</td>\n",
       "      <td>1840.0</td>\n",
       "      <td>1305</td>\n",
       "      <td>NaN</td>\n",
       "      <td>1438</td>\n",
       "      <td>OH</td>\n",
       "      <td>5731</td>\n",
       "      <td>Unknown</td>\n",
       "      <td>NaN</td>\n",
       "      <td>93.0</td>\n",
       "      <td>NaN</td>\n",
       "      <td>NaN</td>\n",
       "      <td>335.0</td>\n",
       "      <td>RDU</td>\n",
       "      <td>ATL</td>\n",
       "      <td>356</td>\n",
       "      <td>NaN</td>\n",
       "      <td>6.0</td>\n",
       "      <td>0</td>\n",
       "      <td>N</td>\n",
       "      <td>1</td>\n",
       "      <td>NaN</td>\n",
       "      <td>NaN</td>\n",
       "      <td>NaN</td>\n",
       "      <td>NaN</td>\n",
       "      <td>NaN</td>\n",
       "      <td>2008-08-02</td>\n",
       "    </tr>\n",
       "  </tbody>\n",
       "</table>\n",
       "</div>"
      ],
      "text/plain": [
       "         Year  Month  Day  DayOfWeek  DepTime  CRSDepTime  ArrTime  \\\n",
       "433449   2008      3   21          5   1333.0        1320      NaN   \n",
       "523748   2008      3   18          2   1716.0        1655   2036.0   \n",
       "773772   2008      5    8          4   1545.0        1530   1711.0   \n",
       "776480   2008      5   31          6   1720.0        1244   1920.0   \n",
       "1309410  2008      8    2          6   1840.0        1305      NaN   \n",
       "\n",
       "         CRSArrTime UniqueCarrier  FlightNum  TailNum  ActualElapsedTime  \\\n",
       "433449         1428            OH       5338  Unknown                NaN   \n",
       "523748         1947            9E       3760  Unknown              140.0   \n",
       "773772         1707            OH       5043  Unknown               86.0   \n",
       "776480         1427            OH       5396  Unknown              120.0   \n",
       "1309410        1438            OH       5731  Unknown                NaN   \n",
       "\n",
       "         CRSElapsedTime  AirTime  ArrDelay  DepDelay Origin Dest  Distance  \\\n",
       "433449             68.0      NaN       NaN      13.0    CVG  GRR       268   \n",
       "523748            112.0    100.0      49.0      21.0    DSM  DTW       534   \n",
       "773772             97.0     66.0       4.0      15.0    CVG  CHS       497   \n",
       "776480            103.0     72.0     293.0     276.0    RDU  JFK       426   \n",
       "1309410            93.0      NaN       NaN     335.0    RDU  ATL       356   \n",
       "\n",
       "         TaxiIn  TaxiOut  Cancelled CancellationCode  Diverted  CarrierDelay  \\\n",
       "433449      NaN     16.0          0                N         1           NaN   \n",
       "523748     11.0     29.0          0                N         0           0.0   \n",
       "773772      5.0     15.0          0                N         0           NaN   \n",
       "776480      8.0     40.0          0                N         0           0.0   \n",
       "1309410     NaN      6.0          0                N         1           NaN   \n",
       "\n",
       "         WeatherDelay  NASDelay  SecurityDelay  LateAircraftDelay       Date  \n",
       "433449            NaN       NaN            NaN                NaN 2008-03-21  \n",
       "523748            0.0      28.0            0.0               21.0 2008-03-18  \n",
       "773772            NaN       NaN            NaN                NaN 2008-05-08  \n",
       "776480          276.0      17.0            0.0                0.0 2008-05-31  \n",
       "1309410           NaN       NaN            NaN                NaN 2008-08-02  "
      ]
     },
     "execution_count": 22,
     "metadata": {},
     "output_type": "execute_result"
    }
   ],
   "source": [
    "vuelos[vuelos['TailNum']=='Unknown']"
   ]
  },
  {
   "cell_type": "code",
   "execution_count": 23,
   "metadata": {},
   "outputs": [
    {
     "data": {
      "text/plain": [
       "0"
      ]
     },
     "execution_count": 23,
     "metadata": {},
     "output_type": "execute_result"
    }
   ],
   "source": [
    "vuelos['TailNum'].isna().sum()"
   ]
  },
  {
   "cell_type": "markdown",
   "metadata": {},
   "source": [
    "### 2.3.3. Missing values asociados a la causa de retraso.\n",
    "\n",
    "Como comenté en apartado inicial, hay un valor limite de tiempo de retraso por debajo del cual no se asignan valores a la causa de retraso."
   ]
  },
  {
   "cell_type": "code",
   "execution_count": 24,
   "metadata": {},
   "outputs": [
    {
     "name": "stdout",
     "output_type": "stream",
     "text": [
      "NASDelay 14.0\n",
      "WeatherDelay 14.0\n",
      "SecurityDelay 14.0\n",
      "LateAircraftDelay 14.0\n"
     ]
    }
   ],
   "source": [
    "causas=['NASDelay','WeatherDelay','SecurityDelay','LateAircraftDelay']\n",
    "for i in causas:\n",
    "    print(i,vuelos[vuelos[i].isna()].ArrDelay.max())"
   ]
  },
  {
   "cell_type": "code",
   "execution_count": 25,
   "metadata": {},
   "outputs": [
    {
     "name": "stdout",
     "output_type": "stream",
     "text": [
      "NASDelay 15.0\n",
      "WeatherDelay 15.0\n",
      "SecurityDelay 15.0\n",
      "LateAircraftDelay 15.0\n"
     ]
    }
   ],
   "source": [
    "for i in causas:\n",
    "    print(i,vuelos[vuelos[i].notnull()].ArrDelay.min())"
   ]
  },
  {
   "cell_type": "markdown",
   "metadata": {},
   "source": [
    "Los vuelos con más de 14 minutos de retraso se consideran **retrasados** y se les asigna una causa, para el resto de ocasiones tenemos un Nan. "
   ]
  },
  {
   "cell_type": "markdown",
   "metadata": {},
   "source": [
    "## 2.4. Selección y preparación de variables."
   ]
  },
  {
   "cell_type": "markdown",
   "metadata": {},
   "source": [
    "Para hacer una selección adecuada de variables, necesito tener claro cuales son las preguntas que quiero responder o dicho de otra manera, que información necesito extraer de mis datos.\n",
    "\n",
    "Para ser más concreto, estas son algunas de las respuestas que quiero conocer:\n",
    "\n",
    "- ¿Cual es la tendencia en el tiempo en el número de vuelos?.\n",
    "- ¿Está relacionada esta tendencia con el retraso en los vuelos?\n",
    "- ¿Que compañías acumulan más retrasos? \n",
    "- ¿Que aeropuertos sufren mayores retrasos?\n",
    "- ¿Cuales son los factores que más influyen en los retrasos?\n",
    "- Distancia recorrida, velocidad y antigüedad de la flota, ¿son relevantes en los retrasos?"
   ]
  },
  {
   "cell_type": "markdown",
   "metadata": {},
   "source": [
    "### 2.4.1. Variables relacionadas con la fecha y la hora.\n",
    "\n",
    "Para analizar la tendencia de vuelo voy a quedarme con una única variable, la hora del día de salida a la que estaba programado el vuelo. El resto de variables (_'DepTime', 'ArrTime', 'CRSArrTime'_) no las necesito. Como expliqué anteriormente voy a dividir entre 100 y convertir en entero el valor de la variable _'CRSDepTime'_."
   ]
  },
  {
   "cell_type": "code",
   "execution_count": 26,
   "metadata": {},
   "outputs": [],
   "source": [
    "vuelos['Hour']=(vuelos['CRSDepTime']/100).astype('int32')"
   ]
  },
  {
   "cell_type": "markdown",
   "metadata": {},
   "source": [
    "Crearé una variable que sea el día del año. "
   ]
  },
  {
   "cell_type": "code",
   "execution_count": 27,
   "metadata": {},
   "outputs": [],
   "source": [
    "# Obtengo día del año en función de la fecha\n",
    "vuelos['DayOfYear']=vuelos['Date'].dt.dayofyear.astype('int32')"
   ]
  },
  {
   "cell_type": "code",
   "execution_count": 28,
   "metadata": {},
   "outputs": [
    {
     "data": {
      "text/plain": [
       "Index(['Year', 'Month', 'Day', 'DayOfWeek', 'UniqueCarrier', 'FlightNum',\n",
       "       'TailNum', 'ActualElapsedTime', 'CRSElapsedTime', 'AirTime', 'ArrDelay',\n",
       "       'DepDelay', 'Origin', 'Dest', 'Distance', 'TaxiIn', 'TaxiOut',\n",
       "       'Cancelled', 'CancellationCode', 'Diverted', 'CarrierDelay',\n",
       "       'WeatherDelay', 'NASDelay', 'SecurityDelay', 'LateAircraftDelay',\n",
       "       'Date', 'Hour', 'DayOfYear'],\n",
       "      dtype='object')"
      ]
     },
     "execution_count": 28,
     "metadata": {},
     "output_type": "execute_result"
    }
   ],
   "source": [
    "# Elimino las columnas DepTime, ArrTime, CRSArrTime\n",
    "vuelos.drop(['CRSDepTime','DepTime', 'ArrTime', 'CRSArrTime'],inplace=True,axis=1)\n",
    "vuelos.columns"
   ]
  },
  {
   "cell_type": "markdown",
   "metadata": {},
   "source": [
    "### 2.4.2. Variables relacionadas con el retraso."
   ]
  },
  {
   "cell_type": "markdown",
   "metadata": {},
   "source": [
    "La variable que voy a usar como indicador de retraso es _'ArrDelay'_ que indica el retraso a la llegada. De momento  voy a conservar para el análisis las variables _'DepDelay', 'CarrierDelay', 'WeatherDelay', 'NASDelay', 'SecurityDelay' y 'LateAircraftDelay'._ "
   ]
  },
  {
   "cell_type": "markdown",
   "metadata": {},
   "source": [
    "Creo la variable 'Status' con los valores 'On time' si hay retraso inferior a 15 minutos, 'Delayed' si tiene retraso entre 15 minutos y una hora, 'Highly Delayed', 'Cancelled y 'Diverted' si el vuelo fue cancelado o desviado."
   ]
  },
  {
   "cell_type": "code",
   "execution_count": 29,
   "metadata": {},
   "outputs": [],
   "source": [
    "# Variable categórica / esta retrasado?\n",
    "vuelos['Status']='No'\n",
    "vuelos.loc[(vuelos['ArrDelay']<15),'Status']='On time'\n",
    "vuelos.loc[(vuelos['ArrDelay']>=15),'Status']='Delayed'\n",
    "vuelos.loc[(vuelos['ArrDelay']>=60),'Status']='Highly Delayed'\n",
    "vuelos.loc[vuelos['Diverted']==1,'Status']='Diverted'\n",
    "vuelos.loc[vuelos['Cancelled']==1,'Status']='Cancelled'\n",
    "\n"
   ]
  },
  {
   "cell_type": "code",
   "execution_count": 30,
   "metadata": {},
   "outputs": [],
   "source": [
    "# Re ordernando categoria\n",
    "\n",
    "STATUS_CAT = CategoricalDtype(categories=['On time',\n",
    "                                          'Delayed',\n",
    "                                          'Highly Delayed',\n",
    "                                          'Diverted',\n",
    "                                          'Cancelled'], \n",
    "                                          ordered=True)\n",
    "\n",
    "vuelos.Status=vuelos.Status.astype(STATUS_CAT)\n"
   ]
  },
  {
   "cell_type": "markdown",
   "metadata": {},
   "source": [
    "Las variables TaxiIn y TaxiOut indican el tiempo que el avión está en tierra antes de despegar y cuando aterriza. Este valor computa dentro del tiempo de vuelo, junto con el tiempo en el aire y en vuelos retrasados suele ser mayor. \n",
    "\n",
    "A continuación un histograma de estas variables."
   ]
  },
  {
   "cell_type": "code",
   "execution_count": 31,
   "metadata": {},
   "outputs": [
    {
     "data": {
      "image/png": "[encoded data removed]",
      "text/plain": [
       "<Figure size 864x288 with 2 Axes>"
      ]
     },
     "metadata": {
      "needs_background": "light"
     },
     "output_type": "display_data"
    }
   ],
   "source": [
    "vuelos[['TaxiOut','TaxiIn']].hist(bins=150, figsize=(12,4));"
   ]
  },
  {
   "cell_type": "markdown",
   "metadata": {},
   "source": [
    "Como se aprecia son distribuciones con asimetría positiva, donde la media no es representativa de la distribución y en este caso es mayor que la mediana. ~~Para el análisis la vamos a descartar, aunque probablemente si entrasemos a analizar en profundidad la saturación de los aeropuertos o en que aeropuertos los aviones permanece más tiempo en tierra, serían variables que podrían aportar información~~."
   ]
  },
  {
   "cell_type": "markdown",
   "metadata": {},
   "source": [
    "### 2.4.3. Variables relacionadas con la ruta del vuelo."
   ]
  },
  {
   "cell_type": "markdown",
   "metadata": {},
   "source": [
    "Voy a crear una nueva variable, la variable trayecto que me servirá para detectar que vuelos generan más retrasos."
   ]
  },
  {
   "cell_type": "code",
   "execution_count": 32,
   "metadata": {},
   "outputs": [],
   "source": [
    "vuelos['Skyway']=vuelos['Origin'].str.cat(vuelos['Dest'],sep='-')"
   ]
  },
  {
   "cell_type": "code",
   "execution_count": 33,
   "metadata": {},
   "outputs": [
    {
     "data": {
      "text/plain": [
       "(5205,)"
      ]
     },
     "execution_count": 33,
     "metadata": {},
     "output_type": "execute_result"
    }
   ],
   "source": [
    "vuelos['Skyway'].unique().shape"
   ]
  },
  {
   "cell_type": "markdown",
   "metadata": {},
   "source": [
    "Existen 5.205 trayectos diferentes. Más adelante analizaremos cuales sufren mayor retraso."
   ]
  },
  {
   "cell_type": "markdown",
   "metadata": {},
   "source": [
    "## 2.5. Combinando dataframes"
   ]
  },
  {
   "cell_type": "markdown",
   "metadata": {},
   "source": [
    "Además de este dataset tengo a mi disposición tres dataset más con datos sobre los aeropuertos, las compañías y los aviones.\n",
    "\n",
    "Vamos a selecionar que información podría ser útil para responder a nuestras preguntas.\n",
    "\n",
    "A continuación cargaré los csv correspondientes y los prepararé para unir con el dataset original. Utilizaré el comando merge y haré un \"join\" tipo \"left\", por que quiero que me mantenga todos los registros del dataset vuelos_c y me carge los registros coincidentes de la segunda tabla."
   ]
  },
  {
   "cell_type": "markdown",
   "metadata": {},
   "source": [
    "### 2.5.1. Aviones."
   ]
  },
  {
   "cell_type": "code",
   "execution_count": 34,
   "metadata": {},
   "outputs": [],
   "source": [
    "# Cargo la información de los aviones.\n",
    "aviones=pd.read_csv('plane-data.csv')"
   ]
  },
  {
   "cell_type": "code",
   "execution_count": 35,
   "metadata": {},
   "outputs": [
    {
     "name": "stdout",
     "output_type": "stream",
     "text": [
      "<class 'pandas.core.frame.DataFrame'>\n",
      "RangeIndex: 5029 entries, 0 to 5028\n",
      "Data columns (total 9 columns):\n",
      " #   Column         Non-Null Count  Dtype \n",
      "---  ------         --------------  ----- \n",
      " 0   tailnum        5029 non-null   object\n",
      " 1   type           4480 non-null   object\n",
      " 2   manufacturer   4480 non-null   object\n",
      " 3   issue_date     4480 non-null   object\n",
      " 4   model          4480 non-null   object\n",
      " 5   status         4480 non-null   object\n",
      " 6   aircraft_type  4480 non-null   object\n",
      " 7   engine_type    4480 non-null   object\n",
      " 8   year           4480 non-null   object\n",
      "dtypes: object(9)\n",
      "memory usage: 353.7+ KB\n"
     ]
    }
   ],
   "source": [
    "aviones.info()"
   ]
  },
  {
   "cell_type": "code",
   "execution_count": 36,
   "metadata": {},
   "outputs": [
    {
     "data": {
      "text/html": [
       "<div>\n",
       "<style scoped>\n",
       "    .dataframe tbody tr th:only-of-type {\n",
       "        vertical-align: middle;\n",
       "    }\n",
       "\n",
       "    .dataframe tbody tr th {\n",
       "        vertical-align: top;\n",
       "    }\n",
       "\n",
       "    .dataframe thead th {\n",
       "        text-align: right;\n",
       "    }\n",
       "</style>\n",
       "<table border=\"1\" class=\"dataframe\">\n",
       "  <thead>\n",
       "    <tr style=\"text-align: right;\">\n",
       "      <th></th>\n",
       "      <th>tailnum</th>\n",
       "      <th>type</th>\n",
       "      <th>manufacturer</th>\n",
       "      <th>issue_date</th>\n",
       "      <th>model</th>\n",
       "      <th>status</th>\n",
       "      <th>aircraft_type</th>\n",
       "      <th>engine_type</th>\n",
       "      <th>year</th>\n",
       "    </tr>\n",
       "  </thead>\n",
       "  <tbody>\n",
       "    <tr>\n",
       "      <th>5026</th>\n",
       "      <td>N998DL</td>\n",
       "      <td>Corporation</td>\n",
       "      <td>MCDONNELL DOUGLAS CORPORATION</td>\n",
       "      <td>04/02/1992</td>\n",
       "      <td>MD-88</td>\n",
       "      <td>Valid</td>\n",
       "      <td>Fixed Wing Multi-Engine</td>\n",
       "      <td>Turbo-Jet</td>\n",
       "      <td>1992</td>\n",
       "    </tr>\n",
       "    <tr>\n",
       "      <th>5027</th>\n",
       "      <td>N999CA</td>\n",
       "      <td>Foreign Corporation</td>\n",
       "      <td>CANADAIR</td>\n",
       "      <td>07/09/2008</td>\n",
       "      <td>CL-600-2B19</td>\n",
       "      <td>Valid</td>\n",
       "      <td>Fixed Wing Multi-Engine</td>\n",
       "      <td>Turbo-Jet</td>\n",
       "      <td>1998</td>\n",
       "    </tr>\n",
       "    <tr>\n",
       "      <th>5028</th>\n",
       "      <td>N999DN</td>\n",
       "      <td>Corporation</td>\n",
       "      <td>MCDONNELL DOUGLAS CORPORATION</td>\n",
       "      <td>04/02/1992</td>\n",
       "      <td>MD-88</td>\n",
       "      <td>Valid</td>\n",
       "      <td>Fixed Wing Multi-Engine</td>\n",
       "      <td>Turbo-Jet</td>\n",
       "      <td>1992</td>\n",
       "    </tr>\n",
       "  </tbody>\n",
       "</table>\n",
       "</div>"
      ],
      "text/plain": [
       "     tailnum                 type                   manufacturer  issue_date  \\\n",
       "5026  N998DL          Corporation  MCDONNELL DOUGLAS CORPORATION  04/02/1992   \n",
       "5027  N999CA  Foreign Corporation                       CANADAIR  07/09/2008   \n",
       "5028  N999DN          Corporation  MCDONNELL DOUGLAS CORPORATION  04/02/1992   \n",
       "\n",
       "            model status            aircraft_type engine_type  year  \n",
       "5026        MD-88  Valid  Fixed Wing Multi-Engine   Turbo-Jet  1992  \n",
       "5027  CL-600-2B19  Valid  Fixed Wing Multi-Engine   Turbo-Jet  1998  \n",
       "5028        MD-88  Valid  Fixed Wing Multi-Engine   Turbo-Jet  1992  "
      ]
     },
     "execution_count": 36,
     "metadata": {},
     "output_type": "execute_result"
    }
   ],
   "source": [
    "aviones.tail(3)"
   ]
  },
  {
   "cell_type": "markdown",
   "metadata": {},
   "source": [
    "Parece que hay un conjunto de aviones de los que no hay datos. He revisado alguna de estas matrículas y parace que no tienen el formato expedido por la ATA. Podría tratarse de aeronaves matriculadas en otro país, también podría tratarse de una matrícula antigua con un formato no reconocido o bien se puede deber a un error en la transcripción.   \n",
    "\n",
    "De esta tabla voy a extraer el año de fabricación.\n",
    "\n",
    "Por lo tanto eliminaré las filas sin información."
   ]
  },
  {
   "cell_type": "code",
   "execution_count": 37,
   "metadata": {},
   "outputs": [],
   "source": [
    "# Elimino Nan\n",
    "aviones.dropna(inplace=True)"
   ]
  },
  {
   "cell_type": "code",
   "execution_count": 38,
   "metadata": {},
   "outputs": [
    {
     "data": {
      "text/plain": [
       "tailnum          0\n",
       "type             0\n",
       "manufacturer     0\n",
       "issue_date       0\n",
       "model            0\n",
       "status           0\n",
       "aircraft_type    0\n",
       "engine_type      0\n",
       "year             0\n",
       "dtype: int64"
      ]
     },
     "execution_count": 38,
     "metadata": {},
     "output_type": "execute_result"
    }
   ],
   "source": [
    "# Duplicados\n",
    "aviones[aviones.duplicated()].count()"
   ]
  },
  {
   "cell_type": "code",
   "execution_count": 39,
   "metadata": {},
   "outputs": [
    {
     "data": {
      "text/plain": [
       "array(['2004', '1998', '1986', '1999', '2002', '1994', '2003', '2005',\n",
       "       '2006', '2000', '2001', '1997', '1995', '1996', '1987', '1985',\n",
       "       'None', '1988', '1968', '1990', '1991', '1969', '1970', '1992',\n",
       "       '1993', '1965', '1989', '1959', '1980', '2008', '1983', '0000',\n",
       "       '1984', '2007', '1967', '1975', '1979', '1957', '1974', '1978',\n",
       "       '1963', '1956', '1972', '1962', '1973', '1982', '1976', '1964',\n",
       "       '1977', '1946', '1966', '1971'], dtype=object)"
      ]
     },
     "execution_count": 39,
     "metadata": {},
     "output_type": "execute_result"
    }
   ],
   "source": [
    "# Valores únicos de año de manufactura.\n",
    "aviones.year.unique()"
   ]
  },
  {
   "cell_type": "markdown",
   "metadata": {},
   "source": [
    "El campo año de manufactura tiene dos valores fuera de lo esperado, 'None' y '0000'. Vamos a analizar estos datos y ver si puedo imputar algún valor a esta columna."
   ]
  },
  {
   "cell_type": "code",
   "execution_count": 40,
   "metadata": {},
   "outputs": [
    {
     "data": {
      "text/html": [
       "<div>\n",
       "<style scoped>\n",
       "    .dataframe tbody tr th:only-of-type {\n",
       "        vertical-align: middle;\n",
       "    }\n",
       "\n",
       "    .dataframe tbody tr th {\n",
       "        vertical-align: top;\n",
       "    }\n",
       "\n",
       "    .dataframe thead th {\n",
       "        text-align: right;\n",
       "    }\n",
       "</style>\n",
       "<table border=\"1\" class=\"dataframe\">\n",
       "  <thead>\n",
       "    <tr style=\"text-align: right;\">\n",
       "      <th></th>\n",
       "      <th>tailnum</th>\n",
       "      <th>type</th>\n",
       "      <th>manufacturer</th>\n",
       "      <th>issue_date</th>\n",
       "      <th>model</th>\n",
       "      <th>status</th>\n",
       "      <th>aircraft_type</th>\n",
       "      <th>engine_type</th>\n",
       "      <th>year</th>\n",
       "    </tr>\n",
       "  </thead>\n",
       "  <tbody>\n",
       "    <tr>\n",
       "      <th>138</th>\n",
       "      <td>N12528</td>\n",
       "      <td>Corporation</td>\n",
       "      <td>EMBRAER</td>\n",
       "      <td>05/31/2002</td>\n",
       "      <td>EMB-135LR</td>\n",
       "      <td>Valid</td>\n",
       "      <td>Fixed Wing Multi-Engine</td>\n",
       "      <td>Turbo-Fan</td>\n",
       "      <td>None</td>\n",
       "    </tr>\n",
       "    <tr>\n",
       "      <th>280</th>\n",
       "      <td>N14558</td>\n",
       "      <td>Corporation</td>\n",
       "      <td>EMBRAER</td>\n",
       "      <td>05/29/2002</td>\n",
       "      <td>EMB-145LR</td>\n",
       "      <td>Valid</td>\n",
       "      <td>Fixed Wing Multi-Engine</td>\n",
       "      <td>Turbo-Fan</td>\n",
       "      <td>None</td>\n",
       "    </tr>\n",
       "    <tr>\n",
       "      <th>342</th>\n",
       "      <td>N15555</td>\n",
       "      <td>Corporation</td>\n",
       "      <td>EMBRAER</td>\n",
       "      <td>06/07/2002</td>\n",
       "      <td>EMB-145LR</td>\n",
       "      <td>Valid</td>\n",
       "      <td>Fixed Wing Multi-Engine</td>\n",
       "      <td>Turbo-Fan</td>\n",
       "      <td>None</td>\n",
       "    </tr>\n",
       "    <tr>\n",
       "      <th>344</th>\n",
       "      <td>N15574</td>\n",
       "      <td>Corporation</td>\n",
       "      <td>EMBRAER</td>\n",
       "      <td>10/02/2002</td>\n",
       "      <td>EMB-145LR</td>\n",
       "      <td>Valid</td>\n",
       "      <td>Fixed Wing Multi-Engine</td>\n",
       "      <td>Turbo-Fan</td>\n",
       "      <td>None</td>\n",
       "    </tr>\n",
       "    <tr>\n",
       "      <th>481</th>\n",
       "      <td>N17358</td>\n",
       "      <td>Corporation</td>\n",
       "      <td>BOMBARDIER INC</td>\n",
       "      <td>12/29/2000</td>\n",
       "      <td>CL-600-2B19</td>\n",
       "      <td>Valid</td>\n",
       "      <td>Fixed Wing Multi-Engine</td>\n",
       "      <td>Turbo-Fan</td>\n",
       "      <td>None</td>\n",
       "    </tr>\n",
       "    <tr>\n",
       "      <th>...</th>\n",
       "      <td>...</td>\n",
       "      <td>...</td>\n",
       "      <td>...</td>\n",
       "      <td>...</td>\n",
       "      <td>...</td>\n",
       "      <td>...</td>\n",
       "      <td>...</td>\n",
       "      <td>...</td>\n",
       "      <td>...</td>\n",
       "    </tr>\n",
       "    <tr>\n",
       "      <th>4882</th>\n",
       "      <td>N958UW</td>\n",
       "      <td>Corporation</td>\n",
       "      <td>EMBRAER</td>\n",
       "      <td>04/04/2008</td>\n",
       "      <td>ERJ 190-100 IGW</td>\n",
       "      <td>Valid</td>\n",
       "      <td>Fixed Wing Multi-Engine</td>\n",
       "      <td>Turbo-Fan</td>\n",
       "      <td>None</td>\n",
       "    </tr>\n",
       "    <tr>\n",
       "      <th>4887</th>\n",
       "      <td>N959UW</td>\n",
       "      <td>Corporation</td>\n",
       "      <td>EMBRAER</td>\n",
       "      <td>04/18/2008</td>\n",
       "      <td>ERJ 190-100 IGW</td>\n",
       "      <td>Valid</td>\n",
       "      <td>Fixed Wing Multi-Engine</td>\n",
       "      <td>Turbo-Fan</td>\n",
       "      <td>None</td>\n",
       "    </tr>\n",
       "    <tr>\n",
       "      <th>4982</th>\n",
       "      <td>N983AT</td>\n",
       "      <td>Corporation</td>\n",
       "      <td>BOEING</td>\n",
       "      <td>12/07/2005</td>\n",
       "      <td>717-200</td>\n",
       "      <td>Valid</td>\n",
       "      <td>Fixed Wing Multi-Engine</td>\n",
       "      <td>Turbo-Fan</td>\n",
       "      <td>None</td>\n",
       "    </tr>\n",
       "    <tr>\n",
       "      <th>4992</th>\n",
       "      <td>N986CA</td>\n",
       "      <td>Corporation</td>\n",
       "      <td>CANADAIR</td>\n",
       "      <td>02/04/2008</td>\n",
       "      <td>CL-600-2B19</td>\n",
       "      <td>Valid</td>\n",
       "      <td>Fixed Wing Multi-Engine</td>\n",
       "      <td>Turbo-Jet</td>\n",
       "      <td>None</td>\n",
       "    </tr>\n",
       "    <tr>\n",
       "      <th>5009</th>\n",
       "      <td>N991AT</td>\n",
       "      <td>Corporation</td>\n",
       "      <td>BOEING</td>\n",
       "      <td>08/29/2002</td>\n",
       "      <td>717-200</td>\n",
       "      <td>Valid</td>\n",
       "      <td>Fixed Wing Multi-Engine</td>\n",
       "      <td>Turbo-Fan</td>\n",
       "      <td>None</td>\n",
       "    </tr>\n",
       "  </tbody>\n",
       "</table>\n",
       "<p>145 rows × 9 columns</p>\n",
       "</div>"
      ],
      "text/plain": [
       "     tailnum         type    manufacturer  issue_date            model status  \\\n",
       "138   N12528  Corporation         EMBRAER  05/31/2002        EMB-135LR  Valid   \n",
       "280   N14558  Corporation         EMBRAER  05/29/2002        EMB-145LR  Valid   \n",
       "342   N15555  Corporation         EMBRAER  06/07/2002        EMB-145LR  Valid   \n",
       "344   N15574  Corporation         EMBRAER  10/02/2002        EMB-145LR  Valid   \n",
       "481   N17358  Corporation  BOMBARDIER INC  12/29/2000      CL-600-2B19  Valid   \n",
       "...      ...          ...             ...         ...              ...    ...   \n",
       "4882  N958UW  Corporation         EMBRAER  04/04/2008  ERJ 190-100 IGW  Valid   \n",
       "4887  N959UW  Corporation         EMBRAER  04/18/2008  ERJ 190-100 IGW  Valid   \n",
       "4982  N983AT  Corporation          BOEING  12/07/2005          717-200  Valid   \n",
       "4992  N986CA  Corporation        CANADAIR  02/04/2008      CL-600-2B19  Valid   \n",
       "5009  N991AT  Corporation          BOEING  08/29/2002          717-200  Valid   \n",
       "\n",
       "                aircraft_type engine_type  year  \n",
       "138   Fixed Wing Multi-Engine   Turbo-Fan  None  \n",
       "280   Fixed Wing Multi-Engine   Turbo-Fan  None  \n",
       "342   Fixed Wing Multi-Engine   Turbo-Fan  None  \n",
       "344   Fixed Wing Multi-Engine   Turbo-Fan  None  \n",
       "481   Fixed Wing Multi-Engine   Turbo-Fan  None  \n",
       "...                       ...         ...   ...  \n",
       "4882  Fixed Wing Multi-Engine   Turbo-Fan  None  \n",
       "4887  Fixed Wing Multi-Engine   Turbo-Fan  None  \n",
       "4982  Fixed Wing Multi-Engine   Turbo-Fan  None  \n",
       "4992  Fixed Wing Multi-Engine   Turbo-Jet  None  \n",
       "5009  Fixed Wing Multi-Engine   Turbo-Fan  None  \n",
       "\n",
       "[145 rows x 9 columns]"
      ]
     },
     "execution_count": 40,
     "metadata": {},
     "output_type": "execute_result"
    }
   ],
   "source": [
    "aviones.loc[(aviones['year']=='None'),:]"
   ]
  },
  {
   "cell_type": "code",
   "execution_count": 41,
   "metadata": {},
   "outputs": [
    {
     "data": {
      "text/html": [
       "<div>\n",
       "<style scoped>\n",
       "    .dataframe tbody tr th:only-of-type {\n",
       "        vertical-align: middle;\n",
       "    }\n",
       "\n",
       "    .dataframe tbody tr th {\n",
       "        vertical-align: top;\n",
       "    }\n",
       "\n",
       "    .dataframe thead th {\n",
       "        text-align: right;\n",
       "    }\n",
       "</style>\n",
       "<table border=\"1\" class=\"dataframe\">\n",
       "  <thead>\n",
       "    <tr style=\"text-align: right;\">\n",
       "      <th></th>\n",
       "      <th>tailnum</th>\n",
       "      <th>type</th>\n",
       "      <th>manufacturer</th>\n",
       "      <th>issue_date</th>\n",
       "      <th>model</th>\n",
       "      <th>status</th>\n",
       "      <th>aircraft_type</th>\n",
       "      <th>engine_type</th>\n",
       "      <th>year</th>\n",
       "    </tr>\n",
       "  </thead>\n",
       "  <tbody>\n",
       "    <tr>\n",
       "      <th>725</th>\n",
       "      <td>N235SW</td>\n",
       "      <td>Corporation</td>\n",
       "      <td>EMBRAER</td>\n",
       "      <td>03/19/1996</td>\n",
       "      <td>EMB-120ER</td>\n",
       "      <td>Valid</td>\n",
       "      <td>Fixed Wing Multi-Engine</td>\n",
       "      <td>Turbo-Prop</td>\n",
       "      <td>0000</td>\n",
       "    </tr>\n",
       "    <tr>\n",
       "      <th>962</th>\n",
       "      <td>N298AE</td>\n",
       "      <td>Corporation</td>\n",
       "      <td>SAAB-SCANIA</td>\n",
       "      <td>05/15/1998</td>\n",
       "      <td>SAAB 340B</td>\n",
       "      <td>Valid</td>\n",
       "      <td>Fixed Wing Multi-Engine</td>\n",
       "      <td>Turbo-Prop</td>\n",
       "      <td>0000</td>\n",
       "    </tr>\n",
       "    <tr>\n",
       "      <th>1489</th>\n",
       "      <td>N384AE</td>\n",
       "      <td>Corporation</td>\n",
       "      <td>SAAB-SCANIA</td>\n",
       "      <td>10/29/1996</td>\n",
       "      <td>SAAB 340B</td>\n",
       "      <td>Valid</td>\n",
       "      <td>Fixed Wing Multi-Engine</td>\n",
       "      <td>Turbo-Prop</td>\n",
       "      <td>0000</td>\n",
       "    </tr>\n",
       "  </tbody>\n",
       "</table>\n",
       "</div>"
      ],
      "text/plain": [
       "     tailnum         type manufacturer  issue_date      model status  \\\n",
       "725   N235SW  Corporation      EMBRAER  03/19/1996  EMB-120ER  Valid   \n",
       "962   N298AE  Corporation  SAAB-SCANIA  05/15/1998  SAAB 340B  Valid   \n",
       "1489  N384AE  Corporation  SAAB-SCANIA  10/29/1996  SAAB 340B  Valid   \n",
       "\n",
       "                aircraft_type engine_type  year  \n",
       "725   Fixed Wing Multi-Engine  Turbo-Prop  0000  \n",
       "962   Fixed Wing Multi-Engine  Turbo-Prop  0000  \n",
       "1489  Fixed Wing Multi-Engine  Turbo-Prop  0000  "
      ]
     },
     "execution_count": 41,
     "metadata": {},
     "output_type": "execute_result"
    }
   ],
   "source": [
    "aviones.loc[(aviones['year']=='0000'),:]"
   ]
  },
  {
   "cell_type": "markdown",
   "metadata": {},
   "source": [
    "Hay un total de 148 registros sin el año de fabricación. Voy a extraer el año en que se registró la aeronave _issue_date_ y asumo que será igual que el año de fabricación."
   ]
  },
  {
   "cell_type": "code",
   "execution_count": 42,
   "metadata": {},
   "outputs": [
    {
     "data": {
      "text/html": [
       "<div>\n",
       "<style scoped>\n",
       "    .dataframe tbody tr th:only-of-type {\n",
       "        vertical-align: middle;\n",
       "    }\n",
       "\n",
       "    .dataframe tbody tr th {\n",
       "        vertical-align: top;\n",
       "    }\n",
       "\n",
       "    .dataframe thead th {\n",
       "        text-align: right;\n",
       "    }\n",
       "</style>\n",
       "<table border=\"1\" class=\"dataframe\">\n",
       "  <thead>\n",
       "    <tr style=\"text-align: right;\">\n",
       "      <th></th>\n",
       "      <th>tailnum</th>\n",
       "      <th>type</th>\n",
       "      <th>manufacturer</th>\n",
       "      <th>issue_date</th>\n",
       "      <th>model</th>\n",
       "      <th>status</th>\n",
       "      <th>aircraft_type</th>\n",
       "      <th>engine_type</th>\n",
       "      <th>year</th>\n",
       "    </tr>\n",
       "  </thead>\n",
       "  <tbody>\n",
       "    <tr>\n",
       "      <th>172</th>\n",
       "      <td>N13161</td>\n",
       "      <td>Corporation</td>\n",
       "      <td>EMBRAER</td>\n",
       "      <td>04/29/2004</td>\n",
       "      <td>EMB-145XR</td>\n",
       "      <td>Valid</td>\n",
       "      <td>Fixed Wing Multi-Engine</td>\n",
       "      <td>Turbo-Fan</td>\n",
       "      <td>2004</td>\n",
       "    </tr>\n",
       "    <tr>\n",
       "      <th>314</th>\n",
       "      <td>N14937</td>\n",
       "      <td>Corporation</td>\n",
       "      <td>EMBRAER</td>\n",
       "      <td>02/23/1998</td>\n",
       "      <td>EMB-145EP</td>\n",
       "      <td>Valid</td>\n",
       "      <td>Fixed Wing Multi-Engine</td>\n",
       "      <td>Turbo-Jet</td>\n",
       "      <td>1997</td>\n",
       "    </tr>\n",
       "    <tr>\n",
       "      <th>763</th>\n",
       "      <td>N245AY</td>\n",
       "      <td>Corporation</td>\n",
       "      <td>BOEING</td>\n",
       "      <td>04/24/2007</td>\n",
       "      <td>767-201</td>\n",
       "      <td>Valid</td>\n",
       "      <td>Fixed Wing Multi-Engine</td>\n",
       "      <td>Turbo-Jet</td>\n",
       "      <td>1987</td>\n",
       "    </tr>\n",
       "    <tr>\n",
       "      <th>1001</th>\n",
       "      <td>N306UA</td>\n",
       "      <td>Corporation</td>\n",
       "      <td>BOEING</td>\n",
       "      <td>02/19/1987</td>\n",
       "      <td>737-322</td>\n",
       "      <td>Valid</td>\n",
       "      <td>Fixed Wing Multi-Engine</td>\n",
       "      <td>Turbo-Fan</td>\n",
       "      <td>1987</td>\n",
       "    </tr>\n",
       "    <tr>\n",
       "      <th>1546</th>\n",
       "      <td>N398CA</td>\n",
       "      <td>Corporation</td>\n",
       "      <td>BOMBARDIER INC</td>\n",
       "      <td>08/22/2003</td>\n",
       "      <td>CL-600-2C10</td>\n",
       "      <td>Valid</td>\n",
       "      <td>Fixed Wing Multi-Engine</td>\n",
       "      <td>Turbo-Fan</td>\n",
       "      <td>2003</td>\n",
       "    </tr>\n",
       "  </tbody>\n",
       "</table>\n",
       "</div>"
      ],
      "text/plain": [
       "     tailnum         type    manufacturer  issue_date        model status  \\\n",
       "172   N13161  Corporation         EMBRAER  04/29/2004    EMB-145XR  Valid   \n",
       "314   N14937  Corporation         EMBRAER  02/23/1998    EMB-145EP  Valid   \n",
       "763   N245AY  Corporation          BOEING  04/24/2007      767-201  Valid   \n",
       "1001  N306UA  Corporation          BOEING  02/19/1987      737-322  Valid   \n",
       "1546  N398CA  Corporation  BOMBARDIER INC  08/22/2003  CL-600-2C10  Valid   \n",
       "\n",
       "                aircraft_type engine_type  year  \n",
       "172   Fixed Wing Multi-Engine   Turbo-Fan  2004  \n",
       "314   Fixed Wing Multi-Engine   Turbo-Jet  1997  \n",
       "763   Fixed Wing Multi-Engine   Turbo-Jet  1987  \n",
       "1001  Fixed Wing Multi-Engine   Turbo-Fan  1987  \n",
       "1546  Fixed Wing Multi-Engine   Turbo-Fan  2003  "
      ]
     },
     "execution_count": 42,
     "metadata": {},
     "output_type": "execute_result"
    }
   ],
   "source": [
    "# Extraigo el año del campo Issue_date y lo asigno a year.\n",
    "aviones.loc[(aviones['year']=='None')|(aviones['year']=='0000'),'year']=aviones['issue_date'].str.split('/',expand=True)[2]\n",
    "aviones.loc[aviones['year']=='None',:]\n",
    "aviones.iloc[[138,280,725,962,1489],:]"
   ]
  },
  {
   "cell_type": "code",
   "execution_count": 43,
   "metadata": {},
   "outputs": [
    {
     "data": {
      "text/plain": [
       "array(['2004', '1998', '1986', '1999', '2002', '1994', '2003', '2005',\n",
       "       '2006', '2000', '2001', '1997', '1995', '1996', '1987', '1985',\n",
       "       '1988', '1968', '1990', '1991', '1969', '1970', '1992', '1993',\n",
       "       '1965', '1989', '1959', '2008', '1980', '1983', '1984', '2007',\n",
       "       '1967', '1975', '1979', '1957', '1974', '1978', '1963', '1956',\n",
       "       '1972', '1977', '1962', '1973', '1982', '1976', '1964', '1946',\n",
       "       '1966', '1971'], dtype=object)"
      ]
     },
     "execution_count": 43,
     "metadata": {},
     "output_type": "execute_result"
    }
   ],
   "source": [
    "aviones.year.unique()"
   ]
  },
  {
   "cell_type": "markdown",
   "metadata": {},
   "source": [
    "Ahora que tengo todos los aviones con un año de fabricación solo tengo que cambiar el tipo a entero."
   ]
  },
  {
   "cell_type": "code",
   "execution_count": 44,
   "metadata": {},
   "outputs": [],
   "source": [
    "aviones['Manuf_year']=aviones['year'].astype('int')\n"
   ]
  },
  {
   "cell_type": "code",
   "execution_count": 45,
   "metadata": {},
   "outputs": [
    {
     "data": {
      "text/plain": [
       "count    4480.000000\n",
       "mean     1997.061607\n",
       "std         7.554151\n",
       "min      1946.000000\n",
       "25%      1992.000000\n",
       "50%      1999.000000\n",
       "75%      2002.000000\n",
       "max      2008.000000\n",
       "Name: Manuf_year, dtype: float64"
      ]
     },
     "execution_count": 45,
     "metadata": {},
     "output_type": "execute_result"
    }
   ],
   "source": [
    "aviones['Manuf_year'].describe()"
   ]
  },
  {
   "cell_type": "code",
   "execution_count": 46,
   "metadata": {},
   "outputs": [],
   "source": [
    "vuelos_c=vuelos.merge(aviones[['Manuf_year']],how='left', left_on='TailNum',right_on=aviones['tailnum'])"
   ]
  },
  {
   "cell_type": "markdown",
   "metadata": {},
   "source": [
    "### 2.5.2. Compañías."
   ]
  },
  {
   "cell_type": "code",
   "execution_count": 47,
   "metadata": {},
   "outputs": [],
   "source": [
    "# Carga de los datos de las compañías.\n",
    "carriers=pd.read_csv('carriers.csv')"
   ]
  },
  {
   "cell_type": "code",
   "execution_count": 48,
   "metadata": {},
   "outputs": [
    {
     "name": "stdout",
     "output_type": "stream",
     "text": [
      "<class 'pandas.core.frame.DataFrame'>\n",
      "RangeIndex: 1491 entries, 0 to 1490\n",
      "Data columns (total 2 columns):\n",
      " #   Column       Non-Null Count  Dtype \n",
      "---  ------       --------------  ----- \n",
      " 0   Code         1490 non-null   object\n",
      " 1   Description  1491 non-null   object\n",
      "dtypes: object(2)\n",
      "memory usage: 23.4+ KB\n"
     ]
    }
   ],
   "source": [
    "carriers.info()"
   ]
  },
  {
   "cell_type": "code",
   "execution_count": 49,
   "metadata": {},
   "outputs": [
    {
     "data": {
      "text/html": [
       "<div>\n",
       "<style scoped>\n",
       "    .dataframe tbody tr th:only-of-type {\n",
       "        vertical-align: middle;\n",
       "    }\n",
       "\n",
       "    .dataframe tbody tr th {\n",
       "        vertical-align: top;\n",
       "    }\n",
       "\n",
       "    .dataframe thead th {\n",
       "        text-align: right;\n",
       "    }\n",
       "</style>\n",
       "<table border=\"1\" class=\"dataframe\">\n",
       "  <thead>\n",
       "    <tr style=\"text-align: right;\">\n",
       "      <th></th>\n",
       "      <th>Code</th>\n",
       "      <th>Description</th>\n",
       "    </tr>\n",
       "  </thead>\n",
       "  <tbody>\n",
       "    <tr>\n",
       "      <th>0</th>\n",
       "      <td>02Q</td>\n",
       "      <td>Titan Airways</td>\n",
       "    </tr>\n",
       "    <tr>\n",
       "      <th>1</th>\n",
       "      <td>04Q</td>\n",
       "      <td>Tradewind Aviation</td>\n",
       "    </tr>\n",
       "    <tr>\n",
       "      <th>2</th>\n",
       "      <td>05Q</td>\n",
       "      <td>Comlux Aviation, AG</td>\n",
       "    </tr>\n",
       "    <tr>\n",
       "      <th>3</th>\n",
       "      <td>06Q</td>\n",
       "      <td>Master Top Linhas Aereas Ltd.</td>\n",
       "    </tr>\n",
       "    <tr>\n",
       "      <th>4</th>\n",
       "      <td>07Q</td>\n",
       "      <td>Flair Airlines Ltd.</td>\n",
       "    </tr>\n",
       "  </tbody>\n",
       "</table>\n",
       "</div>"
      ],
      "text/plain": [
       "  Code                    Description\n",
       "0  02Q                  Titan Airways\n",
       "1  04Q             Tradewind Aviation\n",
       "2  05Q            Comlux Aviation, AG\n",
       "3  06Q  Master Top Linhas Aereas Ltd.\n",
       "4  07Q            Flair Airlines Ltd."
      ]
     },
     "execution_count": 49,
     "metadata": {},
     "output_type": "execute_result"
    }
   ],
   "source": [
    "carriers.head()"
   ]
  },
  {
   "cell_type": "code",
   "execution_count": 50,
   "metadata": {},
   "outputs": [
    {
     "data": {
      "text/html": [
       "<div>\n",
       "<style scoped>\n",
       "    .dataframe tbody tr th:only-of-type {\n",
       "        vertical-align: middle;\n",
       "    }\n",
       "\n",
       "    .dataframe tbody tr th {\n",
       "        vertical-align: top;\n",
       "    }\n",
       "\n",
       "    .dataframe thead th {\n",
       "        text-align: right;\n",
       "    }\n",
       "</style>\n",
       "<table border=\"1\" class=\"dataframe\">\n",
       "  <thead>\n",
       "    <tr style=\"text-align: right;\">\n",
       "      <th></th>\n",
       "      <th>Code</th>\n",
       "      <th>Description</th>\n",
       "    </tr>\n",
       "  </thead>\n",
       "  <tbody>\n",
       "    <tr>\n",
       "      <th>873</th>\n",
       "      <td>NaN</td>\n",
       "      <td>North American Airlines</td>\n",
       "    </tr>\n",
       "  </tbody>\n",
       "</table>\n",
       "</div>"
      ],
      "text/plain": [
       "    Code              Description\n",
       "873  NaN  North American Airlines"
      ]
     },
     "execution_count": 50,
     "metadata": {},
     "output_type": "execute_result"
    }
   ],
   "source": [
    "carriers[carriers['Code'].isna()]"
   ]
  },
  {
   "cell_type": "code",
   "execution_count": 51,
   "metadata": {},
   "outputs": [
    {
     "data": {
      "text/html": [
       "<div>\n",
       "<style scoped>\n",
       "    .dataframe tbody tr th:only-of-type {\n",
       "        vertical-align: middle;\n",
       "    }\n",
       "\n",
       "    .dataframe tbody tr th {\n",
       "        vertical-align: top;\n",
       "    }\n",
       "\n",
       "    .dataframe thead th {\n",
       "        text-align: right;\n",
       "    }\n",
       "</style>\n",
       "<table border=\"1\" class=\"dataframe\">\n",
       "  <thead>\n",
       "    <tr style=\"text-align: right;\">\n",
       "      <th></th>\n",
       "      <th>Code</th>\n",
       "      <th>Description</th>\n",
       "    </tr>\n",
       "  </thead>\n",
       "  <tbody>\n",
       "    <tr>\n",
       "      <th>873</th>\n",
       "      <td>NaN</td>\n",
       "      <td>North American Airlines</td>\n",
       "    </tr>\n",
       "  </tbody>\n",
       "</table>\n",
       "</div>"
      ],
      "text/plain": [
       "    Code              Description\n",
       "873  NaN  North American Airlines"
      ]
     },
     "execution_count": 51,
     "metadata": {},
     "output_type": "execute_result"
    }
   ],
   "source": [
    "carriers[carriers['Description']=='North American Airlines']"
   ]
  },
  {
   "cell_type": "code",
   "execution_count": 52,
   "metadata": {},
   "outputs": [
    {
     "data": {
      "text/plain": [
       "Code           0.0\n",
       "Description    0.0\n",
       "dtype: float64"
      ]
     },
     "execution_count": 52,
     "metadata": {},
     "output_type": "execute_result"
    }
   ],
   "source": [
    "# Duplicados\n",
    "carriers[carriers.duplicated()].sum()"
   ]
  },
  {
   "cell_type": "code",
   "execution_count": 53,
   "metadata": {},
   "outputs": [],
   "source": [
    "vuelos_c=vuelos_c.merge(carriers['Description'],how='left', left_on='UniqueCarrier',right_on=carriers['Code'])"
   ]
  },
  {
   "cell_type": "markdown",
   "metadata": {},
   "source": [
    "### 2.5.3. Aeropuertos."
   ]
  },
  {
   "cell_type": "code",
   "execution_count": 54,
   "metadata": {},
   "outputs": [],
   "source": [
    "# Carga de la base de datos de aeropuertos.\n",
    "airports=pd.read_csv('airports.csv')"
   ]
  },
  {
   "cell_type": "code",
   "execution_count": 55,
   "metadata": {},
   "outputs": [
    {
     "name": "stdout",
     "output_type": "stream",
     "text": [
      "<class 'pandas.core.frame.DataFrame'>\n",
      "RangeIndex: 3376 entries, 0 to 3375\n",
      "Data columns (total 7 columns):\n",
      " #   Column   Non-Null Count  Dtype  \n",
      "---  ------   --------------  -----  \n",
      " 0   iata     3376 non-null   object \n",
      " 1   airport  3376 non-null   object \n",
      " 2   city     3364 non-null   object \n",
      " 3   state    3364 non-null   object \n",
      " 4   country  3376 non-null   object \n",
      " 5   lat      3376 non-null   float64\n",
      " 6   long     3376 non-null   float64\n",
      "dtypes: float64(2), object(5)\n",
      "memory usage: 184.8+ KB\n"
     ]
    }
   ],
   "source": [
    "airports.info()"
   ]
  },
  {
   "cell_type": "code",
   "execution_count": 56,
   "metadata": {},
   "outputs": [
    {
     "data": {
      "text/html": [
       "<div>\n",
       "<style scoped>\n",
       "    .dataframe tbody tr th:only-of-type {\n",
       "        vertical-align: middle;\n",
       "    }\n",
       "\n",
       "    .dataframe tbody tr th {\n",
       "        vertical-align: top;\n",
       "    }\n",
       "\n",
       "    .dataframe thead th {\n",
       "        text-align: right;\n",
       "    }\n",
       "</style>\n",
       "<table border=\"1\" class=\"dataframe\">\n",
       "  <thead>\n",
       "    <tr style=\"text-align: right;\">\n",
       "      <th></th>\n",
       "      <th>iata</th>\n",
       "      <th>airport</th>\n",
       "      <th>city</th>\n",
       "      <th>state</th>\n",
       "      <th>country</th>\n",
       "      <th>lat</th>\n",
       "      <th>long</th>\n",
       "    </tr>\n",
       "  </thead>\n",
       "  <tbody>\n",
       "    <tr>\n",
       "      <th>0</th>\n",
       "      <td>00M</td>\n",
       "      <td>Thigpen</td>\n",
       "      <td>Bay Springs</td>\n",
       "      <td>MS</td>\n",
       "      <td>USA</td>\n",
       "      <td>31.953765</td>\n",
       "      <td>-89.234505</td>\n",
       "    </tr>\n",
       "    <tr>\n",
       "      <th>1</th>\n",
       "      <td>00R</td>\n",
       "      <td>Livingston Municipal</td>\n",
       "      <td>Livingston</td>\n",
       "      <td>TX</td>\n",
       "      <td>USA</td>\n",
       "      <td>30.685861</td>\n",
       "      <td>-95.017928</td>\n",
       "    </tr>\n",
       "    <tr>\n",
       "      <th>2</th>\n",
       "      <td>00V</td>\n",
       "      <td>Meadow Lake</td>\n",
       "      <td>Colorado Springs</td>\n",
       "      <td>CO</td>\n",
       "      <td>USA</td>\n",
       "      <td>38.945749</td>\n",
       "      <td>-104.569893</td>\n",
       "    </tr>\n",
       "    <tr>\n",
       "      <th>3</th>\n",
       "      <td>01G</td>\n",
       "      <td>Perry-Warsaw</td>\n",
       "      <td>Perry</td>\n",
       "      <td>NY</td>\n",
       "      <td>USA</td>\n",
       "      <td>42.741347</td>\n",
       "      <td>-78.052081</td>\n",
       "    </tr>\n",
       "    <tr>\n",
       "      <th>4</th>\n",
       "      <td>01J</td>\n",
       "      <td>Hilliard Airpark</td>\n",
       "      <td>Hilliard</td>\n",
       "      <td>FL</td>\n",
       "      <td>USA</td>\n",
       "      <td>30.688012</td>\n",
       "      <td>-81.905944</td>\n",
       "    </tr>\n",
       "  </tbody>\n",
       "</table>\n",
       "</div>"
      ],
      "text/plain": [
       "  iata               airport              city state country        lat  \\\n",
       "0  00M              Thigpen        Bay Springs    MS     USA  31.953765   \n",
       "1  00R  Livingston Municipal        Livingston    TX     USA  30.685861   \n",
       "2  00V           Meadow Lake  Colorado Springs    CO     USA  38.945749   \n",
       "3  01G          Perry-Warsaw             Perry    NY     USA  42.741347   \n",
       "4  01J      Hilliard Airpark          Hilliard    FL     USA  30.688012   \n",
       "\n",
       "         long  \n",
       "0  -89.234505  \n",
       "1  -95.017928  \n",
       "2 -104.569893  \n",
       "3  -78.052081  \n",
       "4  -81.905944  "
      ]
     },
     "execution_count": 56,
     "metadata": {},
     "output_type": "execute_result"
    }
   ],
   "source": [
    "airports.head()"
   ]
  },
  {
   "cell_type": "code",
   "execution_count": 57,
   "metadata": {},
   "outputs": [
    {
     "data": {
      "text/plain": [
       "array(['MS', 'TX', 'CO', 'NY', 'FL', 'AL', 'WI', 'OH', 'MO', 'MN', 'IN',\n",
       "       'NV', 'IL', 'ND', 'MI', 'NE', 'GA', 'DC', 'TN', 'AK', 'ME', 'MA',\n",
       "       'VT', 'SD', 'NM', 'OK', 'KS', 'KY', 'IA', 'AR', 'LA', 'CA', 'WA',\n",
       "       'VA', 'AZ', 'PA', 'NJ', 'OR', 'NC', 'UT', 'MT', 'ID', 'CT', 'SC',\n",
       "       'NH', 'MD', 'DE', 'WV', 'WY', 'PR', 'RI', nan, 'AS', 'CQ', 'GU',\n",
       "       'HI', 'VI'], dtype=object)"
      ]
     },
     "execution_count": 57,
     "metadata": {},
     "output_type": "execute_result"
    }
   ],
   "source": [
    "airports.state.unique()"
   ]
  },
  {
   "cell_type": "markdown",
   "metadata": {},
   "source": [
    "57 corresponde a 50 estados + 1 distrito federal + 5 territorios + un Nan."
   ]
  },
  {
   "cell_type": "code",
   "execution_count": 58,
   "metadata": {},
   "outputs": [
    {
     "data": {
      "text/html": [
       "<div>\n",
       "<style scoped>\n",
       "    .dataframe tbody tr th:only-of-type {\n",
       "        vertical-align: middle;\n",
       "    }\n",
       "\n",
       "    .dataframe tbody tr th {\n",
       "        vertical-align: top;\n",
       "    }\n",
       "\n",
       "    .dataframe thead th {\n",
       "        text-align: right;\n",
       "    }\n",
       "</style>\n",
       "<table border=\"1\" class=\"dataframe\">\n",
       "  <thead>\n",
       "    <tr style=\"text-align: right;\">\n",
       "      <th></th>\n",
       "      <th>iata</th>\n",
       "      <th>airport</th>\n",
       "      <th>city</th>\n",
       "      <th>state</th>\n",
       "      <th>country</th>\n",
       "      <th>lat</th>\n",
       "      <th>long</th>\n",
       "    </tr>\n",
       "  </thead>\n",
       "  <tbody>\n",
       "    <tr>\n",
       "      <th>1136</th>\n",
       "      <td>CLD</td>\n",
       "      <td>MC Clellan-Palomar Airport</td>\n",
       "      <td>NaN</td>\n",
       "      <td>NaN</td>\n",
       "      <td>USA</td>\n",
       "      <td>33.127231</td>\n",
       "      <td>-117.278727</td>\n",
       "    </tr>\n",
       "    <tr>\n",
       "      <th>1715</th>\n",
       "      <td>HHH</td>\n",
       "      <td>Hilton Head</td>\n",
       "      <td>NaN</td>\n",
       "      <td>NaN</td>\n",
       "      <td>USA</td>\n",
       "      <td>32.224384</td>\n",
       "      <td>-80.697629</td>\n",
       "    </tr>\n",
       "    <tr>\n",
       "      <th>2251</th>\n",
       "      <td>MIB</td>\n",
       "      <td>Minot AFB</td>\n",
       "      <td>NaN</td>\n",
       "      <td>NaN</td>\n",
       "      <td>USA</td>\n",
       "      <td>48.415769</td>\n",
       "      <td>-101.358039</td>\n",
       "    </tr>\n",
       "    <tr>\n",
       "      <th>2312</th>\n",
       "      <td>MQT</td>\n",
       "      <td>Marquette County Airport</td>\n",
       "      <td>NaN</td>\n",
       "      <td>NaN</td>\n",
       "      <td>USA</td>\n",
       "      <td>46.353639</td>\n",
       "      <td>-87.395361</td>\n",
       "    </tr>\n",
       "    <tr>\n",
       "      <th>2752</th>\n",
       "      <td>RCA</td>\n",
       "      <td>Ellsworth AFB</td>\n",
       "      <td>NaN</td>\n",
       "      <td>NaN</td>\n",
       "      <td>USA</td>\n",
       "      <td>44.145094</td>\n",
       "      <td>-103.103567</td>\n",
       "    </tr>\n",
       "    <tr>\n",
       "      <th>2759</th>\n",
       "      <td>RDR</td>\n",
       "      <td>Grand Forks AFB</td>\n",
       "      <td>NaN</td>\n",
       "      <td>NaN</td>\n",
       "      <td>USA</td>\n",
       "      <td>47.961167</td>\n",
       "      <td>-97.401167</td>\n",
       "    </tr>\n",
       "    <tr>\n",
       "      <th>2794</th>\n",
       "      <td>ROP</td>\n",
       "      <td>Prachinburi</td>\n",
       "      <td>NaN</td>\n",
       "      <td>NaN</td>\n",
       "      <td>Thailand</td>\n",
       "      <td>14.078333</td>\n",
       "      <td>101.378334</td>\n",
       "    </tr>\n",
       "    <tr>\n",
       "      <th>2795</th>\n",
       "      <td>ROR</td>\n",
       "      <td>Babelthoup/Koror</td>\n",
       "      <td>NaN</td>\n",
       "      <td>NaN</td>\n",
       "      <td>Palau</td>\n",
       "      <td>7.367222</td>\n",
       "      <td>134.544167</td>\n",
       "    </tr>\n",
       "    <tr>\n",
       "      <th>2900</th>\n",
       "      <td>SCE</td>\n",
       "      <td>University Park</td>\n",
       "      <td>NaN</td>\n",
       "      <td>NaN</td>\n",
       "      <td>USA</td>\n",
       "      <td>40.851206</td>\n",
       "      <td>-77.846302</td>\n",
       "    </tr>\n",
       "    <tr>\n",
       "      <th>2964</th>\n",
       "      <td>SKA</td>\n",
       "      <td>Fairchild AFB</td>\n",
       "      <td>NaN</td>\n",
       "      <td>NaN</td>\n",
       "      <td>USA</td>\n",
       "      <td>47.615058</td>\n",
       "      <td>-117.655803</td>\n",
       "    </tr>\n",
       "    <tr>\n",
       "      <th>3001</th>\n",
       "      <td>SPN</td>\n",
       "      <td>Tinian International Airport</td>\n",
       "      <td>NaN</td>\n",
       "      <td>NaN</td>\n",
       "      <td>N Mariana Islands</td>\n",
       "      <td>14.996111</td>\n",
       "      <td>145.621384</td>\n",
       "    </tr>\n",
       "    <tr>\n",
       "      <th>3355</th>\n",
       "      <td>YAP</td>\n",
       "      <td>Yap International</td>\n",
       "      <td>NaN</td>\n",
       "      <td>NaN</td>\n",
       "      <td>Federated States of Micronesia</td>\n",
       "      <td>9.516700</td>\n",
       "      <td>138.100000</td>\n",
       "    </tr>\n",
       "  </tbody>\n",
       "</table>\n",
       "</div>"
      ],
      "text/plain": [
       "     iata                       airport city state  \\\n",
       "1136  CLD    MC Clellan-Palomar Airport  NaN   NaN   \n",
       "1715  HHH                   Hilton Head  NaN   NaN   \n",
       "2251  MIB                     Minot AFB  NaN   NaN   \n",
       "2312  MQT      Marquette County Airport  NaN   NaN   \n",
       "2752  RCA                 Ellsworth AFB  NaN   NaN   \n",
       "2759  RDR               Grand Forks AFB  NaN   NaN   \n",
       "2794  ROP                   Prachinburi  NaN   NaN   \n",
       "2795  ROR              Babelthoup/Koror  NaN   NaN   \n",
       "2900  SCE               University Park  NaN   NaN   \n",
       "2964  SKA                 Fairchild AFB  NaN   NaN   \n",
       "3001  SPN  Tinian International Airport  NaN   NaN   \n",
       "3355  YAP             Yap International  NaN   NaN   \n",
       "\n",
       "                             country        lat        long  \n",
       "1136                             USA  33.127231 -117.278727  \n",
       "1715                             USA  32.224384  -80.697629  \n",
       "2251                             USA  48.415769 -101.358039  \n",
       "2312                             USA  46.353639  -87.395361  \n",
       "2752                             USA  44.145094 -103.103567  \n",
       "2759                             USA  47.961167  -97.401167  \n",
       "2794                        Thailand  14.078333  101.378334  \n",
       "2795                           Palau   7.367222  134.544167  \n",
       "2900                             USA  40.851206  -77.846302  \n",
       "2964                             USA  47.615058 -117.655803  \n",
       "3001               N Mariana Islands  14.996111  145.621384  \n",
       "3355  Federated States of Micronesia   9.516700  138.100000  "
      ]
     },
     "execution_count": 58,
     "metadata": {},
     "output_type": "execute_result"
    }
   ],
   "source": [
    "airports[airports['state'].isna()]"
   ]
  },
  {
   "cell_type": "code",
   "execution_count": 59,
   "metadata": {},
   "outputs": [
    {
     "data": {
      "text/plain": [
       "Int64Index([1136, 1715, 2251, 2312, 2752, 2759, 2794, 2795, 2900, 2964, 3001,\n",
       "            3355],\n",
       "           dtype='int64')"
      ]
     },
     "execution_count": 59,
     "metadata": {},
     "output_type": "execute_result"
    }
   ],
   "source": [
    "airports[airports['state'].isna()].index"
   ]
  },
  {
   "cell_type": "code",
   "execution_count": 60,
   "metadata": {},
   "outputs": [
    {
     "data": {
      "text/html": [
       "<div>\n",
       "<style scoped>\n",
       "    .dataframe tbody tr th:only-of-type {\n",
       "        vertical-align: middle;\n",
       "    }\n",
       "\n",
       "    .dataframe tbody tr th {\n",
       "        vertical-align: top;\n",
       "    }\n",
       "\n",
       "    .dataframe thead th {\n",
       "        text-align: right;\n",
       "    }\n",
       "</style>\n",
       "<table border=\"1\" class=\"dataframe\">\n",
       "  <thead>\n",
       "    <tr style=\"text-align: right;\">\n",
       "      <th></th>\n",
       "      <th>iata</th>\n",
       "      <th>airport</th>\n",
       "      <th>city</th>\n",
       "      <th>state</th>\n",
       "      <th>country</th>\n",
       "      <th>lat</th>\n",
       "      <th>long</th>\n",
       "    </tr>\n",
       "  </thead>\n",
       "  <tbody>\n",
       "    <tr>\n",
       "      <th>3001</th>\n",
       "      <td>SPN</td>\n",
       "      <td>Tinian International Airport</td>\n",
       "      <td>NaN</td>\n",
       "      <td>NaN</td>\n",
       "      <td>N Mariana Islands</td>\n",
       "      <td>14.996111</td>\n",
       "      <td>145.621384</td>\n",
       "    </tr>\n",
       "  </tbody>\n",
       "</table>\n",
       "</div>"
      ],
      "text/plain": [
       "     iata                       airport city state            country  \\\n",
       "3001  SPN  Tinian International Airport  NaN   NaN  N Mariana Islands   \n",
       "\n",
       "            lat        long  \n",
       "3001  14.996111  145.621384  "
      ]
     },
     "execution_count": 60,
     "metadata": {},
     "output_type": "execute_result"
    }
   ],
   "source": [
    "airports[airports['country']=='N Mariana Islands']"
   ]
  },
  {
   "cell_type": "code",
   "execution_count": 61,
   "metadata": {},
   "outputs": [
    {
     "data": {
      "text/html": [
       "<div>\n",
       "<style scoped>\n",
       "    .dataframe tbody tr th:only-of-type {\n",
       "        vertical-align: middle;\n",
       "    }\n",
       "\n",
       "    .dataframe tbody tr th {\n",
       "        vertical-align: top;\n",
       "    }\n",
       "\n",
       "    .dataframe thead th {\n",
       "        text-align: right;\n",
       "    }\n",
       "</style>\n",
       "<table border=\"1\" class=\"dataframe\">\n",
       "  <thead>\n",
       "    <tr style=\"text-align: right;\">\n",
       "      <th></th>\n",
       "      <th>iata</th>\n",
       "      <th>airport</th>\n",
       "      <th>city</th>\n",
       "      <th>state</th>\n",
       "      <th>country</th>\n",
       "      <th>lat</th>\n",
       "      <th>long</th>\n",
       "    </tr>\n",
       "  </thead>\n",
       "  <tbody>\n",
       "  </tbody>\n",
       "</table>\n",
       "</div>"
      ],
      "text/plain": [
       "Empty DataFrame\n",
       "Columns: [iata, airport, city, state, country, lat, long]\n",
       "Index: []"
      ]
     },
     "execution_count": 61,
     "metadata": {},
     "output_type": "execute_result"
    }
   ],
   "source": [
    "airports[airports['state']=='MP']"
   ]
  },
  {
   "cell_type": "code",
   "execution_count": 62,
   "metadata": {},
   "outputs": [],
   "source": [
    "# Diccionario con los datos que faltan y el índice\n",
    "\n",
    "indices={1136:['Carlsbad','CA'],\n",
    "        1715: ['Hilton Head Island','SC'],\n",
    "        2251: ['Minot', 'ND'],\n",
    "        2312: ['Marquette', 'MI'],\n",
    "        2752: ['Ellsworth' , 'ND'],\n",
    "        2759: ['Grand Forks', 'ND'],\n",
    "        2794:['Thailand','Thailand'],\n",
    "        2795: ['Palau', 'Palau'],\n",
    "        2900: ['State college', 'PA'],\n",
    "        2964: ['FairChild', 'WA'],\n",
    "        3001:['Saipan', 'MP'],\n",
    "        3355:['Yap','YAP']\n",
    "        }"
   ]
  },
  {
   "cell_type": "code",
   "execution_count": 63,
   "metadata": {},
   "outputs": [],
   "source": [
    "for i,v in indices.items():\n",
    "    airports.loc[i,['city','state']]=v"
   ]
  },
  {
   "cell_type": "code",
   "execution_count": 64,
   "metadata": {},
   "outputs": [
    {
     "data": {
      "text/plain": [
       "iata                              CLD\n",
       "airport    MC Clellan-Palomar Airport\n",
       "city                         Carlsbad\n",
       "state                              CA\n",
       "country                           USA\n",
       "lat                           33.1272\n",
       "long                         -117.279\n",
       "Name: 1136, dtype: object"
      ]
     },
     "execution_count": 64,
     "metadata": {},
     "output_type": "execute_result"
    }
   ],
   "source": [
    "airports.loc[1136,:]"
   ]
  },
  {
   "cell_type": "code",
   "execution_count": 65,
   "metadata": {},
   "outputs": [
    {
     "name": "stdout",
     "output_type": "stream",
     "text": [
      "<class 'pandas.core.frame.DataFrame'>\n",
      "RangeIndex: 3376 entries, 0 to 3375\n",
      "Data columns (total 7 columns):\n",
      " #   Column   Non-Null Count  Dtype  \n",
      "---  ------   --------------  -----  \n",
      " 0   iata     3376 non-null   object \n",
      " 1   airport  3376 non-null   object \n",
      " 2   city     3376 non-null   object \n",
      " 3   state    3376 non-null   object \n",
      " 4   country  3376 non-null   object \n",
      " 5   lat      3376 non-null   float64\n",
      " 6   long     3376 non-null   float64\n",
      "dtypes: float64(2), object(5)\n",
      "memory usage: 184.8+ KB\n"
     ]
    }
   ],
   "source": [
    "airports.info()"
   ]
  },
  {
   "cell_type": "markdown",
   "metadata": {},
   "source": [
    "Una vez completados los valores nulos, uno los dataframes."
   ]
  },
  {
   "cell_type": "code",
   "execution_count": 66,
   "metadata": {},
   "outputs": [],
   "source": [
    "vuelos_c=vuelos_c.merge(airports[['city','state','country']],how='left', left_on='Origin',right_on=airports['iata'])"
   ]
  },
  {
   "cell_type": "code",
   "execution_count": 67,
   "metadata": {},
   "outputs": [
    {
     "data": {
      "text/plain": [
       "Year                      0\n",
       "Month                     0\n",
       "Day                       0\n",
       "DayOfWeek                 0\n",
       "UniqueCarrier             0\n",
       "FlightNum                 0\n",
       "TailNum                   0\n",
       "ActualElapsedTime      8387\n",
       "CRSElapsedTime          198\n",
       "AirTime                8387\n",
       "ArrDelay               8387\n",
       "DepDelay                  0\n",
       "Origin                    0\n",
       "Dest                      0\n",
       "Distance                  0\n",
       "TaxiIn                 7110\n",
       "TaxiOut                 455\n",
       "Cancelled                 0\n",
       "CancellationCode          0\n",
       "Diverted                  0\n",
       "CarrierDelay         689270\n",
       "WeatherDelay         689270\n",
       "NASDelay             689270\n",
       "SecurityDelay        689270\n",
       "LateAircraftDelay    689270\n",
       "Date                      0\n",
       "Hour                      0\n",
       "DayOfYear                 0\n",
       "Status                    0\n",
       "Skyway                    0\n",
       "Manuf_year           198385\n",
       "Description               0\n",
       "city                      0\n",
       "state                     0\n",
       "country                   0\n",
       "dtype: int64"
      ]
     },
     "execution_count": 67,
     "metadata": {},
     "output_type": "execute_result"
    }
   ],
   "source": [
    "vuelos_c.isna().sum()"
   ]
  },
  {
   "cell_type": "markdown",
   "metadata": {},
   "source": [
    "Hay 198385 vuelos de los que no tengo datos sobre el avión.\n",
    "\n",
    "Reorganizo de nuevo los campos."
   ]
  },
  {
   "cell_type": "code",
   "execution_count": 68,
   "metadata": {},
   "outputs": [],
   "source": [
    "columnas = list(vuelos_c.columns.values)\n",
    "vuelos_c=vuelos_c.rename(columns={'Description':'CarrierName','Manuf_year':'YearOfManufact',\n",
    "                                  'city':'city_or','state':'state_or'})"
   ]
  },
  {
   "cell_type": "markdown",
   "metadata": {},
   "source": [
    "Vuelvo a unir dataframes para extraer la información del destino."
   ]
  },
  {
   "cell_type": "code",
   "execution_count": 69,
   "metadata": {},
   "outputs": [],
   "source": [
    "vuelos_c=vuelos_c.merge(airports[['city','state']],how='left', left_on='Dest',right_on=airports['iata'])\n",
    "vuelos_c=vuelos_c.rename(columns={'city':'city_dest','state':'state_dest'})"
   ]
  },
  {
   "cell_type": "code",
   "execution_count": 70,
   "metadata": {},
   "outputs": [],
   "source": [
    "vuelos_c.drop(['CRSElapsedTime',\n",
    "               'ActualElapsedTime',\n",
    "               'Cancelled',\n",
    "               'Diverted',],inplace=True,axis=1)"
   ]
  },
  {
   "cell_type": "code",
   "execution_count": 71,
   "metadata": {},
   "outputs": [],
   "source": [
    "columnas =[ 'Date','DayOfYear','Year','Month','Day','DayOfWeek','Hour',\n",
    " 'Status','ArrDelay','DepDelay','TaxiIn','TaxiOut', 'CancellationCode', \n",
    " 'UniqueCarrier','CarrierName','TailNum','YearOfManufact',\n",
    " 'Origin','Dest','FlightNum','Distance','Skyway','city_or','state_or','country','city_dest','state_dest',\n",
    " 'CarrierDelay','WeatherDelay','NASDelay','SecurityDelay','LateAircraftDelay']\n"
   ]
  },
  {
   "cell_type": "code",
   "execution_count": 72,
   "metadata": {},
   "outputs": [],
   "source": [
    "vuelos_c=vuelos_c[columnas]"
   ]
  },
  {
   "cell_type": "markdown",
   "metadata": {},
   "source": [
    "### Sobre el uso de memoria."
   ]
  },
  {
   "cell_type": "markdown",
   "metadata": {},
   "source": [
    "Voy a intentar rebajar el uso de la memoria forzando los tipos de las variables."
   ]
  },
  {
   "cell_type": "code",
   "execution_count": 73,
   "metadata": {},
   "outputs": [
    {
     "name": "stdout",
     "output_type": "stream",
     "text": [
      "<class 'pandas.core.frame.DataFrame'>\n",
      "Int64Index: 1936756 entries, 0 to 1936755\n",
      "Data columns (total 32 columns):\n",
      " #   Column             Dtype         \n",
      "---  ------             -----         \n",
      " 0   Date               datetime64[ns]\n",
      " 1   DayOfYear          int32         \n",
      " 2   Year               int64         \n",
      " 3   Month              int64         \n",
      " 4   Day                int64         \n",
      " 5   DayOfWeek          int64         \n",
      " 6   Hour               int32         \n",
      " 7   Status             category      \n",
      " 8   ArrDelay           float64       \n",
      " 9   DepDelay           float64       \n",
      " 10  TaxiIn             float64       \n",
      " 11  TaxiOut            float64       \n",
      " 12  CancellationCode   object        \n",
      " 13  UniqueCarrier      object        \n",
      " 14  CarrierName        object        \n",
      " 15  TailNum            object        \n",
      " 16  YearOfManufact     float64       \n",
      " 17  Origin             object        \n",
      " 18  Dest               object        \n",
      " 19  FlightNum          int64         \n",
      " 20  Distance           int64         \n",
      " 21  Skyway             object        \n",
      " 22  city_or            object        \n",
      " 23  state_or           object        \n",
      " 24  country            object        \n",
      " 25  city_dest          object        \n",
      " 26  state_dest         object        \n",
      " 27  CarrierDelay       float64       \n",
      " 28  WeatherDelay       float64       \n",
      " 29  NASDelay           float64       \n",
      " 30  SecurityDelay      float64       \n",
      " 31  LateAircraftDelay  float64       \n",
      "dtypes: category(1), datetime64[ns](1), float64(10), int32(2), int64(6), object(12)\n",
      "memory usage: 459.9+ MB\n"
     ]
    }
   ],
   "source": [
    "vuelos_c.info()"
   ]
  },
  {
   "cell_type": "code",
   "execution_count": 74,
   "metadata": {},
   "outputs": [
    {
     "name": "stdout",
     "output_type": "stream",
     "text": [
      "<class 'pandas.core.frame.DataFrame'>\n",
      "Int64Index: 1936756 entries, 0 to 1936755\n",
      "Data columns (total 32 columns):\n",
      " #   Column             Dtype         \n",
      "---  ------             -----         \n",
      " 0   Date               datetime64[ns]\n",
      " 1   DayOfYear          int32         \n",
      " 2   Year               int32         \n",
      " 3   Month              uint8         \n",
      " 4   Day                uint8         \n",
      " 5   DayOfWeek          uint8         \n",
      " 6   Hour               uint8         \n",
      " 7   Status             category      \n",
      " 8   ArrDelay           float64       \n",
      " 9   DepDelay           float64       \n",
      " 10  TaxiIn             float64       \n",
      " 11  TaxiOut            float64       \n",
      " 12  CancellationCode   category      \n",
      " 13  UniqueCarrier      category      \n",
      " 14  CarrierName        object        \n",
      " 15  TailNum            category      \n",
      " 16  YearOfManufact     float64       \n",
      " 17  Origin             category      \n",
      " 18  Dest               category      \n",
      " 19  FlightNum          int64         \n",
      " 20  Distance           int64         \n",
      " 21  Skyway             object        \n",
      " 22  city_or            object        \n",
      " 23  state_or           category      \n",
      " 24  country            category      \n",
      " 25  city_dest          object        \n",
      " 26  state_dest         category      \n",
      " 27  CarrierDelay       float64       \n",
      " 28  WeatherDelay       float64       \n",
      " 29  NASDelay           float64       \n",
      " 30  SecurityDelay      float64       \n",
      " 31  LateAircraftDelay  float64       \n",
      "dtypes: category(9), datetime64[ns](1), float64(10), int32(2), int64(2), object(4), uint8(4)\n",
      "memory usage: 310.5+ MB\n"
     ]
    }
   ],
   "source": [
    "vuelos_c.astype({'Year':'int32',\n",
    "                'Month':'uint8',\n",
    "                'Day':'uint8',\n",
    "                'DayOfWeek':'uint8',\n",
    "                'Hour':'uint8',\n",
    "                'UniqueCarrier':'category',\n",
    "                'TailNum':'category',\n",
    "                'Origin':'category',\n",
    "                'Dest':'category',\n",
    "                'CancellationCode':'category',\n",
    "                'DayOfYear':'int32',\n",
    "                'state_or':'category',\n",
    "                'country':'category',\n",
    "                'state_dest':'category'}).info()"
   ]
  },
  {
   "cell_type": "markdown",
   "metadata": {},
   "source": [
    "Una vez preparado el dataframe, han quedado 8387 valores Nan en las variables ArrDelay y Speed_mph que corresponden a vuelos que fueron cancelados o desviados. De momento no imputo ningún valor.\n",
    "\n",
    "Otros 689270 valores Nan los encontramos en el conjunto de datos referidos al retraso imputado a cada causa cuando no hubo retraso. "
   ]
  },
  {
   "cell_type": "code",
   "execution_count": 75,
   "metadata": {},
   "outputs": [],
   "source": [
    "vuelos_c.to_csv('vuelos_final.csv',index=False)"
   ]
  },
  {
   "cell_type": "code",
   "execution_count": 76,
   "metadata": {},
   "outputs": [],
   "source": [
    "# Preparo una copia para entrar en el análisis exploratorio.\n",
    "#df=vuelos_c.copy()"
   ]
  },
  {
   "cell_type": "code",
   "execution_count": 77,
   "metadata": {},
   "outputs": [],
   "source": [
    "# df from csv\n",
    "df=pd.read_csv('vuelos_final.csv')"
   ]
  },
  {
   "cell_type": "markdown",
   "metadata": {},
   "source": [
    "# 3. Análisis exploratorio de los datos. "
   ]
  },
  {
   "cell_type": "markdown",
   "metadata": {},
   "source": [
    "Voy a hacer un primer análisis utilizando la función describe."
   ]
  },
  {
   "cell_type": "code",
   "execution_count": 78,
   "metadata": {},
   "outputs": [
    {
     "data": {
      "text/html": [
       "<div>\n",
       "<style scoped>\n",
       "    .dataframe tbody tr th:only-of-type {\n",
       "        vertical-align: middle;\n",
       "    }\n",
       "\n",
       "    .dataframe tbody tr th {\n",
       "        vertical-align: top;\n",
       "    }\n",
       "\n",
       "    .dataframe thead th {\n",
       "        text-align: right;\n",
       "    }\n",
       "</style>\n",
       "<table border=\"1\" class=\"dataframe\">\n",
       "  <thead>\n",
       "    <tr style=\"text-align: right;\">\n",
       "      <th></th>\n",
       "      <th>DayOfYear</th>\n",
       "      <th>Year</th>\n",
       "      <th>Month</th>\n",
       "      <th>Day</th>\n",
       "      <th>DayOfWeek</th>\n",
       "      <th>Hour</th>\n",
       "      <th>ArrDelay</th>\n",
       "      <th>DepDelay</th>\n",
       "      <th>TaxiIn</th>\n",
       "      <th>TaxiOut</th>\n",
       "      <th>YearOfManufact</th>\n",
       "      <th>FlightNum</th>\n",
       "      <th>Distance</th>\n",
       "      <th>CarrierDelay</th>\n",
       "      <th>WeatherDelay</th>\n",
       "      <th>NASDelay</th>\n",
       "      <th>SecurityDelay</th>\n",
       "      <th>LateAircraftDelay</th>\n",
       "    </tr>\n",
       "  </thead>\n",
       "  <tbody>\n",
       "    <tr>\n",
       "      <th>count</th>\n",
       "      <td>1.936756e+06</td>\n",
       "      <td>1936756.0</td>\n",
       "      <td>1.936756e+06</td>\n",
       "      <td>1.936756e+06</td>\n",
       "      <td>1.936756e+06</td>\n",
       "      <td>1.936756e+06</td>\n",
       "      <td>1.928369e+06</td>\n",
       "      <td>1.936756e+06</td>\n",
       "      <td>1.929646e+06</td>\n",
       "      <td>1.936301e+06</td>\n",
       "      <td>1.738371e+06</td>\n",
       "      <td>1.936756e+06</td>\n",
       "      <td>1.936756e+06</td>\n",
       "      <td>1.247486e+06</td>\n",
       "      <td>1.247486e+06</td>\n",
       "      <td>1.247486e+06</td>\n",
       "      <td>1.247486e+06</td>\n",
       "      <td>1.247486e+06</td>\n",
       "    </tr>\n",
       "    <tr>\n",
       "      <th>mean</th>\n",
       "      <td>1.712009e+02</td>\n",
       "      <td>2008.0</td>\n",
       "      <td>6.111111e+00</td>\n",
       "      <td>1.575346e+01</td>\n",
       "      <td>3.984827e+00</td>\n",
       "      <td>1.439864e+01</td>\n",
       "      <td>4.219988e+01</td>\n",
       "      <td>4.318517e+01</td>\n",
       "      <td>6.812973e+00</td>\n",
       "      <td>1.823221e+01</td>\n",
       "      <td>1.997542e+03</td>\n",
       "      <td>2.184265e+03</td>\n",
       "      <td>7.656863e+02</td>\n",
       "      <td>1.917939e+01</td>\n",
       "      <td>3.703577e+00</td>\n",
       "      <td>1.502162e+01</td>\n",
       "      <td>9.013728e-02</td>\n",
       "      <td>2.529651e+01</td>\n",
       "    </tr>\n",
       "    <tr>\n",
       "      <th>std</th>\n",
       "      <td>1.070209e+02</td>\n",
       "      <td>0.0</td>\n",
       "      <td>3.482546e+00</td>\n",
       "      <td>8.776268e+00</td>\n",
       "      <td>1.995967e+00</td>\n",
       "      <td>4.244424e+00</td>\n",
       "      <td>5.678474e+01</td>\n",
       "      <td>5.340253e+01</td>\n",
       "      <td>5.273597e+00</td>\n",
       "      <td>1.433854e+01</td>\n",
       "      <td>7.221218e+00</td>\n",
       "      <td>1.944703e+03</td>\n",
       "      <td>5.744799e+02</td>\n",
       "      <td>4.354623e+01</td>\n",
       "      <td>2.149292e+01</td>\n",
       "      <td>3.383307e+01</td>\n",
       "      <td>2.022716e+00</td>\n",
       "      <td>4.205488e+01</td>\n",
       "    </tr>\n",
       "    <tr>\n",
       "      <th>min</th>\n",
       "      <td>1.000000e+00</td>\n",
       "      <td>2008.0</td>\n",
       "      <td>1.000000e+00</td>\n",
       "      <td>1.000000e+00</td>\n",
       "      <td>1.000000e+00</td>\n",
       "      <td>0.000000e+00</td>\n",
       "      <td>-1.090000e+02</td>\n",
       "      <td>6.000000e+00</td>\n",
       "      <td>0.000000e+00</td>\n",
       "      <td>0.000000e+00</td>\n",
       "      <td>1.956000e+03</td>\n",
       "      <td>1.000000e+00</td>\n",
       "      <td>1.100000e+01</td>\n",
       "      <td>0.000000e+00</td>\n",
       "      <td>0.000000e+00</td>\n",
       "      <td>0.000000e+00</td>\n",
       "      <td>0.000000e+00</td>\n",
       "      <td>0.000000e+00</td>\n",
       "    </tr>\n",
       "    <tr>\n",
       "      <th>25%</th>\n",
       "      <td>7.800000e+01</td>\n",
       "      <td>2008.0</td>\n",
       "      <td>3.000000e+00</td>\n",
       "      <td>8.000000e+00</td>\n",
       "      <td>2.000000e+00</td>\n",
       "      <td>1.100000e+01</td>\n",
       "      <td>9.000000e+00</td>\n",
       "      <td>1.200000e+01</td>\n",
       "      <td>4.000000e+00</td>\n",
       "      <td>1.000000e+01</td>\n",
       "      <td>1.993000e+03</td>\n",
       "      <td>6.100000e+02</td>\n",
       "      <td>3.380000e+02</td>\n",
       "      <td>0.000000e+00</td>\n",
       "      <td>0.000000e+00</td>\n",
       "      <td>0.000000e+00</td>\n",
       "      <td>0.000000e+00</td>\n",
       "      <td>0.000000e+00</td>\n",
       "    </tr>\n",
       "    <tr>\n",
       "      <th>50%</th>\n",
       "      <td>1.660000e+02</td>\n",
       "      <td>2008.0</td>\n",
       "      <td>6.000000e+00</td>\n",
       "      <td>1.600000e+01</td>\n",
       "      <td>4.000000e+00</td>\n",
       "      <td>1.500000e+01</td>\n",
       "      <td>2.400000e+01</td>\n",
       "      <td>2.400000e+01</td>\n",
       "      <td>6.000000e+00</td>\n",
       "      <td>1.400000e+01</td>\n",
       "      <td>1.999000e+03</td>\n",
       "      <td>1.543000e+03</td>\n",
       "      <td>6.060000e+02</td>\n",
       "      <td>2.000000e+00</td>\n",
       "      <td>0.000000e+00</td>\n",
       "      <td>2.000000e+00</td>\n",
       "      <td>0.000000e+00</td>\n",
       "      <td>8.000000e+00</td>\n",
       "    </tr>\n",
       "    <tr>\n",
       "      <th>75%</th>\n",
       "      <td>2.530000e+02</td>\n",
       "      <td>2008.0</td>\n",
       "      <td>9.000000e+00</td>\n",
       "      <td>2.300000e+01</td>\n",
       "      <td>6.000000e+00</td>\n",
       "      <td>1.800000e+01</td>\n",
       "      <td>5.600000e+01</td>\n",
       "      <td>5.300000e+01</td>\n",
       "      <td>8.000000e+00</td>\n",
       "      <td>2.100000e+01</td>\n",
       "      <td>2.003000e+03</td>\n",
       "      <td>3.422000e+03</td>\n",
       "      <td>9.980000e+02</td>\n",
       "      <td>2.100000e+01</td>\n",
       "      <td>0.000000e+00</td>\n",
       "      <td>1.500000e+01</td>\n",
       "      <td>0.000000e+00</td>\n",
       "      <td>3.300000e+01</td>\n",
       "    </tr>\n",
       "    <tr>\n",
       "      <th>max</th>\n",
       "      <td>3.660000e+02</td>\n",
       "      <td>2008.0</td>\n",
       "      <td>1.200000e+01</td>\n",
       "      <td>3.100000e+01</td>\n",
       "      <td>7.000000e+00</td>\n",
       "      <td>2.300000e+01</td>\n",
       "      <td>2.461000e+03</td>\n",
       "      <td>2.467000e+03</td>\n",
       "      <td>2.400000e+02</td>\n",
       "      <td>4.220000e+02</td>\n",
       "      <td>2.008000e+03</td>\n",
       "      <td>9.742000e+03</td>\n",
       "      <td>4.962000e+03</td>\n",
       "      <td>2.436000e+03</td>\n",
       "      <td>1.352000e+03</td>\n",
       "      <td>1.357000e+03</td>\n",
       "      <td>3.920000e+02</td>\n",
       "      <td>1.316000e+03</td>\n",
       "    </tr>\n",
       "  </tbody>\n",
       "</table>\n",
       "</div>"
      ],
      "text/plain": [
       "          DayOfYear       Year         Month           Day     DayOfWeek  \\\n",
       "count  1.936756e+06  1936756.0  1.936756e+06  1.936756e+06  1.936756e+06   \n",
       "mean   1.712009e+02     2008.0  6.111111e+00  1.575346e+01  3.984827e+00   \n",
       "std    1.070209e+02        0.0  3.482546e+00  8.776268e+00  1.995967e+00   \n",
       "min    1.000000e+00     2008.0  1.000000e+00  1.000000e+00  1.000000e+00   \n",
       "25%    7.800000e+01     2008.0  3.000000e+00  8.000000e+00  2.000000e+00   \n",
       "50%    1.660000e+02     2008.0  6.000000e+00  1.600000e+01  4.000000e+00   \n",
       "75%    2.530000e+02     2008.0  9.000000e+00  2.300000e+01  6.000000e+00   \n",
       "max    3.660000e+02     2008.0  1.200000e+01  3.100000e+01  7.000000e+00   \n",
       "\n",
       "               Hour      ArrDelay      DepDelay        TaxiIn       TaxiOut  \\\n",
       "count  1.936756e+06  1.928369e+06  1.936756e+06  1.929646e+06  1.936301e+06   \n",
       "mean   1.439864e+01  4.219988e+01  4.318517e+01  6.812973e+00  1.823221e+01   \n",
       "std    4.244424e+00  5.678474e+01  5.340253e+01  5.273597e+00  1.433854e+01   \n",
       "min    0.000000e+00 -1.090000e+02  6.000000e+00  0.000000e+00  0.000000e+00   \n",
       "25%    1.100000e+01  9.000000e+00  1.200000e+01  4.000000e+00  1.000000e+01   \n",
       "50%    1.500000e+01  2.400000e+01  2.400000e+01  6.000000e+00  1.400000e+01   \n",
       "75%    1.800000e+01  5.600000e+01  5.300000e+01  8.000000e+00  2.100000e+01   \n",
       "max    2.300000e+01  2.461000e+03  2.467000e+03  2.400000e+02  4.220000e+02   \n",
       "\n",
       "       YearOfManufact     FlightNum      Distance  CarrierDelay  WeatherDelay  \\\n",
       "count    1.738371e+06  1.936756e+06  1.936756e+06  1.247486e+06  1.247486e+06   \n",
       "mean     1.997542e+03  2.184265e+03  7.656863e+02  1.917939e+01  3.703577e+00   \n",
       "std      7.221218e+00  1.944703e+03  5.744799e+02  4.354623e+01  2.149292e+01   \n",
       "min      1.956000e+03  1.000000e+00  1.100000e+01  0.000000e+00  0.000000e+00   \n",
       "25%      1.993000e+03  6.100000e+02  3.380000e+02  0.000000e+00  0.000000e+00   \n",
       "50%      1.999000e+03  1.543000e+03  6.060000e+02  2.000000e+00  0.000000e+00   \n",
       "75%      2.003000e+03  3.422000e+03  9.980000e+02  2.100000e+01  0.000000e+00   \n",
       "max      2.008000e+03  9.742000e+03  4.962000e+03  2.436000e+03  1.352000e+03   \n",
       "\n",
       "           NASDelay  SecurityDelay  LateAircraftDelay  \n",
       "count  1.247486e+06   1.247486e+06       1.247486e+06  \n",
       "mean   1.502162e+01   9.013728e-02       2.529651e+01  \n",
       "std    3.383307e+01   2.022716e+00       4.205488e+01  \n",
       "min    0.000000e+00   0.000000e+00       0.000000e+00  \n",
       "25%    0.000000e+00   0.000000e+00       0.000000e+00  \n",
       "50%    2.000000e+00   0.000000e+00       8.000000e+00  \n",
       "75%    1.500000e+01   0.000000e+00       3.300000e+01  \n",
       "max    1.357000e+03   3.920000e+02       1.316000e+03  "
      ]
     },
     "execution_count": 78,
     "metadata": {},
     "output_type": "execute_result"
    }
   ],
   "source": [
    "df.describe()"
   ]
  },
  {
   "cell_type": "markdown",
   "metadata": {},
   "source": [
    "El output de la función describe contiene mucha información sobre la distribución de nuestras variables pero a primera vista es incómodo de leer e interpretar, y en general es más intuitivo ver una representación visual.\n",
    "\n",
    "Para entender como se comportan nuestras variables vamos a ir analizándolas más detalladamente."
   ]
  },
  {
   "cell_type": "markdown",
   "metadata": {},
   "source": [
    "## 3.1. Distribución de los vuelos según el estado."
   ]
  },
  {
   "cell_type": "code",
   "execution_count": 79,
   "metadata": {},
   "outputs": [],
   "source": [
    "delayed={'On time':0,\n",
    "         'Delayed':1,\n",
    "         'Highly Delayed':1,\n",
    "         'Diverted':2,\n",
    "         'Cacelled':2}\n",
    "df['Is_Delayed']=df['Status'].map(delayed)"
   ]
  },
  {
   "cell_type": "code",
   "execution_count": 80,
   "metadata": {
    "scrolled": true
   },
   "outputs": [
    {
     "data": {
      "text/plain": [
       "1.0    64.432167\n",
       "0.0    35.167342\n",
       "2.0     0.400491\n",
       "Name: Is_Delayed, dtype: float64"
      ]
     },
     "execution_count": 80,
     "metadata": {},
     "output_type": "execute_result"
    }
   ],
   "source": [
    "# Porcentaje de vuelos retrasados\n",
    "df.Is_Delayed.value_counts(normalize=True)*100"
   ]
  },
  {
   "cell_type": "code",
   "execution_count": 81,
   "metadata": {},
   "outputs": [
    {
     "data": {
      "image/png": "[encoded data removed]",
      "text/plain": [
       "<Figure size 432x288 with 1 Axes>"
      ]
     },
     "metadata": {
      "needs_background": "light"
     },
     "output_type": "display_data"
    }
   ],
   "source": [
    "sns.countplot(data=df,\n",
    "             x='Is_Delayed');"
   ]
  },
  {
   "cell_type": "code",
   "execution_count": 82,
   "metadata": {},
   "outputs": [
    {
     "data": {
      "text/plain": [
       "Status\n",
       "Cancelled          0.03\n",
       "Delayed           41.29\n",
       "Diverted           0.40\n",
       "Highly Delayed    23.12\n",
       "On time           35.16\n",
       "Name: Day, dtype: float64"
      ]
     },
     "execution_count": 82,
     "metadata": {},
     "output_type": "execute_result"
    }
   ],
   "source": [
    "# Porcentaje de vuelos según su estado\n",
    "round(df.groupby('Status')['Day'].count()/len(df)*100,2)"
   ]
  },
  {
   "cell_type": "code",
   "execution_count": 83,
   "metadata": {},
   "outputs": [
    {
     "data": {
      "image/png": "[encoded data removed]",
      "text/plain": [
       "<Figure size 864x432 with 1 Axes>"
      ]
     },
     "metadata": {
      "needs_background": "light"
     },
     "output_type": "display_data"
    }
   ],
   "source": [
    "fig, ax = plt.subplots(figsize=(12,6))\n",
    "\n",
    "sta=(df[['Status']].value_counts(normalize=True)*100).to_frame().reset_index()\n",
    "\n",
    "# Ax plot\n",
    "sns.barplot(data=sta,\n",
    "            x='Status',\n",
    "            y=0,)\n",
    "           \n",
    "\n",
    "# Tunning plot\n",
    "ax.set_title('Porcentaje de vuelos según estado\\n')\n",
    "ax.set_ylabel('');\n"
   ]
  },
  {
   "cell_type": "markdown",
   "metadata": {},
   "source": [
    "Como podemos ver en 2008 hubo un 35,2 % de vuelos que salieron a tiempo, frente a un 64,4 % de vuelos que salieron con retraso. Además un 0,4 % de los vuelos fueron desviados y un 0,03 % cancelado."
   ]
  },
  {
   "cell_type": "markdown",
   "metadata": {},
   "source": [
    "## 3.2. Tendencias temporales.\n",
    "\n",
    "Ahora que sabemos que proporción de vuelos sufrieron retraso vamos a ver la frecuencia de vuelos distribuida en el tiempo y los retrasos sufridos cada periodo.\n",
    "\n",
    "El numero de vuelos representado por mes y dia del año se distribuye de la siguiente manera:"
   ]
  },
  {
   "cell_type": "code",
   "execution_count": 84,
   "metadata": {},
   "outputs": [
    {
     "data": {
      "image/png": "[encoded data removed]",
      "text/plain": [
       "<Figure size 1296x288 with 2 Axes>"
      ]
     },
     "metadata": {
      "needs_background": "light"
     },
     "output_type": "display_data"
    }
   ],
   "source": [
    "df[['Month','DayOfYear']].hist(bins=60, figsize=(18,4));"
   ]
  },
  {
   "cell_type": "markdown",
   "metadata": {},
   "source": [
    "Mientras que si representamos el volumen de vuelos por día del mes, dia de la semana o hora del día se observa la siguiente distribución."
   ]
  },
  {
   "cell_type": "code",
   "execution_count": 85,
   "metadata": {},
   "outputs": [
    {
     "data": {
      "image/png": "[encoded data removed]",
      "text/plain": [
       "<Figure size 1296x576 with 4 Axes>"
      ]
     },
     "metadata": {
      "needs_background": "light"
     },
     "output_type": "display_data"
    }
   ],
   "source": [
    "df[['Day','DayOfWeek','Hour']].hist(bins=60, figsize=(18,8));"
   ]
  },
  {
   "cell_type": "markdown",
   "metadata": {},
   "source": [
    "Parece que se observa una mayor tendencia a volar en el primer y el tercer tremestre. Los meses con mayor frecuencia de vuelo son marzo, junio y diciembre. Estos picos se podrían explicar por periodos vacacionales, la pascua de 2008 que cayó en marzo, las vacaciones de verano y navidad. Si nos vamos al gráfico de días del año, esto tiene correspondencia, siendo los periodos más significativos los primeros días del año y los últimos.\n",
    "\n",
    "Por otro lado, no parece observarse una tendencia en como se distribuyen los vuelos en los días del mes. Aunque si lo analizamos como día de la semana, los viernes y los lunes son los días con mayores vuelos y el sábado el día que menos se vuela. \n",
    "\n",
    "En cuanto a la distribución horaria, apenas tenemos vuelos nocturnos y el 75% de los vuelos están concentrados entre las 11 y las 23 h, tiendo el máximo de frecuencia entre las 15 y las 18."
   ]
  },
  {
   "cell_type": "markdown",
   "metadata": {},
   "source": [
    "### 3.2.1. Como se comportan los retrasos."
   ]
  },
  {
   "cell_type": "markdown",
   "metadata": {},
   "source": [
    "Vamos a analizar ahora como se comportan los retrasos. Para ello vamos a ver la distribución de estas variables junto con la distribución del tiempo en tierra."
   ]
  },
  {
   "cell_type": "code",
   "execution_count": 86,
   "metadata": {},
   "outputs": [
    {
     "data": {
      "image/png": "[encoded data removed]",
      "text/plain": [
       "<Figure size 1296x576 with 4 Axes>"
      ]
     },
     "metadata": {
      "needs_background": "light"
     },
     "output_type": "display_data"
    }
   ],
   "source": [
    "df[['DepDelay','ArrDelay','TaxiOut','TaxiIn']].hist(bins=120, figsize=(18,8));"
   ]
  },
  {
   "cell_type": "code",
   "execution_count": 87,
   "metadata": {},
   "outputs": [
    {
     "data": {
      "text/html": [
       "<div>\n",
       "<style scoped>\n",
       "    .dataframe tbody tr th:only-of-type {\n",
       "        vertical-align: middle;\n",
       "    }\n",
       "\n",
       "    .dataframe tbody tr th {\n",
       "        vertical-align: top;\n",
       "    }\n",
       "\n",
       "    .dataframe thead th {\n",
       "        text-align: right;\n",
       "    }\n",
       "</style>\n",
       "<table border=\"1\" class=\"dataframe\">\n",
       "  <thead>\n",
       "    <tr style=\"text-align: right;\">\n",
       "      <th></th>\n",
       "      <th>DepDelay</th>\n",
       "      <th>ArrDelay</th>\n",
       "      <th>TaxiOut</th>\n",
       "      <th>TaxiIn</th>\n",
       "    </tr>\n",
       "  </thead>\n",
       "  <tbody>\n",
       "    <tr>\n",
       "      <th>count</th>\n",
       "      <td>1.936756e+06</td>\n",
       "      <td>1.928369e+06</td>\n",
       "      <td>1.936301e+06</td>\n",
       "      <td>1.929646e+06</td>\n",
       "    </tr>\n",
       "    <tr>\n",
       "      <th>mean</th>\n",
       "      <td>4.318517e+01</td>\n",
       "      <td>4.219988e+01</td>\n",
       "      <td>1.823221e+01</td>\n",
       "      <td>6.812973e+00</td>\n",
       "    </tr>\n",
       "    <tr>\n",
       "      <th>std</th>\n",
       "      <td>5.340253e+01</td>\n",
       "      <td>5.678474e+01</td>\n",
       "      <td>1.433854e+01</td>\n",
       "      <td>5.273597e+00</td>\n",
       "    </tr>\n",
       "    <tr>\n",
       "      <th>min</th>\n",
       "      <td>6.000000e+00</td>\n",
       "      <td>-1.090000e+02</td>\n",
       "      <td>0.000000e+00</td>\n",
       "      <td>0.000000e+00</td>\n",
       "    </tr>\n",
       "    <tr>\n",
       "      <th>25%</th>\n",
       "      <td>1.200000e+01</td>\n",
       "      <td>9.000000e+00</td>\n",
       "      <td>1.000000e+01</td>\n",
       "      <td>4.000000e+00</td>\n",
       "    </tr>\n",
       "    <tr>\n",
       "      <th>50%</th>\n",
       "      <td>2.400000e+01</td>\n",
       "      <td>2.400000e+01</td>\n",
       "      <td>1.400000e+01</td>\n",
       "      <td>6.000000e+00</td>\n",
       "    </tr>\n",
       "    <tr>\n",
       "      <th>75%</th>\n",
       "      <td>5.300000e+01</td>\n",
       "      <td>5.600000e+01</td>\n",
       "      <td>2.100000e+01</td>\n",
       "      <td>8.000000e+00</td>\n",
       "    </tr>\n",
       "    <tr>\n",
       "      <th>max</th>\n",
       "      <td>2.467000e+03</td>\n",
       "      <td>2.461000e+03</td>\n",
       "      <td>4.220000e+02</td>\n",
       "      <td>2.400000e+02</td>\n",
       "    </tr>\n",
       "  </tbody>\n",
       "</table>\n",
       "</div>"
      ],
      "text/plain": [
       "           DepDelay      ArrDelay       TaxiOut        TaxiIn\n",
       "count  1.936756e+06  1.928369e+06  1.936301e+06  1.929646e+06\n",
       "mean   4.318517e+01  4.219988e+01  1.823221e+01  6.812973e+00\n",
       "std    5.340253e+01  5.678474e+01  1.433854e+01  5.273597e+00\n",
       "min    6.000000e+00 -1.090000e+02  0.000000e+00  0.000000e+00\n",
       "25%    1.200000e+01  9.000000e+00  1.000000e+01  4.000000e+00\n",
       "50%    2.400000e+01  2.400000e+01  1.400000e+01  6.000000e+00\n",
       "75%    5.300000e+01  5.600000e+01  2.100000e+01  8.000000e+00\n",
       "max    2.467000e+03  2.461000e+03  4.220000e+02  2.400000e+02"
      ]
     },
     "execution_count": 87,
     "metadata": {},
     "output_type": "execute_result"
    }
   ],
   "source": [
    "# Valores estadísticos para los retrasos en los vuelos completados.\n",
    "df[['DepDelay','ArrDelay','TaxiOut','TaxiIn']].describe()"
   ]
  },
  {
   "cell_type": "code",
   "execution_count": 88,
   "metadata": {},
   "outputs": [
    {
     "data": {
      "text/plain": [
       "DepDelay    4.495075\n",
       "ArrDelay    3.948778\n",
       "TaxiOut     4.502008\n",
       "TaxiIn      6.003436\n",
       "dtype: float64"
      ]
     },
     "execution_count": 88,
     "metadata": {},
     "output_type": "execute_result"
    }
   ],
   "source": [
    "# Asimetría de las distribuciones.\n",
    "df[['DepDelay','ArrDelay','TaxiOut','TaxiIn']].skew()"
   ]
  },
  {
   "cell_type": "markdown",
   "metadata": {},
   "source": [
    "Los retrasos y los tiempos de espera en tierra a la salida y a la llegada se comportan de igual manera. Sus distribuciones tienen una simetría positiva y la mayoría de los valores se concentran en torno a la mediana (distribución leptucúrtica). Esto quiere decir que el pico de la distribución esta desplazado hacia la izquierda. \n",
    "\n",
    "La mediana de ambas distribuciones está en los 24 minutos de retraso, pero el valor máximo es de alrededor de 2460 minutos que son alrededor de unas 40 horas. El mínimo retraso a la llegada registrado es de -109 minutos.\n",
    "\n",
    "Veamos en detalle la distribución de la variable ArrDelay.\n"
   ]
  },
  {
   "cell_type": "code",
   "execution_count": 89,
   "metadata": {},
   "outputs": [
    {
     "data": {
      "image/png": "[encoded data removed]",
      "text/plain": [
       "<Figure size 1008x432 with 1 Axes>"
      ]
     },
     "metadata": {
      "needs_background": "light"
     },
     "output_type": "display_data"
    }
   ],
   "source": [
    "\n",
    "# Crear la figura\n",
    "fig,ax = plt.subplots(figsize=(14,6))\n",
    "\n",
    "# Preparar los datos\n",
    "\n",
    "# Crear el gráfico\n",
    "\n",
    "ax.hist(df.ArrDelay,\n",
    "         bins=100, )\n",
    "\n",
    "# Customizar el gráfico\n",
    "# Anotación tiempo medio\n",
    "ax.axvline(df.ArrDelay.mean(),color='r',linestyle='-.',linewidth= 1)\n",
    "ax.annotate(text='retraso medio \\n'+str(int(df.ArrDelay.mean()))+' min.',\n",
    "            xy=(df.ArrDelay.mean(),790000),xytext=(250,700000),\n",
    "            arrowprops=dict(arrowstyle='->'))\n",
    "\n",
    "\n",
    "# Anotación mediana de retraso\n",
    "ax.axvline(df.ArrDelay.median(),color='r',linestyle='-.',linewidth= 1)\n",
    "ax.annotate(text='Mediana\\n retraso\\n '+str(int(df.ArrDelay.median()))+' min.',\n",
    "            xy=(df.ArrDelay.median(),790000),xytext=(-200,700000),\n",
    "            arrowprops=dict(arrowstyle='->'))\n",
    "\n",
    "#Títulos\n",
    "ax.set(title='Distribución del tiempo de retraso a la llegada',\n",
    "       xlabel='Minutos')\n",
    "\n",
    "# Guardar imagen\n",
    "plt.savefig('distribucion_ArrDelay',dpi=200)\n",
    "\n",
    "\n"
   ]
  },
  {
   "cell_type": "code",
   "execution_count": 90,
   "metadata": {},
   "outputs": [],
   "source": [
    "#sns.pairplot(df[['DepDelay','ArrDelay','TaxiOut','TaxiIn']]);"
   ]
  },
  {
   "cell_type": "markdown",
   "metadata": {},
   "source": [
    "Representando en un gráfico de dispersión las variables Retraso a la llegada y retraso a la salida y en otro gráfico los retrasos frente al número de vuelos en un grafico de dispersión se puede inferir una conclusión muy rápida. "
   ]
  },
  {
   "cell_type": "code",
   "execution_count": 91,
   "metadata": {},
   "outputs": [
    {
     "data": {
      "image/png": "[encoded data removed]",
      "text/plain": [
       "<Figure size 1008x288 with 2 Axes>"
      ]
     },
     "metadata": {
      "needs_background": "light"
     },
     "output_type": "display_data"
    }
   ],
   "source": [
    "fig,(ax1,ax2) = plt.subplots(figsize=(14,4),ncols=2,nrows=1)\n",
    "\n",
    "data=df.groupby(['DayOfYear']).agg({'DepDelay':'median','ArrDelay' : 'median','FlightNum':'count'})\n",
    "\n",
    "# Ax1 - ArrDelay vs DepDelay\n",
    "sns.scatterplot(data=data,y='ArrDelay',x='DepDelay',ax=ax1)\n",
    "ax1.set(title='Retraso a la llegada vs retraso a la salida')\n",
    "\n",
    "# Ax2 - ArrDelay vs NumFlights\n",
    "sns.scatterplot(data=data,y='ArrDelay',x='FlightNum',ax=ax2)\n",
    "ax2.set(title='Retraso a la llegada vs Numero de vuelos');"
   ]
  },
  {
   "cell_type": "markdown",
   "metadata": {},
   "source": [
    "Parece que hay una tendencia a haber mayor retraso los días que hay mayor número de vuelos. Además observando el primer gráfico, mayor retraso en la llegada cuando hay mayor retraso en la salida."
   ]
  },
  {
   "cell_type": "markdown",
   "metadata": {},
   "source": [
    "### 3.2.2. Distribución de los retrasos en función de la fecha.\n",
    "\n",
    "A continuación podemos ver la distribución por fechas de la frecuencia de los vuelos y del retraso promedio (mediana)."
   ]
  },
  {
   "cell_type": "code",
   "execution_count": 92,
   "metadata": {},
   "outputs": [
    {
     "data": {
      "image/png": "[encoded data removed]",
      "text/plain": [
       "<Figure size 1152x576 with 4 Axes>"
      ]
     },
     "metadata": {
      "needs_background": "light"
     },
     "output_type": "display_data"
    }
   ],
   "source": [
    "fig,(ax1,ax2) = plt.subplots(figsize=(16,8),ncols=1,nrows=2, tight_layout=True)\n",
    "\n",
    "# Ax1 - Numero de vuelos por fecha\n",
    "# Preparación de la tabla\n",
    "mapa_vuelo=df.groupby(['Month','Day'])[['ArrDelay']].count().reset_index()\n",
    "mapa_vuelo_pivot=mapa_vuelo.pivot(index='Month',columns='Day',values='ArrDelay').fillna(0)\n",
    "\n",
    "# Tabla distribución retraso por fecha\n",
    "sns.heatmap(mapa_vuelo_pivot,\n",
    "            cmap='Reds',\n",
    "            square=True,\n",
    "            linewidths=0.05,\n",
    "            ax=ax1);\n",
    "\n",
    "ax1.set(title='Numero de vuelos por fecha',\n",
    "        xlabel='')\n",
    "\n",
    "\n",
    "# Ax2 - Minutos de retraso por fecha\n",
    "# Preparación de la tabla\n",
    "mapa_retraso=df.groupby(['Month','Day'])[['ArrDelay']].median().reset_index()\n",
    "mapa_retraso_pivot=mapa_retraso.pivot(index='Month',columns='Day',values='ArrDelay').fillna(0)\n",
    "\n",
    "# Tabla distribución retraso por fecha\n",
    "sns.heatmap(mapa_retraso_pivot,\n",
    "            cmap='Blues',\n",
    "            square=True,\n",
    "            linewidths=0.05,\n",
    "           # center=15,\n",
    "            ax=ax2)\n",
    "\n",
    "ax2.set(title='Minutos de retraso por fecha');\n",
    "\n",
    "\n"
   ]
  },
  {
   "cell_type": "markdown",
   "metadata": {},
   "source": [
    "De nuevo parece verse una tendencia a aumentar el tiempo de retraso medio cuando hay mayor número de vuelos.\n",
    "\n",
    "Los mejores meses para volar fueron septiembre y octubre. Los peores periodos en cuanto a retraso los encontramos en las semanas previas a navidad, final de moviembre o la semana anterior al 14/7. "
   ]
  },
  {
   "cell_type": "markdown",
   "metadata": {},
   "source": [
    "## 3.3. Retrasos por compañías."
   ]
  },
  {
   "cell_type": "markdown",
   "metadata": {},
   "source": [
    "Queremos conocer ahora que compañías acumulan más retrasos, cuales tienen retrasos mayores y si esto es función de la flota."
   ]
  },
  {
   "cell_type": "code",
   "execution_count": 93,
   "metadata": {},
   "outputs": [
    {
     "data": {
      "text/plain": [
       "array(['WN', 'XE', 'YV', 'OH', 'OO', 'UA', 'US', 'DL', 'EV', 'F9', 'FL',\n",
       "       'HA', 'MQ', 'NW', '9E', 'AA', 'AQ', 'AS', 'B6', 'CO'], dtype=object)"
      ]
     },
     "execution_count": 93,
     "metadata": {},
     "output_type": "execute_result"
    }
   ],
   "source": [
    "df['UniqueCarrier'].unique()"
   ]
  },
  {
   "cell_type": "code",
   "execution_count": 94,
   "metadata": {},
   "outputs": [
    {
     "data": {
      "image/png": "[encoded data removed]",
      "text/plain": [
       "<Figure size 1008x576 with 2 Axes>"
      ]
     },
     "metadata": {
      "needs_background": "light"
     },
     "output_type": "display_data"
    }
   ],
   "source": [
    "# Crear la figura\n",
    "fig,(ax1,ax2)= plt.subplots(figsize=(14,8),nrows=2,ncols=1,sharex=False)\n",
    "\n",
    "#Ax1 - Principlaes comapañías aéreas por volumen de vuelos\n",
    "figura1=df.UniqueCarrier.value_counts().sort_values(ascending=False)\n",
    "\n",
    "# Dibujar el gráfico\n",
    "ax1.bar(x= figura1.index,\n",
    "        height=figura1.values,)\n",
    "\n",
    "# Customizar la imagen\n",
    "# Dibujar una línea vertical con el valor de la media de vuelos\n",
    "ax1.axhline(y=figura1.values.mean(),\n",
    "           color='r',\n",
    "           linestyle='-.',\n",
    "           linewidth= 1)\n",
    "# Anotación\n",
    "ax1.annotate('Media de vuelos anuales\\n por compañía: '+str(int(figura1.values.mean())),\n",
    "            xy=(10,figura1.values.mean()),\n",
    "            xytext=(8,200000),\n",
    "            arrowprops=dict(arrowstyle='->'))\n",
    "# Títulos\n",
    "ax1.set(title='Principales líneas aéreas',\n",
    "       ylabel='Número de vuelos anuales',);\n",
    "\n",
    "\n",
    "# Preparar los datos\n",
    "figura31=df.groupby('UniqueCarrier').ArrDelay.agg(['median','count']).sort_values(by='count', ascending=False)\n",
    "# Ax2\n",
    "# Dibujar el gráfico\n",
    "ax2.bar(x=figura31.index,\n",
    "       height=figura31['median'],)\n",
    "\n",
    "# Customizar la imagen\n",
    "# Añadir titulos\n",
    "ax2.set(title='Mediana de retraso por compañía',\n",
    "       ylabel='Minutos de retraso',)\n",
    "\n",
    "# Anotaciones\n",
    "# Linea horizontal\n",
    "ax2.axhline(df.ArrDelay.median(),color='r',linestyle='-.')\n",
    "# Anotación\n",
    "ax2.annotate('Mediana de\\n retraso anual '+str(df.ArrDelay.median())+' min.',\n",
    "           xy=(17,df.ArrDelay.median()),\n",
    "           xytext=(16,31),\n",
    "          arrowprops=dict(arrowstyle='->'));\n",
    "\n",
    "\n",
    "\n",
    "# Guardar imagen\n",
    "#plt.savefig('valor_mediano_ArrDelay_por_compañia',dpi=200)\n",
    "\n"
   ]
  },
  {
   "cell_type": "code",
   "execution_count": 95,
   "metadata": {},
   "outputs": [
    {
     "data": {
      "text/html": [
       "<div>\n",
       "<style scoped>\n",
       "    .dataframe tbody tr th:only-of-type {\n",
       "        vertical-align: middle;\n",
       "    }\n",
       "\n",
       "    .dataframe tbody tr th {\n",
       "        vertical-align: top;\n",
       "    }\n",
       "\n",
       "    .dataframe thead th {\n",
       "        text-align: right;\n",
       "    }\n",
       "</style>\n",
       "<table border=\"1\" class=\"dataframe\">\n",
       "  <thead>\n",
       "    <tr style=\"text-align: right;\">\n",
       "      <th></th>\n",
       "      <th></th>\n",
       "      <th>Retraso (mediana)</th>\n",
       "      <th>Retraso acumulado (suma)</th>\n",
       "      <th>total de vuelos</th>\n",
       "    </tr>\n",
       "    <tr>\n",
       "      <th>UniqueCarrier</th>\n",
       "      <th>CarrierName</th>\n",
       "      <th></th>\n",
       "      <th></th>\n",
       "      <th></th>\n",
       "    </tr>\n",
       "  </thead>\n",
       "  <tbody>\n",
       "    <tr>\n",
       "      <th>YV</th>\n",
       "      <th>Mesa Airlines Inc.</th>\n",
       "      <td>34.0</td>\n",
       "      <td>3691461.0</td>\n",
       "      <td>66769</td>\n",
       "    </tr>\n",
       "    <tr>\n",
       "      <th>B6</th>\n",
       "      <th>JetBlue Airways</th>\n",
       "      <td>33.0</td>\n",
       "      <td>3025749.0</td>\n",
       "      <td>54925</td>\n",
       "    </tr>\n",
       "    <tr>\n",
       "      <th>OH</th>\n",
       "      <th>Comair Inc.</th>\n",
       "      <td>33.0</td>\n",
       "      <td>2675993.0</td>\n",
       "      <td>52453</td>\n",
       "    </tr>\n",
       "    <tr>\n",
       "      <th>XE</th>\n",
       "      <th>Expressjet Airlines Inc.</th>\n",
       "      <td>30.0</td>\n",
       "      <td>5176042.0</td>\n",
       "      <td>103147</td>\n",
       "    </tr>\n",
       "    <tr>\n",
       "      <th>AA</th>\n",
       "      <th>American Airlines Inc.</th>\n",
       "      <td>29.0</td>\n",
       "      <td>8889066.0</td>\n",
       "      <td>190910</td>\n",
       "    </tr>\n",
       "    <tr>\n",
       "      <th>UA</th>\n",
       "      <th>United Air Lines Inc.</th>\n",
       "      <td>29.0</td>\n",
       "      <td>6733013.0</td>\n",
       "      <td>140904</td>\n",
       "    </tr>\n",
       "    <tr>\n",
       "      <th>MQ</th>\n",
       "      <th>American Eagle Airlines Inc.</th>\n",
       "      <td>28.0</td>\n",
       "      <td>6396704.0</td>\n",
       "      <td>141223</td>\n",
       "    </tr>\n",
       "    <tr>\n",
       "      <th>9E</th>\n",
       "      <th>Pinnacle Airlines Inc.</th>\n",
       "      <td>28.0</td>\n",
       "      <td>2420468.0</td>\n",
       "      <td>51569</td>\n",
       "    </tr>\n",
       "    <tr>\n",
       "      <th>EV</th>\n",
       "      <th>Atlantic Southeast Airlines</th>\n",
       "      <td>28.0</td>\n",
       "      <td>3888131.0</td>\n",
       "      <td>81762</td>\n",
       "    </tr>\n",
       "    <tr>\n",
       "      <th>NW</th>\n",
       "      <th>Northwest Airlines Inc.</th>\n",
       "      <td>27.0</td>\n",
       "      <td>3462075.0</td>\n",
       "      <td>78843</td>\n",
       "    </tr>\n",
       "    <tr>\n",
       "      <th>OO</th>\n",
       "      <th>Skywest Airlines Inc.</th>\n",
       "      <td>27.0</td>\n",
       "      <td>5978936.0</td>\n",
       "      <td>131780</td>\n",
       "    </tr>\n",
       "    <tr>\n",
       "      <th>FL</th>\n",
       "      <th>AirTran Airways Corporation</th>\n",
       "      <td>25.0</td>\n",
       "      <td>3100150.0</td>\n",
       "      <td>70969</td>\n",
       "    </tr>\n",
       "    <tr>\n",
       "      <th>DL</th>\n",
       "      <th>Delta Air Lines Inc.</th>\n",
       "      <td>23.0</td>\n",
       "      <td>4535644.0</td>\n",
       "      <td>113728</td>\n",
       "    </tr>\n",
       "    <tr>\n",
       "      <th>AS</th>\n",
       "      <th>Alaska Airlines Inc.</th>\n",
       "      <td>22.0</td>\n",
       "      <td>1406735.0</td>\n",
       "      <td>39010</td>\n",
       "    </tr>\n",
       "    <tr>\n",
       "      <th>CO</th>\n",
       "      <th>Continental Air Lines Inc.</th>\n",
       "      <td>21.0</td>\n",
       "      <td>4045932.0</td>\n",
       "      <td>99731</td>\n",
       "    </tr>\n",
       "    <tr>\n",
       "      <th>US</th>\n",
       "      <th>US Airways Inc. (Merged with America West 9/05. Reporting for both starting 10/07.)</th>\n",
       "      <td>21.0</td>\n",
       "      <td>3571867.0</td>\n",
       "      <td>98007</td>\n",
       "    </tr>\n",
       "    <tr>\n",
       "      <th>HA</th>\n",
       "      <th>Hawaiian Airlines Inc.</th>\n",
       "      <td>18.0</td>\n",
       "      <td>255613.0</td>\n",
       "      <td>7472</td>\n",
       "    </tr>\n",
       "    <tr>\n",
       "      <th>F9</th>\n",
       "      <th>Frontier Airlines Inc.</th>\n",
       "      <td>17.0</td>\n",
       "      <td>788460.0</td>\n",
       "      <td>28222</td>\n",
       "    </tr>\n",
       "    <tr>\n",
       "      <th>WN</th>\n",
       "      <th>Southwest Airlines Co.</th>\n",
       "      <td>17.0</td>\n",
       "      <td>11319092.0</td>\n",
       "      <td>376201</td>\n",
       "    </tr>\n",
       "    <tr>\n",
       "      <th>AQ</th>\n",
       "      <th>Aloha Airlines Inc.</th>\n",
       "      <td>13.0</td>\n",
       "      <td>15814.0</td>\n",
       "      <td>744</td>\n",
       "    </tr>\n",
       "  </tbody>\n",
       "</table>\n",
       "</div>"
      ],
      "text/plain": [
       "                                                                  Retraso (mediana)  \\\n",
       "UniqueCarrier CarrierName                                                             \n",
       "YV            Mesa Airlines Inc.                                               34.0   \n",
       "B6            JetBlue Airways                                                  33.0   \n",
       "OH            Comair Inc.                                                      33.0   \n",
       "XE            Expressjet Airlines Inc.                                         30.0   \n",
       "AA            American Airlines Inc.                                           29.0   \n",
       "UA            United Air Lines Inc.                                            29.0   \n",
       "MQ            American Eagle Airlines Inc.                                     28.0   \n",
       "9E            Pinnacle Airlines Inc.                                           28.0   \n",
       "EV            Atlantic Southeast Airlines                                      28.0   \n",
       "NW            Northwest Airlines Inc.                                          27.0   \n",
       "OO            Skywest Airlines Inc.                                            27.0   \n",
       "FL            AirTran Airways Corporation                                      25.0   \n",
       "DL            Delta Air Lines Inc.                                             23.0   \n",
       "AS            Alaska Airlines Inc.                                             22.0   \n",
       "CO            Continental Air Lines Inc.                                       21.0   \n",
       "US            US Airways Inc. (Merged with America West 9/05....               21.0   \n",
       "HA            Hawaiian Airlines Inc.                                           18.0   \n",
       "F9            Frontier Airlines Inc.                                           17.0   \n",
       "WN            Southwest Airlines Co.                                           17.0   \n",
       "AQ            Aloha Airlines Inc.                                              13.0   \n",
       "\n",
       "                                                                  Retraso acumulado (suma)  \\\n",
       "UniqueCarrier CarrierName                                                                    \n",
       "YV            Mesa Airlines Inc.                                                 3691461.0   \n",
       "B6            JetBlue Airways                                                    3025749.0   \n",
       "OH            Comair Inc.                                                        2675993.0   \n",
       "XE            Expressjet Airlines Inc.                                           5176042.0   \n",
       "AA            American Airlines Inc.                                             8889066.0   \n",
       "UA            United Air Lines Inc.                                              6733013.0   \n",
       "MQ            American Eagle Airlines Inc.                                       6396704.0   \n",
       "9E            Pinnacle Airlines Inc.                                             2420468.0   \n",
       "EV            Atlantic Southeast Airlines                                        3888131.0   \n",
       "NW            Northwest Airlines Inc.                                            3462075.0   \n",
       "OO            Skywest Airlines Inc.                                              5978936.0   \n",
       "FL            AirTran Airways Corporation                                        3100150.0   \n",
       "DL            Delta Air Lines Inc.                                               4535644.0   \n",
       "AS            Alaska Airlines Inc.                                               1406735.0   \n",
       "CO            Continental Air Lines Inc.                                         4045932.0   \n",
       "US            US Airways Inc. (Merged with America West 9/05....                 3571867.0   \n",
       "HA            Hawaiian Airlines Inc.                                              255613.0   \n",
       "F9            Frontier Airlines Inc.                                              788460.0   \n",
       "WN            Southwest Airlines Co.                                            11319092.0   \n",
       "AQ            Aloha Airlines Inc.                                                  15814.0   \n",
       "\n",
       "                                                                  total de vuelos  \n",
       "UniqueCarrier CarrierName                                                          \n",
       "YV            Mesa Airlines Inc.                                            66769  \n",
       "B6            JetBlue Airways                                               54925  \n",
       "OH            Comair Inc.                                                   52453  \n",
       "XE            Expressjet Airlines Inc.                                     103147  \n",
       "AA            American Airlines Inc.                                       190910  \n",
       "UA            United Air Lines Inc.                                        140904  \n",
       "MQ            American Eagle Airlines Inc.                                 141223  \n",
       "9E            Pinnacle Airlines Inc.                                        51569  \n",
       "EV            Atlantic Southeast Airlines                                   81762  \n",
       "NW            Northwest Airlines Inc.                                       78843  \n",
       "OO            Skywest Airlines Inc.                                        131780  \n",
       "FL            AirTran Airways Corporation                                   70969  \n",
       "DL            Delta Air Lines Inc.                                         113728  \n",
       "AS            Alaska Airlines Inc.                                          39010  \n",
       "CO            Continental Air Lines Inc.                                    99731  \n",
       "US            US Airways Inc. (Merged with America West 9/05....            98007  \n",
       "HA            Hawaiian Airlines Inc.                                         7472  \n",
       "F9            Frontier Airlines Inc.                                        28222  \n",
       "WN            Southwest Airlines Co.                                       376201  \n",
       "AQ            Aloha Airlines Inc.                                             744  "
      ]
     },
     "execution_count": 95,
     "metadata": {},
     "output_type": "execute_result"
    }
   ],
   "source": [
    "# Retraso promedio (mediana), retraso acumulado y número de vuelos en función de la compañía. \n",
    "df.groupby(['UniqueCarrier','CarrierName'])['ArrDelay'].agg([('Retraso (mediana)','median'),('Retraso acumulado (suma)','sum'),('total de vuelos','count')]).sort_values(by='Retraso (mediana)', ascending=[False])"
   ]
  },
  {
   "cell_type": "markdown",
   "metadata": {},
   "source": [
    "En esta tabla se presentan el total de minutos de retraso acumulado, el número de vuelos y la mediana de retraso que tiene cada compañía ordenados de mayor mediana de retraso a menor.\n",
    "\n",
    "Como se aprecia las tres primeras compañías, Mesa, JetBlue y Comair, tienen una mediana de retraso en torno a los 33 minutos y hacen entre 50.000 y 66.00 vuelos al año. \n",
    "\n",
    "United Airlines y American Airlines se sitúan con un retraso de 29 minutos pero con el triple de vuelos.\n",
    "\n",
    "Por último, Southwest Airlines con 376.000 vuelos anuales solo tiene 17 minutos de mediana de retraso.\n"
   ]
  },
  {
   "cell_type": "markdown",
   "metadata": {},
   "source": [
    "### 3.3.1. Año de fabricación del avión, distancia de vuelo y retrasos.\n",
    "\n",
    "A continuación vemos el porcentaje de vuelos por año de fabricación del avión y por distancia de viaje recorrida."
   ]
  },
  {
   "cell_type": "code",
   "execution_count": 96,
   "metadata": {
    "scrolled": true
   },
   "outputs": [
    {
     "data": {
      "image/png": "[encoded data removed]",
      "text/plain": [
       "<Figure size 576x288 with 1 Axes>"
      ]
     },
     "metadata": {
      "needs_background": "light"
     },
     "output_type": "display_data"
    }
   ],
   "source": [
    "fig, (ax1) = plt.subplots(figsize=(8,4))\n",
    "\n",
    "# Pandas plot\n",
    "(\n",
    "(pd.cut(df.YearOfManufact,bins=[1960,1970,1980,1985,1990,1995,2000,2005,2010])\n",
    " .value_counts(normalize=True)*100).sort_index().plot(kind='bar', ax=ax1)\n",
    "    )\n",
    "# Custom plot\n",
    "ax1.set(title='Porcentaje de número de vuelos por año de fabricación del avión')\n",
    "ax1.tick_params(axis='x', labelrotation = 15);\n",
    "\n"
   ]
  },
  {
   "cell_type": "code",
   "execution_count": 97,
   "metadata": {},
   "outputs": [
    {
     "data": {
      "image/png": "[encoded data removed]",
      "text/plain": [
       "<Figure size 576x288 with 1 Axes>"
      ]
     },
     "metadata": {
      "needs_background": "light"
     },
     "output_type": "display_data"
    }
   ],
   "source": [
    "fig, (ax) = plt.subplots(figsize=(8,4))\n",
    "\n",
    "# Pandas plot\n",
    "(\n",
    "(pd.cut(df.Distance,bins=[0,250,500,750,1000,1500,2000,2500,5000])\n",
    " .value_counts(normalize=True)*100).sort_index().plot(kind='bar', ax=ax)\n",
    "    )\n",
    "# Custom plot \n",
    "ax.set(title='Porcentaje de número de vuelos por distancia recorrida')\n",
    "ax.tick_params(axis='x', labelrotation = 15);"
   ]
  },
  {
   "cell_type": "markdown",
   "metadata": {},
   "source": [
    "Si agrupamos por compañía aérea, calculamos año medio de fabricación de la flota, mediana de retraso, número de vuelos, distancia de trayecto media y ordenamos por distancia de mayor a menos, tenemos la siguiente tabla:"
   ]
  },
  {
   "cell_type": "code",
   "execution_count": 98,
   "metadata": {},
   "outputs": [
    {
     "data": {
      "text/html": [
       "<div>\n",
       "<style scoped>\n",
       "    .dataframe tbody tr th:only-of-type {\n",
       "        vertical-align: middle;\n",
       "    }\n",
       "\n",
       "    .dataframe tbody tr th {\n",
       "        vertical-align: top;\n",
       "    }\n",
       "\n",
       "    .dataframe thead th {\n",
       "        text-align: right;\n",
       "    }\n",
       "</style>\n",
       "<table border=\"1\" class=\"dataframe\">\n",
       "  <thead>\n",
       "    <tr style=\"text-align: right;\">\n",
       "      <th></th>\n",
       "      <th></th>\n",
       "      <th>YearOfManufact</th>\n",
       "      <th>ArrDelay</th>\n",
       "      <th>Distance</th>\n",
       "      <th>FlightNum</th>\n",
       "    </tr>\n",
       "    <tr>\n",
       "      <th>UniqueCarrier</th>\n",
       "      <th>CarrierName</th>\n",
       "      <th></th>\n",
       "      <th></th>\n",
       "      <th></th>\n",
       "      <th></th>\n",
       "    </tr>\n",
       "  </thead>\n",
       "  <tbody>\n",
       "    <tr>\n",
       "      <th>CO</th>\n",
       "      <th>Continental Air Lines Inc.</th>\n",
       "      <td>1997.704429</td>\n",
       "      <td>21.0</td>\n",
       "      <td>1091</td>\n",
       "      <td>100195</td>\n",
       "    </tr>\n",
       "    <tr>\n",
       "      <th>AA</th>\n",
       "      <th>American Airlines Inc.</th>\n",
       "      <td>1986.537881</td>\n",
       "      <td>29.0</td>\n",
       "      <td>1045</td>\n",
       "      <td>191865</td>\n",
       "    </tr>\n",
       "    <tr>\n",
       "      <th>B6</th>\n",
       "      <th>JetBlue Airways</th>\n",
       "      <td>2004.636049</td>\n",
       "      <td>33.0</td>\n",
       "      <td>1035</td>\n",
       "      <td>55315</td>\n",
       "    </tr>\n",
       "    <tr>\n",
       "      <th>AS</th>\n",
       "      <th>Alaska Airlines Inc.</th>\n",
       "      <td>1999.002419</td>\n",
       "      <td>22.0</td>\n",
       "      <td>873</td>\n",
       "      <td>39293</td>\n",
       "    </tr>\n",
       "    <tr>\n",
       "      <th>F9</th>\n",
       "      <th>Frontier Airlines Inc.</th>\n",
       "      <td>2003.867053</td>\n",
       "      <td>17.0</td>\n",
       "      <td>862</td>\n",
       "      <td>28267</td>\n",
       "    </tr>\n",
       "    <tr>\n",
       "      <th>UA</th>\n",
       "      <th>United Air Lines Inc.</th>\n",
       "      <td>1994.217707</td>\n",
       "      <td>29.0</td>\n",
       "      <td>853</td>\n",
       "      <td>141426</td>\n",
       "    </tr>\n",
       "    <tr>\n",
       "      <th>DL</th>\n",
       "      <th>Delta Air Lines Inc.</th>\n",
       "      <td>1992.372233</td>\n",
       "      <td>23.0</td>\n",
       "      <td>732</td>\n",
       "      <td>114238</td>\n",
       "    </tr>\n",
       "    <tr>\n",
       "      <th>US</th>\n",
       "      <th>US Airways Inc. (Merged with America West 9/05. Reporting for both starting 10/07.)</th>\n",
       "      <td>1995.863922</td>\n",
       "      <td>21.0</td>\n",
       "      <td>678</td>\n",
       "      <td>98425</td>\n",
       "    </tr>\n",
       "    <tr>\n",
       "      <th>FL</th>\n",
       "      <th>AirTran Airways Corporation</th>\n",
       "      <td>2002.734772</td>\n",
       "      <td>25.0</td>\n",
       "      <td>644</td>\n",
       "      <td>71284</td>\n",
       "    </tr>\n",
       "    <tr>\n",
       "      <th>NW</th>\n",
       "      <th>Northwest Airlines Inc.</th>\n",
       "      <td>1988.637679</td>\n",
       "      <td>27.0</td>\n",
       "      <td>632</td>\n",
       "      <td>79108</td>\n",
       "    </tr>\n",
       "    <tr>\n",
       "      <th>XE</th>\n",
       "      <th>Expressjet Airlines Inc.</th>\n",
       "      <td>2000.968580</td>\n",
       "      <td>30.0</td>\n",
       "      <td>562</td>\n",
       "      <td>103663</td>\n",
       "    </tr>\n",
       "    <tr>\n",
       "      <th>OH</th>\n",
       "      <th>Comair Inc.</th>\n",
       "      <td>1999.987166</td>\n",
       "      <td>33.0</td>\n",
       "      <td>478</td>\n",
       "      <td>52657</td>\n",
       "    </tr>\n",
       "    <tr>\n",
       "      <th>WN</th>\n",
       "      <th>Southwest Airlines Co.</th>\n",
       "      <td>1997.576980</td>\n",
       "      <td>17.0</td>\n",
       "      <td>472</td>\n",
       "      <td>377602</td>\n",
       "    </tr>\n",
       "    <tr>\n",
       "      <th>9E</th>\n",
       "      <th>Pinnacle Airlines Inc.</th>\n",
       "      <td>NaN</td>\n",
       "      <td>28.0</td>\n",
       "      <td>453</td>\n",
       "      <td>51885</td>\n",
       "    </tr>\n",
       "    <tr>\n",
       "      <th>EV</th>\n",
       "      <th>Atlantic Southeast Airlines</th>\n",
       "      <td>2001.256915</td>\n",
       "      <td>28.0</td>\n",
       "      <td>448</td>\n",
       "      <td>81877</td>\n",
       "    </tr>\n",
       "    <tr>\n",
       "      <th>MQ</th>\n",
       "      <th>American Eagle Airlines Inc.</th>\n",
       "      <td>2001.443939</td>\n",
       "      <td>28.0</td>\n",
       "      <td>383</td>\n",
       "      <td>141920</td>\n",
       "    </tr>\n",
       "    <tr>\n",
       "      <th>OO</th>\n",
       "      <th>Skywest Airlines Inc.</th>\n",
       "      <td>2001.175549</td>\n",
       "      <td>27.0</td>\n",
       "      <td>372</td>\n",
       "      <td>132433</td>\n",
       "    </tr>\n",
       "    <tr>\n",
       "      <th>YV</th>\n",
       "      <th>Mesa Airlines Inc.</th>\n",
       "      <td>2000.716637</td>\n",
       "      <td>34.0</td>\n",
       "      <td>344</td>\n",
       "      <td>67063</td>\n",
       "    </tr>\n",
       "    <tr>\n",
       "      <th>AQ</th>\n",
       "      <th>Aloha Airlines Inc.</th>\n",
       "      <td>1990.848974</td>\n",
       "      <td>13.0</td>\n",
       "      <td>216</td>\n",
       "      <td>750</td>\n",
       "    </tr>\n",
       "    <tr>\n",
       "      <th>HA</th>\n",
       "      <th>Hawaiian Airlines Inc.</th>\n",
       "      <td>2000.009042</td>\n",
       "      <td>18.0</td>\n",
       "      <td>163</td>\n",
       "      <td>7490</td>\n",
       "    </tr>\n",
       "  </tbody>\n",
       "</table>\n",
       "</div>"
      ],
      "text/plain": [
       "                                                                  YearOfManufact  \\\n",
       "UniqueCarrier CarrierName                                                          \n",
       "CO            Continental Air Lines Inc.                             1997.704429   \n",
       "AA            American Airlines Inc.                                 1986.537881   \n",
       "B6            JetBlue Airways                                        2004.636049   \n",
       "AS            Alaska Airlines Inc.                                   1999.002419   \n",
       "F9            Frontier Airlines Inc.                                 2003.867053   \n",
       "UA            United Air Lines Inc.                                  1994.217707   \n",
       "DL            Delta Air Lines Inc.                                   1992.372233   \n",
       "US            US Airways Inc. (Merged with America West 9/05....     1995.863922   \n",
       "FL            AirTran Airways Corporation                            2002.734772   \n",
       "NW            Northwest Airlines Inc.                                1988.637679   \n",
       "XE            Expressjet Airlines Inc.                               2000.968580   \n",
       "OH            Comair Inc.                                            1999.987166   \n",
       "WN            Southwest Airlines Co.                                 1997.576980   \n",
       "9E            Pinnacle Airlines Inc.                                         NaN   \n",
       "EV            Atlantic Southeast Airlines                            2001.256915   \n",
       "MQ            American Eagle Airlines Inc.                           2001.443939   \n",
       "OO            Skywest Airlines Inc.                                  2001.175549   \n",
       "YV            Mesa Airlines Inc.                                     2000.716637   \n",
       "AQ            Aloha Airlines Inc.                                    1990.848974   \n",
       "HA            Hawaiian Airlines Inc.                                 2000.009042   \n",
       "\n",
       "                                                                  ArrDelay  \\\n",
       "UniqueCarrier CarrierName                                                    \n",
       "CO            Continental Air Lines Inc.                              21.0   \n",
       "AA            American Airlines Inc.                                  29.0   \n",
       "B6            JetBlue Airways                                         33.0   \n",
       "AS            Alaska Airlines Inc.                                    22.0   \n",
       "F9            Frontier Airlines Inc.                                  17.0   \n",
       "UA            United Air Lines Inc.                                   29.0   \n",
       "DL            Delta Air Lines Inc.                                    23.0   \n",
       "US            US Airways Inc. (Merged with America West 9/05....      21.0   \n",
       "FL            AirTran Airways Corporation                             25.0   \n",
       "NW            Northwest Airlines Inc.                                 27.0   \n",
       "XE            Expressjet Airlines Inc.                                30.0   \n",
       "OH            Comair Inc.                                             33.0   \n",
       "WN            Southwest Airlines Co.                                  17.0   \n",
       "9E            Pinnacle Airlines Inc.                                  28.0   \n",
       "EV            Atlantic Southeast Airlines                             28.0   \n",
       "MQ            American Eagle Airlines Inc.                            28.0   \n",
       "OO            Skywest Airlines Inc.                                   27.0   \n",
       "YV            Mesa Airlines Inc.                                      34.0   \n",
       "AQ            Aloha Airlines Inc.                                     13.0   \n",
       "HA            Hawaiian Airlines Inc.                                  18.0   \n",
       "\n",
       "                                                                  Distance  \\\n",
       "UniqueCarrier CarrierName                                                    \n",
       "CO            Continental Air Lines Inc.                              1091   \n",
       "AA            American Airlines Inc.                                  1045   \n",
       "B6            JetBlue Airways                                         1035   \n",
       "AS            Alaska Airlines Inc.                                     873   \n",
       "F9            Frontier Airlines Inc.                                   862   \n",
       "UA            United Air Lines Inc.                                    853   \n",
       "DL            Delta Air Lines Inc.                                     732   \n",
       "US            US Airways Inc. (Merged with America West 9/05....       678   \n",
       "FL            AirTran Airways Corporation                              644   \n",
       "NW            Northwest Airlines Inc.                                  632   \n",
       "XE            Expressjet Airlines Inc.                                 562   \n",
       "OH            Comair Inc.                                              478   \n",
       "WN            Southwest Airlines Co.                                   472   \n",
       "9E            Pinnacle Airlines Inc.                                   453   \n",
       "EV            Atlantic Southeast Airlines                              448   \n",
       "MQ            American Eagle Airlines Inc.                             383   \n",
       "OO            Skywest Airlines Inc.                                    372   \n",
       "YV            Mesa Airlines Inc.                                       344   \n",
       "AQ            Aloha Airlines Inc.                                      216   \n",
       "HA            Hawaiian Airlines Inc.                                   163   \n",
       "\n",
       "                                                                  FlightNum  \n",
       "UniqueCarrier CarrierName                                                    \n",
       "CO            Continental Air Lines Inc.                             100195  \n",
       "AA            American Airlines Inc.                                 191865  \n",
       "B6            JetBlue Airways                                         55315  \n",
       "AS            Alaska Airlines Inc.                                    39293  \n",
       "F9            Frontier Airlines Inc.                                  28267  \n",
       "UA            United Air Lines Inc.                                  141426  \n",
       "DL            Delta Air Lines Inc.                                   114238  \n",
       "US            US Airways Inc. (Merged with America West 9/05....      98425  \n",
       "FL            AirTran Airways Corporation                             71284  \n",
       "NW            Northwest Airlines Inc.                                 79108  \n",
       "XE            Expressjet Airlines Inc.                               103663  \n",
       "OH            Comair Inc.                                             52657  \n",
       "WN            Southwest Airlines Co.                                 377602  \n",
       "9E            Pinnacle Airlines Inc.                                  51885  \n",
       "EV            Atlantic Southeast Airlines                             81877  \n",
       "MQ            American Eagle Airlines Inc.                           141920  \n",
       "OO            Skywest Airlines Inc.                                  132433  \n",
       "YV            Mesa Airlines Inc.                                      67063  \n",
       "AQ            Aloha Airlines Inc.                                       750  \n",
       "HA            Hawaiian Airlines Inc.                                   7490  "
      ]
     },
     "execution_count": 98,
     "metadata": {},
     "output_type": "execute_result"
    }
   ],
   "source": [
    "# Año de fabricación promedio de todos los vuelos, retraso medio y distancia media por compañía.\n",
    "delay_carrier=df.groupby(['UniqueCarrier','CarrierName']).agg({'YearOfManufact':'mean',\n",
    "                                                               'ArrDelay':'median',\n",
    "                                                               'Distance':'median',\n",
    "                                                               'FlightNum':'count'}).sort_values(by=('Distance'),\n",
    "                                                                                                 ascending=[False])\n",
    "delay_carrier\n"
   ]
  },
  {
   "cell_type": "markdown",
   "metadata": {},
   "source": [
    "Si agrupamos los promedios de distancia de vuelo, fecha y retraso por compañía no se observa un patron claro entre el retraso y otras variables. Probablemente hay algún factor más que influye en el retraso."
   ]
  },
  {
   "cell_type": "code",
   "execution_count": 99,
   "metadata": {},
   "outputs": [
    {
     "data": {
      "image/png": "[encoded data removed]",
      "text/plain": [
       "<Figure size 1152x432 with 2 Axes>"
      ]
     },
     "metadata": {
      "needs_background": "light"
     },
     "output_type": "display_data"
    }
   ],
   "source": [
    "\n",
    "# Preparar datos\n",
    "delay_yoM=df.groupby(['YearOfManufact']).agg({'ArrDelay':'median',\n",
    "                                              'Distance':'median',\n",
    "                                              'FlightNum':'count'}).sort_values(by=('ArrDelay'), ascending=False)\n",
    "\n",
    "# Crear figura\n",
    "\n",
    "fig, (ax1,ax2) = plt.subplots(figsize=(16,6),ncols=2,nrows=1)\n",
    "\n",
    "#ax - Retraso vs año de fabricación\n",
    "sns.scatterplot(data=delay_yoM,\n",
    "                x='ArrDelay',\n",
    "                y='YearOfManufact',\n",
    "                hue='Distance',\n",
    "                ax=ax1)\n",
    "\n",
    "# Customizar la imagen\n",
    "# Añadir titulos\n",
    "ax1.set(title='Relación entre año fabricación y retraso',\n",
    "       ylabel='Año de fabricación',)\n",
    "\n",
    "\n",
    "#ax2 - Distancia vs año de fabricación\n",
    "sns.scatterplot(data=delay_yoM,\n",
    "                y='YearOfManufact',\n",
    "                x='Distance',\n",
    "                size='FlightNum',\n",
    "                sizes=(25,150),\n",
    "                ax=ax2);\n",
    "\n",
    "# Customizar la imagen\n",
    "# Añadir titulos\n",
    "ax2.set(title='Relación entre año fabricación y distancia del vuelo',\n",
    "       ylabel='',);\n",
    "\n"
   ]
  },
  {
   "cell_type": "markdown",
   "metadata": {},
   "source": [
    "Lo que podemos deducir de estos gráficos es:\n",
    "\n",
    "1. Parece que hay una cierta tendencia a que aviones más antiguos acumulen más retrasos pero no es muy clara.\n",
    "2. La mayoría de los vuelos son operados por aviones con fecha de fabricación mayor de 1990.\n",
    "3. Distancias de vuelo promedio superior a 1500 km son operadas poraviones de entre 1960 y 1975.\n",
    "4. Más de un 70% de los trayectos tienen una distancia inferior a las 1000 millas.\n"
   ]
  },
  {
   "cell_type": "markdown",
   "metadata": {},
   "source": [
    "## 3.4. Origenes y destinos."
   ]
  },
  {
   "cell_type": "markdown",
   "metadata": {},
   "source": [
    "Arranco esta sección haciendome una preguna: ¿influye en el retraso el origen y el destino de mi viaje? Podría tener cierta lógica que aeropuertos con más tráfico acumulen más retrasos, vamos a ver lo que nos dicen los datos.\n"
   ]
  },
  {
   "cell_type": "markdown",
   "metadata": {},
   "source": [
    "### 3.4.1. Aeropuertos. Volumen de tráfico y retraso medio."
   ]
  },
  {
   "cell_type": "markdown",
   "metadata": {},
   "source": [
    "Vamos a ver cuales son los aeropuertos con mayor número de salidas y cual es su tiempo promedio de retraso a la salida."
   ]
  },
  {
   "cell_type": "code",
   "execution_count": 100,
   "metadata": {},
   "outputs": [
    {
     "data": {
      "image/png": "[encoded data removed]",
      "text/plain": [
       "<Figure size 1008x432 with 2 Axes>"
      ]
     },
     "metadata": {
      "needs_background": "light"
     },
     "output_type": "display_data"
    }
   ],
   "source": [
    "fig,ax=plt.subplots(figsize=(14,6))\n",
    "\n",
    "# Top.15 Aeropuertos con mayor número de salidas\n",
    "airports=df.groupby(['Origin',\n",
    "                     'city_or',\n",
    "                     'state_or']).agg({'FlightNum':'count',\n",
    "                                       'DepDelay':'median'}).sort_values(by='FlightNum',ascending=False).head(15)\n",
    "\n",
    "#AX1. Top 15 aeropuertos por número de vuelos.\n",
    "sns.countplot(data=df,\n",
    "              x='city_or',\n",
    "              order=df.city_or.value_counts().iloc[:15].index,\n",
    "              #palette='Reds_r',\n",
    "              color='indianred')\n",
    "\n",
    "# Ax1 custom.\n",
    "ax.set_title('Top 15 Aeropuertos con más salidas y retraso promedio')\n",
    "ax.set_xlabel(None)\n",
    "ax.tick_params(axis='x',labelsize=9, rotation=70)\n",
    "ax.set_ylabel(\"Numero de vuelos\",color=\"firebrick\")\n",
    "ax.tick_params(axis='y',labelcolor='firebrick')\n",
    "\n",
    "\n",
    "# Segundo eje\n",
    "ax2=ax.twinx()\n",
    "\n",
    "# plot Ax2\n",
    "sns.lineplot(data=airports,\n",
    "             x='city_or',\n",
    "             y='DepDelay',\n",
    "             color='royalblue',\n",
    "             linewidth=1,\n",
    "             linestyle='--',\n",
    "             marker='o',\n",
    "             ax=ax2)\n",
    "\n",
    "# Ax2 Custom\n",
    "ax2.set_ylabel(\"Retraso a la salida promedio\",color=\"royalblue\")\n",
    "ax2.tick_params(axis='y',labelcolor='royalblue')\n",
    "ax2.set_ylim((0,45));\n"
   ]
  },
  {
   "cell_type": "markdown",
   "metadata": {},
   "source": [
    "En este gráfico podemos observar que el aeropuerto de atlanta consigue unos tiempos de retraso inferiores a los esperados teniendo en cuenta en número de vuelos que tiene. \n",
    "\n",
    "Además vemos que hay una tendencia a disminuir el retraso a la salida conforme disminuye el tráfico hasta un cierto valor de trafico anual (entre 60k y 70k vuelos anuales) por debajo del cual parece que vuelve a aumentar el retraso."
   ]
  },
  {
   "cell_type": "code",
   "execution_count": 101,
   "metadata": {},
   "outputs": [
    {
     "data": {
      "image/png": "[encoded data removed]",
      "text/plain": [
       "<Figure size 1008x432 with 2 Axes>"
      ]
     },
     "metadata": {
      "needs_background": "light"
     },
     "output_type": "display_data"
    }
   ],
   "source": [
    "\n",
    "fig,ax=plt.subplots(figsize=(14,6))\n",
    "\n",
    "# Top.15 Aeropuertos con mayor número de llegadas\n",
    "airports_dest=df.groupby(['Dest',\n",
    "                     'city_dest',\n",
    "                     'state_dest']).agg({'FlightNum':'count',\n",
    "                                         'ArrDelay':'median'}).sort_values(by='FlightNum',ascending=False).head(16)\n",
    "\n",
    "\n",
    "#AX1. Top 15 aeropuertos por número de vuelos.\n",
    "sns.countplot(data=df,\n",
    "              x='city_dest',\n",
    "              order=df.city_dest.value_counts().iloc[:15].index,\n",
    "              #palette='Reds_r',\n",
    "              color='indianred')\n",
    "\n",
    "# Ax1 custom.\n",
    "ax.set_title('Top 15 Aeropuertos con más llegadas y retraso promedio')\n",
    "ax.set_xlabel(None)\n",
    "ax.tick_params(axis='x',labelsize=9, rotation=70)\n",
    "ax.set_ylabel(\"Numero de vuelos\",color=\"firebrick\")\n",
    "ax.tick_params(axis='y',labelcolor='firebrick')\n",
    "\n",
    "\n",
    "# Segundo eje\n",
    "ax2=ax.twinx()\n",
    "\n",
    "# plot Ax2\n",
    "sns.lineplot(data=airports_dest,\n",
    "             x='city_dest',\n",
    "             y='ArrDelay',\n",
    "             color='royalblue',\n",
    "             linewidth=1,\n",
    "             linestyle='--',\n",
    "             marker='o',\n",
    "             ax=ax2)\n",
    "\n",
    "# Ax2 Custom\n",
    "ax2.set_ylabel(\"Retraso a la salida promedio\",color=\"royalblue\")\n",
    "ax2.tick_params(axis='y',labelcolor='royalblue')\n",
    "ax2.set_ylim((0,45));\n",
    "\n"
   ]
  },
  {
   "cell_type": "markdown",
   "metadata": {},
   "source": [
    "En este caso no se observa una tendencia clara, puesto que el retraso a la llegada está influido por el retraso a la salida."
   ]
  },
  {
   "cell_type": "code",
   "execution_count": null,
   "metadata": {},
   "outputs": [],
   "source": []
  },
  {
   "cell_type": "code",
   "execution_count": 102,
   "metadata": {},
   "outputs": [
    {
     "data": {
      "image/png": "[encoded data removed]",
      "text/plain": [
       "<Figure size 864x576 with 1 Axes>"
      ]
     },
     "metadata": {
      "needs_background": "light"
     },
     "output_type": "display_data"
    }
   ],
   "source": [
    "# Aerpuertos de origen y retraso.\n",
    "origen=df.groupby(['Origin','city_or','state_or']).agg({'DepDelay':'median','FlightNum':'count'}).sort_values(by='DepDelay',ascending=False)\n",
    "\n",
    "# Crear fig / ax\n",
    "fig,ax=plt.subplots(figsize=(12,8))\n",
    "\n",
    "# Ax - Retraso medio en aeropuerto de origen por número de vuelos anuales \n",
    "sns.scatterplot(data=origen.query('FlightNum>732'),\n",
    "                y='DepDelay',\n",
    "                x='FlightNum',\n",
    "                alpha=0.8)\n",
    "\n",
    "# Escala logarítmica\n",
    "plt.xscale('log')\n",
    "\n",
    "# Custom\n",
    "ax.set(title='Retraso medio en aeropuerto de origen por número de vuelos anuales',\n",
    "       xlabel='Numero de vuelos (escala logarítmica)',\n",
    "       ylabel='Retraso medio a la salida por aeropuerto');"
   ]
  },
  {
   "cell_type": "markdown",
   "metadata": {},
   "source": [
    "Parece que existe tendencia a que aeropuertos con menos tráfico presenten mayor retraso medio de salida, cambiando esta tendencia en aerpuertos a partir de 10.000 vuelos anuales."
   ]
  },
  {
   "cell_type": "code",
   "execution_count": 103,
   "metadata": {},
   "outputs": [
    {
     "data": {
      "image/png": "[encoded data removed]",
      "text/plain": [
       "<Figure size 864x576 with 1 Axes>"
      ]
     },
     "metadata": {
      "needs_background": "light"
     },
     "output_type": "display_data"
    }
   ],
   "source": [
    "# Aeropuertos de destino y retrasos.\n",
    "destino=df.groupby(['Dest','city_dest','state_dest']).agg({'ArrDelay':'median','FlightNum':'count'}).sort_values(by='ArrDelay',ascending=False)\n",
    "\n",
    "# Crear fig / ax\n",
    "fig,ax=plt.subplots(figsize=(12,8))\n",
    "\n",
    "# Ax - Retraso medio en aeropuerto de origen por número de vuelos anuales \n",
    "sns.scatterplot(data=destino.query('FlightNum>732'),\n",
    "                y='ArrDelay',\n",
    "                x='FlightNum',\n",
    "                alpha=0.8)\n",
    "\n",
    "# Escala logarítmica\n",
    "plt.xscale('log')\n",
    "\n",
    "# Custom\n",
    "ax.set(title='Retraso medio en aeropuerto de destino por número de vuelos anuales',\n",
    "       xlabel='Numero de vuelos (escala logarítmica)',\n",
    "       ylabel='Retraso medio a la llegada por aeropuerto');"
   ]
  },
  {
   "cell_type": "markdown",
   "metadata": {},
   "source": [
    "Para aeropuertos con menos de 20.000 vuelos al año (55 vuelos diarios) no se observan tendencia claras entre el retraso y el tráfico. Para aeropuertos con más tráfico parece que hay una ligera tendencia a que  aeropuertos con más tráfico el retraso promedio a la llegada es mayor. "
   ]
  },
  {
   "cell_type": "code",
   "execution_count": null,
   "metadata": {},
   "outputs": [],
   "source": []
  },
  {
   "cell_type": "markdown",
   "metadata": {},
   "source": [
    "### 3.4.2. Estados con mayor volumen de viajeros. Volumen de tráfico y retraso medio."
   ]
  },
  {
   "cell_type": "code",
   "execution_count": 104,
   "metadata": {},
   "outputs": [
    {
     "data": {
      "image/png": "[encoded data removed]",
      "text/plain": [
       "<Figure size 1008x432 with 2 Axes>"
      ]
     },
     "metadata": {},
     "output_type": "display_data"
    }
   ],
   "source": [
    "\n",
    "fig,ax=plt.subplots(figsize=(14,6))\n",
    "\n",
    "# Estados de origen, número de vuelos y retraso.\n",
    "estados_or=df.groupby(['state_or']).agg({'FlightNum':'count',\n",
    "                                         'DepDelay':'median'}).sort_values(by='FlightNum',ascending=False)[0:9]\n",
    "\n",
    "#AX1. Top 10 Estados de origen.\n",
    "sns.barplot(data=estados_or,\n",
    "                y='FlightNum',\n",
    "                x=estados_or.index,)\n",
    "\n",
    "# Ax1 custom.\n",
    "ax.set_title('Top 10 Estados con mayor número de salida de viajeros')\n",
    "ax.set_xlabel(None)\n",
    "ax.set_ylabel(\"Numero de vuelos\")\n",
    "\n",
    "# Segundo eje\n",
    "ax2=ax.twinx()\n",
    "\n",
    "# plot Ax2\n",
    "sns.lineplot(data=estados_or,\n",
    "             x=estados_or.index,\n",
    "             y='DepDelay',\n",
    "             color='darkgrey',\n",
    "             linewidth=1,\n",
    "             linestyle='--',\n",
    "             marker='o',\n",
    "             ax=ax2)\n",
    "\n",
    "# Ax2 Custom\n",
    "ax2.set_ylabel(\"Retraso a la salida promedio\",color=\"darkgrey\")\n",
    "ax2.tick_params(axis='y',labelcolor='darkgrey')\n",
    "ax2.set_ylim((0,40));\n",
    "\n",
    "\n",
    "\n"
   ]
  },
  {
   "cell_type": "code",
   "execution_count": 105,
   "metadata": {
    "scrolled": true
   },
   "outputs": [
    {
     "data": {
      "image/png": "[encoded data removed]",
      "text/plain": [
       "<Figure size 1008x432 with 2 Axes>"
      ]
     },
     "metadata": {},
     "output_type": "display_data"
    }
   ],
   "source": [
    "fig,ax=plt.subplots(figsize=(14,6))\n",
    "\n",
    "# Estados de destino, número de vuelos y retraso\n",
    "estados_dest=df.groupby(['state_dest']).agg({'FlightNum':'count',\n",
    "                                             'ArrDelay':'median'}).sort_values(by='FlightNum',ascending=False)[0:9]\n",
    "\n",
    "#AX1. Top 10 Estados de origen.\n",
    "sns.barplot(data=estados_dest,\n",
    "                y='FlightNum',\n",
    "                x=estados_dest.index,)\n",
    "\n",
    "# Ax1 custom.\n",
    "ax.set_title('Top 10 Estados con mayor número de llegada de viajeros')\n",
    "ax.set_xlabel(None)\n",
    "ax.set_ylabel(\"Numero de vuelos\")\n",
    "\n",
    "# Segundo eje\n",
    "ax2=ax.twinx()\n",
    "\n",
    "# plot Ax2\n",
    "sns.lineplot(data=estados_dest,\n",
    "             x=estados_dest.index,\n",
    "             y='ArrDelay',\n",
    "             color='darkgrey',\n",
    "             linewidth=1,\n",
    "             linestyle='--',\n",
    "             marker='o',\n",
    "             ax=ax2)\n",
    "\n",
    "# Ax2 Custom\n",
    "ax2.set_ylabel(\"Retraso a la llegada promedio\",color=\"darkgrey\")\n",
    "ax2.tick_params(axis='y',labelcolor='darkgrey')\n",
    "ax2.set_ylim((0,40));\n"
   ]
  },
  {
   "cell_type": "markdown",
   "metadata": {},
   "source": [
    "Los cinco estados con mayor tráfico aéreo son California, Texas, Ilinois, Florida y Georgia. El retraso promedio en estos estados está entre 20 y 25 minutos, salvo en el caso de Ilinois que se dispara hasta los 30 minutos."
   ]
  },
  {
   "cell_type": "markdown",
   "metadata": {},
   "source": [
    "### 3.4.3. Rutas aéreas. Volumen de tráfico y retraso medio."
   ]
  },
  {
   "cell_type": "code",
   "execution_count": 106,
   "metadata": {},
   "outputs": [
    {
     "data": {
      "image/png": "[encoded data removed]",
      "text/plain": [
       "<Figure size 1008x576 with 3 Axes>"
      ]
     },
     "metadata": {
      "needs_background": "light"
     },
     "output_type": "display_data"
    }
   ],
   "source": [
    "# Top.15 Trayectos con mayor número viajes\n",
    "fig,(ax1,ax2,ax3)=plt.subplots(figsize=(14,8),ncols=1,nrows=3,tight_layout=True)\n",
    "\n",
    "# Top.15 Trayectos con mayor número viajes\n",
    "rutas=df.groupby('Skyway').agg({'FlightNum':'count',\n",
    "                               'ArrDelay':'median',\n",
    "                               'Distance':'mean'}).sort_values(by='FlightNum',ascending=False)[0:15]\n",
    "rutas['Flights_per_day']=round(rutas.FlightNum/366,1)\n",
    "\n",
    "\n",
    "#AX1. Top 15 aeropuertos por número de vuelos.\n",
    "sns.barplot(data=rutas,\n",
    "                y='Flights_per_day',\n",
    "                x=rutas.index,\n",
    "                color='firebrick',\n",
    "                ax=ax1)\n",
    "\n",
    "ax1.set(title='\\n Rutas con mayor frecuencia. Número de vuelos diario',\n",
    "        xlabel=None,\n",
    "        ylabel=None)\n",
    "\n",
    "#AX2. Top 15 aeropuertos por número de vuelos.\n",
    "sns.barplot(data=rutas,\n",
    "                y='ArrDelay',\n",
    "                x=rutas.index,\n",
    "                color='royalblue',\n",
    "                ax=ax2\n",
    "               )\n",
    "ax2.set(title='\\n Rutas con mayor frecuencia. Retraso promedio',\n",
    "        xlabel=None,\n",
    "        ylabel=None)\n",
    "\n",
    "#AX1. Top 15 aeropuertos por número de vuelos.\n",
    "sns.barplot(data=rutas,\n",
    "                y='Distance',\n",
    "                x=rutas.index,\n",
    "                color='lightgray',\n",
    "                ax=ax3\n",
    "               )\n",
    "ax3.set(title='\\n Rutas con mayor frecuencia. Distancia',\n",
    "        xlabel=None,\n",
    "        ylabel=None);"
   ]
  },
  {
   "cell_type": "markdown",
   "metadata": {},
   "source": [
    "## 3.5. Causas de los retrasos."
   ]
  },
  {
   "cell_type": "markdown",
   "metadata": {},
   "source": [
    "Para estimar la mediana del retraso según la causa podría caer en la tentación de agrupar usando la función aggregate."
   ]
  },
  {
   "cell_type": "code",
   "execution_count": 107,
   "metadata": {},
   "outputs": [
    {
     "data": {
      "text/plain": [
       "CarrierDelay         2.0\n",
       "WeatherDelay         0.0\n",
       "NASDelay             2.0\n",
       "SecurityDelay        0.0\n",
       "LateAircraftDelay    8.0\n",
       "dtype: float64"
      ]
     },
     "execution_count": 107,
     "metadata": {},
     "output_type": "execute_result"
    }
   ],
   "source": [
    "df[['CarrierDelay','WeatherDelay','NASDelay','SecurityDelay','LateAircraftDelay']].agg(('median'))"
   ]
  },
  {
   "cell_type": "markdown",
   "metadata": {},
   "source": [
    "Pero en este caso es más significativo que tenga en cuenta solo aquellos casos que se puedan imputar a cada causa, es decir que deberíamos filtrar y solo hallar el promedio para los casos que sean mayores que cero. "
   ]
  },
  {
   "cell_type": "code",
   "execution_count": 108,
   "metadata": {},
   "outputs": [
    {
     "name": "stdout",
     "output_type": "stream",
     "text": [
      "\n",
      " En un  52.6 % de las ocasiones se imputa un retraso a  CarrierDelay y el valor de la mediana es:  20.0  minutos\n",
      "\n",
      " En un  7.9 % de las ocasiones se imputa un retraso a  WeatherDelay y el valor de la mediana es:  25.0  minutos\n",
      "\n",
      " En un  52.8 % de las ocasiones se imputa un retraso a  NASDelay y el valor de la mediana es:  13.0  minutos\n",
      "\n",
      " En un  0.5 % de las ocasiones se imputa un retraso a  SecurityDelay y el valor de la mediana es:  13.0  minutos\n",
      "\n",
      " En un  55.4 % de las ocasiones se imputa un retraso a  LateAircraftDelay y el valor de la mediana es:  29.0  minutos\n"
     ]
    }
   ],
   "source": [
    "causa_retraso=['CarrierDelay','WeatherDelay','NASDelay','SecurityDelay','LateAircraftDelay']\n",
    "for var in causa_retraso:\n",
    "    print('\\n En un ',round(df[df[var]>0][var].count()/df[var].count()*100,1),'% de las ocasiones se imputa un retraso a ', var, 'y el valor de la mediana es: ',round(df[df[var]>0][var].median(),1), ' minutos')"
   ]
  },
  {
   "cell_type": "markdown",
   "metadata": {},
   "source": [
    "# 4. Conclusiones."
   ]
  },
  {
   "cell_type": "markdown",
   "metadata": {},
   "source": [
    "\n",
    "En este notebook, he trabajado principalmente diferentes funcionalidades de la librería de python Pandas para tratamiento de datos. A lo largo del ejercicio he cargado diferentes archivos en formato CSV y he limpiado y preprocesado los datos. \n",
    "\n",
    "A continuación he trabajado con diferentes opciones de unir los dataframes para extraer datos de otras tablas.\n",
    "\n",
    "Por último he utilizado las funcionalidades que proporciona Pandas para agrupar los datos en funciones de diferentes variables para intentar extraer información."
   ]
  },
  {
   "cell_type": "markdown",
   "metadata": {},
   "source": [
    "En el siguiente ejercicio añadiré o mejoraré los gráficos que acompañam al dataframe."
   ]
  },
  {
   "cell_type": "markdown",
   "metadata": {},
   "source": [
    "Como principales obtenidos del análisis del dataset tenemos los siguientes:\n",
    "\n",
    "- Extiste una relación entre el número de vuelos y la fecha.\n",
    "- En el global se oberva tendencia de que a mayor número de vuelos mayor retrasos.\n",
    "- Los días festivos (4/7 o 25/12)se observan menos tráfico y menos proporción de retrasos.\n",
    "- El restraso a la salida está linealmente relacionado con el retraso a la llegada.\n",
    "- Aviones más antiguos tienden a tener mayores retrasos.\n",
    "- Los retrasos más comunes se deben a la compañía, al vuelo anterior o la NAS.\n",
    "- Es difícil observar un patron claro entre aeropuertos, tráfico aéreo y retraso, (probablemente se deberían de analizar otras variables y tener más información sobre la casuística de aeropuertos más relevantes) pero parece que se podría ver una curva en forma de U, es decir conforme crece el volumen de vuelos de un aeropuerto se observa menor retraso hasta que se llega a un mínimo y entonces los retrasos empiezan a crecer de nuevo con el número de vuelos. "
   ]
  },
  {
   "cell_type": "code",
   "execution_count": null,
   "metadata": {},
   "outputs": [],
   "source": []
  }
 ],
 "metadata": {
  "kernelspec": {
   "display_name": "Python 3",
   "language": "python",
   "name": "python3"
  },
  "language_info": {
   "codemirror_mode": {
    "name": "ipython",
    "version": 3
   },
   "file_extension": ".py",
   "mimetype": "text/x-python",
   "name": "python",
   "nbconvert_exporter": "python",
   "pygments_lexer": "ipython3",
   "version": "3.8.5"
  }
 },
 "nbformat": 4,
 "nbformat_minor": 4
}
